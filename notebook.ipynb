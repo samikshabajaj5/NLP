{
  "cells": [
    {
      "cell_type": "code",
      "execution_count": 169,
      "metadata": {
        "id": "x3RBBspcSxVc"
      },
      "outputs": [],
      "source": [
        "version_fn = getattr(tf.keras, \"version\", None)\n",
        "if version_fn and version_fn().startswith(\"3.\"):\n",
        "  import tf_keras as keras\n",
        "else:\n",
        "  keras = tf.keras\n"
      ]
    },
    {
      "cell_type": "code",
      "execution_count": 170,
      "metadata": {
        "colab": {
          "base_uri": "https://localhost:8080/"
        },
        "id": "lufR1JCgO6RP",
        "outputId": "22b7500c-0ea2-48ee-dad3-eed86d3b3cab"
      },
      "outputs": [
        {
          "name": "stdout",
          "output_type": "stream",
          "text": [
            "Thu Sep 12 11:04:23 2024       \n",
            "+---------------------------------------------------------------------------------------+\n",
            "| NVIDIA-SMI 535.104.05             Driver Version: 535.104.05   CUDA Version: 12.2     |\n",
            "|-----------------------------------------+----------------------+----------------------+\n",
            "| GPU  Name                 Persistence-M | Bus-Id        Disp.A | Volatile Uncorr. ECC |\n",
            "| Fan  Temp   Perf          Pwr:Usage/Cap |         Memory-Usage | GPU-Util  Compute M. |\n",
            "|                                         |                      |               MIG M. |\n",
            "|=========================================+======================+======================|\n",
            "|   0  Tesla T4                       Off | 00000000:00:04.0 Off |                    0 |\n",
            "| N/A   71C    P0              30W /  70W |   4229MiB / 15360MiB |      0%      Default |\n",
            "|                                         |                      |                  N/A |\n",
            "+-----------------------------------------+----------------------+----------------------+\n",
            "                                                                                         \n",
            "+---------------------------------------------------------------------------------------+\n",
            "| Processes:                                                                            |\n",
            "|  GPU   GI   CI        PID   Type   Process name                            GPU Memory |\n",
            "|        ID   ID                                                             Usage      |\n",
            "|=======================================================================================|\n",
            "+---------------------------------------------------------------------------------------+\n"
          ]
        }
      ],
      "source": [
        "!nvidia-smi"
      ]
    },
    {
      "cell_type": "code",
      "execution_count": 171,
      "metadata": {
        "id": "iFvfqzI4O6RU"
      },
      "outputs": [],
      "source": [
        "import tensorflow as tf\n",
        "from helper_functions import unzip_data, create_tensorboard_callback,plot_loss_curves,compare_historys"
      ]
    },
    {
      "cell_type": "code",
      "execution_count": 172,
      "metadata": {
        "id": "a2n8Lv4bO6RV"
      },
      "outputs": [],
      "source": [
        "unzip_data('nlp-getting-started.zip')"
      ]
    },
    {
      "cell_type": "code",
      "execution_count": 173,
      "metadata": {
        "id": "2SscUHFRO6RW"
      },
      "outputs": [],
      "source": [
        "import pandas as pd"
      ]
    },
    {
      "cell_type": "code",
      "execution_count": 174,
      "metadata": {
        "colab": {
          "base_uri": "https://localhost:8080/",
          "height": 35
        },
        "id": "9KlNCH-VO6RW",
        "outputId": "ff39417b-7220-4602-ee98-a17bf64a23f3"
      },
      "outputs": [
        {
          "data": {
            "application/vnd.google.colaboratory.intrinsic+json": {
              "type": "string"
            },
            "text/plain": [
              "'Forest fire near La Ronge Sask. Canada'"
            ]
          },
          "execution_count": 174,
          "metadata": {},
          "output_type": "execute_result"
        }
      ],
      "source": [
        "train_df = pd.read_csv('train.csv')\n",
        "test_df = pd.read_csv('test.csv')\n",
        "train_df.head()\n",
        "train_df[\"text\"][1]\n"
      ]
    },
    {
      "cell_type": "code",
      "execution_count": 175,
      "metadata": {
        "id": "pKuSukyYO6RX"
      },
      "outputs": [],
      "source": [
        "train_df_shuffled = train_df.sample(frac=1,random_state=42)"
      ]
    },
    {
      "cell_type": "code",
      "execution_count": 176,
      "metadata": {
        "colab": {
          "base_uri": "https://localhost:8080/",
          "height": 206
        },
        "id": "TIOxRsajO6RY",
        "outputId": "ee1e3277-b2f0-47a6-8dfb-64f046226c65"
      },
      "outputs": [
        {
          "data": {
            "application/vnd.google.colaboratory.intrinsic+json": {
              "summary": "{\n  \"name\": \"test_df\",\n  \"rows\": 3263,\n  \"fields\": [\n    {\n      \"column\": \"id\",\n      \"properties\": {\n        \"dtype\": \"number\",\n        \"std\": 3146,\n        \"min\": 0,\n        \"max\": 10875,\n        \"num_unique_values\": 3263,\n        \"samples\": [\n          8051,\n          425,\n          1330\n        ],\n        \"semantic_type\": \"\",\n        \"description\": \"\"\n      }\n    },\n    {\n      \"column\": \"keyword\",\n      \"properties\": {\n        \"dtype\": \"category\",\n        \"num_unique_values\": 221,\n        \"samples\": [\n          \"injury\",\n          \"nuclear%20reactor\",\n          \"engulfed\"\n        ],\n        \"semantic_type\": \"\",\n        \"description\": \"\"\n      }\n    },\n    {\n      \"column\": \"location\",\n      \"properties\": {\n        \"dtype\": \"category\",\n        \"num_unique_values\": 1602,\n        \"samples\": [\n          \"UAE\",\n          \"Tokio / Tokyo\",\n          \"Texas\"\n        ],\n        \"semantic_type\": \"\",\n        \"description\": \"\"\n      }\n    },\n    {\n      \"column\": \"text\",\n      \"properties\": {\n        \"dtype\": \"string\",\n        \"num_unique_values\": 3243,\n        \"samples\": [\n          \"Latest: USA: Huge sinkhole swallows up Brooklyn intersection http://t.co/vspKHg3nZy\",\n          \"I liked a @YouTube video http://t.co/a5YTAw9Vih S.O.S. Rona Guide - The Red Whirlwind\",\n          \"HitchBot travels Europe and greeted with open arms. Gets destroyed after two weeks in america. There's a lesson to be learned here.\"\n        ],\n        \"semantic_type\": \"\",\n        \"description\": \"\"\n      }\n    }\n  ]\n}",
              "type": "dataframe",
              "variable_name": "test_df"
            },
            "text/html": [
              "\n",
              "  <div id=\"df-444f11b2-5356-46ea-9145-a62c84bf2cfa\" class=\"colab-df-container\">\n",
              "    <div>\n",
              "<style scoped>\n",
              "    .dataframe tbody tr th:only-of-type {\n",
              "        vertical-align: middle;\n",
              "    }\n",
              "\n",
              "    .dataframe tbody tr th {\n",
              "        vertical-align: top;\n",
              "    }\n",
              "\n",
              "    .dataframe thead th {\n",
              "        text-align: right;\n",
              "    }\n",
              "</style>\n",
              "<table border=\"1\" class=\"dataframe\">\n",
              "  <thead>\n",
              "    <tr style=\"text-align: right;\">\n",
              "      <th></th>\n",
              "      <th>id</th>\n",
              "      <th>keyword</th>\n",
              "      <th>location</th>\n",
              "      <th>text</th>\n",
              "    </tr>\n",
              "  </thead>\n",
              "  <tbody>\n",
              "    <tr>\n",
              "      <th>0</th>\n",
              "      <td>0</td>\n",
              "      <td>NaN</td>\n",
              "      <td>NaN</td>\n",
              "      <td>Just happened a terrible car crash</td>\n",
              "    </tr>\n",
              "    <tr>\n",
              "      <th>1</th>\n",
              "      <td>2</td>\n",
              "      <td>NaN</td>\n",
              "      <td>NaN</td>\n",
              "      <td>Heard about #earthquake is different cities, s...</td>\n",
              "    </tr>\n",
              "    <tr>\n",
              "      <th>2</th>\n",
              "      <td>3</td>\n",
              "      <td>NaN</td>\n",
              "      <td>NaN</td>\n",
              "      <td>there is a forest fire at spot pond, geese are...</td>\n",
              "    </tr>\n",
              "    <tr>\n",
              "      <th>3</th>\n",
              "      <td>9</td>\n",
              "      <td>NaN</td>\n",
              "      <td>NaN</td>\n",
              "      <td>Apocalypse lighting. #Spokane #wildfires</td>\n",
              "    </tr>\n",
              "    <tr>\n",
              "      <th>4</th>\n",
              "      <td>11</td>\n",
              "      <td>NaN</td>\n",
              "      <td>NaN</td>\n",
              "      <td>Typhoon Soudelor kills 28 in China and Taiwan</td>\n",
              "    </tr>\n",
              "  </tbody>\n",
              "</table>\n",
              "</div>\n",
              "    <div class=\"colab-df-buttons\">\n",
              "\n",
              "  <div class=\"colab-df-container\">\n",
              "    <button class=\"colab-df-convert\" onclick=\"convertToInteractive('df-444f11b2-5356-46ea-9145-a62c84bf2cfa')\"\n",
              "            title=\"Convert this dataframe to an interactive table.\"\n",
              "            style=\"display:none;\">\n",
              "\n",
              "  <svg xmlns=\"http://www.w3.org/2000/svg\" height=\"24px\" viewBox=\"0 -960 960 960\">\n",
              "    <path d=\"M120-120v-720h720v720H120Zm60-500h600v-160H180v160Zm220 220h160v-160H400v160Zm0 220h160v-160H400v160ZM180-400h160v-160H180v160Zm440 0h160v-160H620v160ZM180-180h160v-160H180v160Zm440 0h160v-160H620v160Z\"/>\n",
              "  </svg>\n",
              "    </button>\n",
              "\n",
              "  <style>\n",
              "    .colab-df-container {\n",
              "      display:flex;\n",
              "      gap: 12px;\n",
              "    }\n",
              "\n",
              "    .colab-df-convert {\n",
              "      background-color: #E8F0FE;\n",
              "      border: none;\n",
              "      border-radius: 50%;\n",
              "      cursor: pointer;\n",
              "      display: none;\n",
              "      fill: #1967D2;\n",
              "      height: 32px;\n",
              "      padding: 0 0 0 0;\n",
              "      width: 32px;\n",
              "    }\n",
              "\n",
              "    .colab-df-convert:hover {\n",
              "      background-color: #E2EBFA;\n",
              "      box-shadow: 0px 1px 2px rgba(60, 64, 67, 0.3), 0px 1px 3px 1px rgba(60, 64, 67, 0.15);\n",
              "      fill: #174EA6;\n",
              "    }\n",
              "\n",
              "    .colab-df-buttons div {\n",
              "      margin-bottom: 4px;\n",
              "    }\n",
              "\n",
              "    [theme=dark] .colab-df-convert {\n",
              "      background-color: #3B4455;\n",
              "      fill: #D2E3FC;\n",
              "    }\n",
              "\n",
              "    [theme=dark] .colab-df-convert:hover {\n",
              "      background-color: #434B5C;\n",
              "      box-shadow: 0px 1px 3px 1px rgba(0, 0, 0, 0.15);\n",
              "      filter: drop-shadow(0px 1px 2px rgba(0, 0, 0, 0.3));\n",
              "      fill: #FFFFFF;\n",
              "    }\n",
              "  </style>\n",
              "\n",
              "    <script>\n",
              "      const buttonEl =\n",
              "        document.querySelector('#df-444f11b2-5356-46ea-9145-a62c84bf2cfa button.colab-df-convert');\n",
              "      buttonEl.style.display =\n",
              "        google.colab.kernel.accessAllowed ? 'block' : 'none';\n",
              "\n",
              "      async function convertToInteractive(key) {\n",
              "        const element = document.querySelector('#df-444f11b2-5356-46ea-9145-a62c84bf2cfa');\n",
              "        const dataTable =\n",
              "          await google.colab.kernel.invokeFunction('convertToInteractive',\n",
              "                                                    [key], {});\n",
              "        if (!dataTable) return;\n",
              "\n",
              "        const docLinkHtml = 'Like what you see? Visit the ' +\n",
              "          '<a target=\"_blank\" href=https://colab.research.google.com/notebooks/data_table.ipynb>data table notebook</a>'\n",
              "          + ' to learn more about interactive tables.';\n",
              "        element.innerHTML = '';\n",
              "        dataTable['output_type'] = 'display_data';\n",
              "        await google.colab.output.renderOutput(dataTable, element);\n",
              "        const docLink = document.createElement('div');\n",
              "        docLink.innerHTML = docLinkHtml;\n",
              "        element.appendChild(docLink);\n",
              "      }\n",
              "    </script>\n",
              "  </div>\n",
              "\n",
              "\n",
              "<div id=\"df-c6cbb4bd-7655-477f-a8f1-7862b57610af\">\n",
              "  <button class=\"colab-df-quickchart\" onclick=\"quickchart('df-c6cbb4bd-7655-477f-a8f1-7862b57610af')\"\n",
              "            title=\"Suggest charts\"\n",
              "            style=\"display:none;\">\n",
              "\n",
              "<svg xmlns=\"http://www.w3.org/2000/svg\" height=\"24px\"viewBox=\"0 0 24 24\"\n",
              "     width=\"24px\">\n",
              "    <g>\n",
              "        <path d=\"M19 3H5c-1.1 0-2 .9-2 2v14c0 1.1.9 2 2 2h14c1.1 0 2-.9 2-2V5c0-1.1-.9-2-2-2zM9 17H7v-7h2v7zm4 0h-2V7h2v10zm4 0h-2v-4h2v4z\"/>\n",
              "    </g>\n",
              "</svg>\n",
              "  </button>\n",
              "\n",
              "<style>\n",
              "  .colab-df-quickchart {\n",
              "      --bg-color: #E8F0FE;\n",
              "      --fill-color: #1967D2;\n",
              "      --hover-bg-color: #E2EBFA;\n",
              "      --hover-fill-color: #174EA6;\n",
              "      --disabled-fill-color: #AAA;\n",
              "      --disabled-bg-color: #DDD;\n",
              "  }\n",
              "\n",
              "  [theme=dark] .colab-df-quickchart {\n",
              "      --bg-color: #3B4455;\n",
              "      --fill-color: #D2E3FC;\n",
              "      --hover-bg-color: #434B5C;\n",
              "      --hover-fill-color: #FFFFFF;\n",
              "      --disabled-bg-color: #3B4455;\n",
              "      --disabled-fill-color: #666;\n",
              "  }\n",
              "\n",
              "  .colab-df-quickchart {\n",
              "    background-color: var(--bg-color);\n",
              "    border: none;\n",
              "    border-radius: 50%;\n",
              "    cursor: pointer;\n",
              "    display: none;\n",
              "    fill: var(--fill-color);\n",
              "    height: 32px;\n",
              "    padding: 0;\n",
              "    width: 32px;\n",
              "  }\n",
              "\n",
              "  .colab-df-quickchart:hover {\n",
              "    background-color: var(--hover-bg-color);\n",
              "    box-shadow: 0 1px 2px rgba(60, 64, 67, 0.3), 0 1px 3px 1px rgba(60, 64, 67, 0.15);\n",
              "    fill: var(--button-hover-fill-color);\n",
              "  }\n",
              "\n",
              "  .colab-df-quickchart-complete:disabled,\n",
              "  .colab-df-quickchart-complete:disabled:hover {\n",
              "    background-color: var(--disabled-bg-color);\n",
              "    fill: var(--disabled-fill-color);\n",
              "    box-shadow: none;\n",
              "  }\n",
              "\n",
              "  .colab-df-spinner {\n",
              "    border: 2px solid var(--fill-color);\n",
              "    border-color: transparent;\n",
              "    border-bottom-color: var(--fill-color);\n",
              "    animation:\n",
              "      spin 1s steps(1) infinite;\n",
              "  }\n",
              "\n",
              "  @keyframes spin {\n",
              "    0% {\n",
              "      border-color: transparent;\n",
              "      border-bottom-color: var(--fill-color);\n",
              "      border-left-color: var(--fill-color);\n",
              "    }\n",
              "    20% {\n",
              "      border-color: transparent;\n",
              "      border-left-color: var(--fill-color);\n",
              "      border-top-color: var(--fill-color);\n",
              "    }\n",
              "    30% {\n",
              "      border-color: transparent;\n",
              "      border-left-color: var(--fill-color);\n",
              "      border-top-color: var(--fill-color);\n",
              "      border-right-color: var(--fill-color);\n",
              "    }\n",
              "    40% {\n",
              "      border-color: transparent;\n",
              "      border-right-color: var(--fill-color);\n",
              "      border-top-color: var(--fill-color);\n",
              "    }\n",
              "    60% {\n",
              "      border-color: transparent;\n",
              "      border-right-color: var(--fill-color);\n",
              "    }\n",
              "    80% {\n",
              "      border-color: transparent;\n",
              "      border-right-color: var(--fill-color);\n",
              "      border-bottom-color: var(--fill-color);\n",
              "    }\n",
              "    90% {\n",
              "      border-color: transparent;\n",
              "      border-bottom-color: var(--fill-color);\n",
              "    }\n",
              "  }\n",
              "</style>\n",
              "\n",
              "  <script>\n",
              "    async function quickchart(key) {\n",
              "      const quickchartButtonEl =\n",
              "        document.querySelector('#' + key + ' button');\n",
              "      quickchartButtonEl.disabled = true;  // To prevent multiple clicks.\n",
              "      quickchartButtonEl.classList.add('colab-df-spinner');\n",
              "      try {\n",
              "        const charts = await google.colab.kernel.invokeFunction(\n",
              "            'suggestCharts', [key], {});\n",
              "      } catch (error) {\n",
              "        console.error('Error during call to suggestCharts:', error);\n",
              "      }\n",
              "      quickchartButtonEl.classList.remove('colab-df-spinner');\n",
              "      quickchartButtonEl.classList.add('colab-df-quickchart-complete');\n",
              "    }\n",
              "    (() => {\n",
              "      let quickchartButtonEl =\n",
              "        document.querySelector('#df-c6cbb4bd-7655-477f-a8f1-7862b57610af button');\n",
              "      quickchartButtonEl.style.display =\n",
              "        google.colab.kernel.accessAllowed ? 'block' : 'none';\n",
              "    })();\n",
              "  </script>\n",
              "</div>\n",
              "\n",
              "    </div>\n",
              "  </div>\n"
            ],
            "text/plain": [
              "   id keyword location                                               text\n",
              "0   0     NaN      NaN                 Just happened a terrible car crash\n",
              "1   2     NaN      NaN  Heard about #earthquake is different cities, s...\n",
              "2   3     NaN      NaN  there is a forest fire at spot pond, geese are...\n",
              "3   9     NaN      NaN           Apocalypse lighting. #Spokane #wildfires\n",
              "4  11     NaN      NaN      Typhoon Soudelor kills 28 in China and Taiwan"
            ]
          },
          "execution_count": 176,
          "metadata": {},
          "output_type": "execute_result"
        }
      ],
      "source": [
        "test_df.head()"
      ]
    },
    {
      "cell_type": "code",
      "execution_count": 177,
      "metadata": {
        "colab": {
          "base_uri": "https://localhost:8080/",
          "height": 178
        },
        "id": "r3iA8b86O6RY",
        "outputId": "655350de-4d10-4abb-88b0-ee34511b1ae1"
      },
      "outputs": [
        {
          "data": {
            "text/html": [
              "<div>\n",
              "<style scoped>\n",
              "    .dataframe tbody tr th:only-of-type {\n",
              "        vertical-align: middle;\n",
              "    }\n",
              "\n",
              "    .dataframe tbody tr th {\n",
              "        vertical-align: top;\n",
              "    }\n",
              "\n",
              "    .dataframe thead th {\n",
              "        text-align: right;\n",
              "    }\n",
              "</style>\n",
              "<table border=\"1\" class=\"dataframe\">\n",
              "  <thead>\n",
              "    <tr style=\"text-align: right;\">\n",
              "      <th></th>\n",
              "      <th>count</th>\n",
              "    </tr>\n",
              "    <tr>\n",
              "      <th>target</th>\n",
              "      <th></th>\n",
              "    </tr>\n",
              "  </thead>\n",
              "  <tbody>\n",
              "    <tr>\n",
              "      <th>0</th>\n",
              "      <td>4342</td>\n",
              "    </tr>\n",
              "    <tr>\n",
              "      <th>1</th>\n",
              "      <td>3271</td>\n",
              "    </tr>\n",
              "  </tbody>\n",
              "</table>\n",
              "</div><br><label><b>dtype:</b> int64</label>"
            ],
            "text/plain": [
              "target\n",
              "0    4342\n",
              "1    3271\n",
              "Name: count, dtype: int64"
            ]
          },
          "execution_count": 177,
          "metadata": {},
          "output_type": "execute_result"
        }
      ],
      "source": [
        "train_df.target.value_counts()"
      ]
    },
    {
      "cell_type": "code",
      "execution_count": 178,
      "metadata": {
        "colab": {
          "base_uri": "https://localhost:8080/"
        },
        "id": "6icqEQqBO6RZ",
        "outputId": "f4a373ed-6f71-4d4a-ab87-2dbe202e0634"
      },
      "outputs": [
        {
          "data": {
            "text/plain": [
              "(7613, 3263)"
            ]
          },
          "execution_count": 178,
          "metadata": {},
          "output_type": "execute_result"
        }
      ],
      "source": [
        "len(train_df),len(test_df)"
      ]
    },
    {
      "cell_type": "code",
      "execution_count": 179,
      "metadata": {
        "colab": {
          "base_uri": "https://localhost:8080/"
        },
        "id": "99dZDumOO6RZ",
        "outputId": "c8f387ee-46e0-4456-fbe3-ec371d4a9e63"
      },
      "outputs": [
        {
          "name": "stdout",
          "output_type": "stream",
          "text": [
            "Target:1 (real disaster)\n",
            "Text :@Vickie627 Desert Storm was an unqualified victory a treaty was signed.  Under Clinton the situation only got worse and more violent. #tcot\n",
            "\n",
            "\n",
            "Target:1 (real disaster)\n",
            "Text :@BigSim50 nah Philly pundits are half the cause. They set buildings on fire to report on buildings being on fire.\n",
            "\n",
            "\n",
            "Target:1 (real disaster)\n",
            "Text :DEEP crew to help with California wild fires http://t.co/QKz2Sp06xn via @thedayct\n",
            "\n",
            "\n",
            "Target:1 (real disaster)\n",
            "Text :Japan Marks 70th Anniversary of Hiroshima Atomic Bombing http://t.co/93vqkdFgnr\n",
            "\n",
            "\n",
            "Target:1 (real disaster)\n",
            "Text :Correction: Tent Collapse Story http://t.co/jXs50FkviK\n",
            "\n",
            "\n"
          ]
        }
      ],
      "source": [
        "import random\n",
        "random_index = random.randint(0,len(train_df)-5)\n",
        "for row in train_df_shuffled[[\"text\",\"target\"]][random_index:random_index+5].itertuples():\n",
        "    _,text,target = row\n",
        "    print(f\"Target:{target}\",\"(real disaster)\" if target>0 else \"(not rela disaster)\")\n",
        "    print(f\"Text :{text}\")\n",
        "    print('\\n')\n"
      ]
    },
    {
      "cell_type": "code",
      "execution_count": 180,
      "metadata": {
        "id": "ajIoFMVJO6Ra"
      },
      "outputs": [],
      "source": [
        "from sklearn.model_selection import train_test_split\n",
        "\n",
        "train_sentences,val_sentences,train_labels,val_labels=train_test_split(train_df_shuffled[\"text\"].to_numpy(),\n",
        "                                                                       train_df_shuffled[\"target\"].to_numpy(),\n",
        "                                                                       test_size = 0.1,\n",
        "                                                                       random_state=42)\n"
      ]
    },
    {
      "cell_type": "code",
      "execution_count": 181,
      "metadata": {
        "colab": {
          "base_uri": "https://localhost:8080/"
        },
        "id": "omG2lebPO6Rb",
        "outputId": "258d9748-736c-4d83-bf5e-6dab0555ebc3"
      },
      "outputs": [
        {
          "data": {
            "text/plain": [
              "(array(['@mogacola @zamtriossu i screamed after hitting tweet',\n",
              "        'Imagine getting flattened by Kurt Zouma',\n",
              "        '@Gurmeetramrahim #MSGDoing111WelfareWorks Green S welfare force ke appx 65000 members har time disaster victim ki help ke liye tyar hai....',\n",
              "        \"@shakjn @C7 @Magnums im shaking in fear he's gonna hack the planet\",\n",
              "        'Somehow find you and I collide http://t.co/Ee8RpOahPk',\n",
              "        '@EvaHanderek @MarleyKnysh great times until the bus driver held us hostage in the mall parking lot lmfao',\n",
              "        'destroy the free fandom honestly',\n",
              "        'Weapons stolen from National Guard Armory in New Albany still missing #Gunsense http://t.co/lKNU8902JE',\n",
              "        '@wfaaweather Pete when will the heat wave pass? Is it really going to be mid month? Frisco Boy Scouts have a canoe trip in Okla.',\n",
              "        'Patient-reported outcomes in long-term survivors of metastatic colorectal cancer - British Journal of Surgery http://t.co/5Yl4DC1Tqt'],\n",
              "       dtype=object),\n",
              " array([0, 0, 1, 0, 0, 1, 1, 0, 1, 1]))"
            ]
          },
          "execution_count": 181,
          "metadata": {},
          "output_type": "execute_result"
        }
      ],
      "source": [
        "train_sentences[:10],train_labels[:10]"
      ]
    },
    {
      "cell_type": "code",
      "execution_count": 182,
      "metadata": {
        "colab": {
          "base_uri": "https://localhost:8080/"
        },
        "id": "JpLxIQPZO6Rb",
        "outputId": "209ec81b-6cb6-4a5b-eaa6-c0fd19e2f257"
      },
      "outputs": [
        {
          "data": {
            "text/plain": [
              "array(['@mogacola @zamtriossu i screamed after hitting tweet',\n",
              "       'Imagine getting flattened by Kurt Zouma',\n",
              "       '@Gurmeetramrahim #MSGDoing111WelfareWorks Green S welfare force ke appx 65000 members har time disaster victim ki help ke liye tyar hai....',\n",
              "       ...,\n",
              "       'Near them on the sand half sunk a shattered visage lies... http://t.co/0kCCG1BT06',\n",
              "       \"kesabaran membuahkan hasil indah pada saat tepat! life isn't about waiting for the storm to pass it's about learning to dance in the rain.\",\n",
              "       \"@ScottDPierce @billharris_tv @HarrisGle @Beezersun I'm forfeiting this years fantasy football pool out of fear I may win n get my ass kicked\"],\n",
              "      dtype=object)"
            ]
          },
          "execution_count": 182,
          "metadata": {},
          "output_type": "execute_result"
        }
      ],
      "source": [
        "train_sentences"
      ]
    },
    {
      "cell_type": "code",
      "execution_count": 183,
      "metadata": {
        "id": "6yHLS90lO6Rc"
      },
      "outputs": [],
      "source": [
        "from tensorflow.keras.layers import TextVectorization"
      ]
    },
    {
      "cell_type": "code",
      "execution_count": 184,
      "metadata": {
        "colab": {
          "base_uri": "https://localhost:8080/"
        },
        "id": "4mLhriwPO6Rc",
        "outputId": "576f02ac-55cb-4f0a-d53e-5dc1db2c3878"
      },
      "outputs": [
        {
          "data": {
            "text/plain": [
              "15"
            ]
          },
          "execution_count": 184,
          "metadata": {},
          "output_type": "execute_result"
        }
      ],
      "source": [
        "round(sum([len(i.split()) for i in train_sentences])/len(train_sentences))"
      ]
    },
    {
      "cell_type": "code",
      "execution_count": 185,
      "metadata": {
        "id": "23jAVoJHO6Rc"
      },
      "outputs": [],
      "source": [
        "max_vocab_length = 10000\n",
        "max_length = 15\n",
        "\n",
        "text_vectorizer = TextVectorization(\n",
        "    max_tokens=max_vocab_length,\n",
        "    standardize=\"lower_and_strip_punctuation\",\n",
        "    split = \"whitespace\",\n",
        "    ngrams= None,\n",
        "    output_mode = 'int',\n",
        "    output_sequence_length = max_length,\n",
        "    pad_to_max_tokens = True,\n",
        ")\n"
      ]
    },
    {
      "cell_type": "code",
      "execution_count": 186,
      "metadata": {
        "id": "e65OChZvO6Rd"
      },
      "outputs": [],
      "source": [
        "text_vectorizer.adapt(train_sentences)"
      ]
    },
    {
      "cell_type": "code",
      "execution_count": 187,
      "metadata": {
        "colab": {
          "base_uri": "https://localhost:8080/"
        },
        "id": "d7qgxSHtO6Rd",
        "outputId": "f7242550-1144-478c-d9e4-303ae4ad1633"
      },
      "outputs": [
        {
          "data": {
            "text/plain": [
              "<tf.Tensor: shape=(1, 15), dtype=int64, numpy=\n",
              "array([[1400,  107,    0,    0,    0,    0,    0,    0,    0,    0,    0,\n",
              "           0,    0,    0,    0]])>"
            ]
          },
          "execution_count": 187,
          "metadata": {},
          "output_type": "execute_result"
        }
      ],
      "source": [
        "sample_sentence = \"hello world\"\n",
        "text_vectorizer([sample_sentence])"
      ]
    },
    {
      "cell_type": "code",
      "execution_count": 188,
      "metadata": {
        "colab": {
          "base_uri": "https://localhost:8080/"
        },
        "id": "W2UVeuDoO6Rd",
        "outputId": "7cae1de6-ac76-4f25-8739-d444a1cc8c92"
      },
      "outputs": [
        {
          "name": "stdout",
          "output_type": "stream",
          "text": [
            "I forgot to bring chocolate with me. Major disaster.\n"
          ]
        },
        {
          "data": {
            "text/plain": [
              "<tf.Tensor: shape=(15,), dtype=int64, numpy=\n",
              "array([   8, 2990,    5,  962, 4012,   14,   31,  771,   75,    0,    0,\n",
              "          0,    0,    0,    0])>"
            ]
          },
          "execution_count": 188,
          "metadata": {},
          "output_type": "execute_result"
        }
      ],
      "source": [
        "random_sentence = random.choice(train_sentences)\n",
        "print(random_sentence)\n",
        "text_vectorizer(random_sentence)"
      ]
    },
    {
      "cell_type": "code",
      "execution_count": 189,
      "metadata": {
        "colab": {
          "base_uri": "https://localhost:8080/"
        },
        "id": "lPte6rIZO6Re",
        "outputId": "5b119abf-2e39-47e7-c47a-412542e8d8b4"
      },
      "outputs": [
        {
          "data": {
            "text/plain": [
              "(10000,\n",
              " ['', '[UNK]', 'the', 'a', 'in'],\n",
              " ['pages', 'paeds', 'pads', 'padres', 'paddytomlinson1'])"
            ]
          },
          "execution_count": 189,
          "metadata": {},
          "output_type": "execute_result"
        }
      ],
      "source": [
        "words_in_vocabulary =  text_vectorizer.get_vocabulary()\n",
        "top_5_words = words_in_vocabulary[:5]\n",
        "bottom_5_words = words_in_vocabulary[-5:]\n",
        "len(words_in_vocabulary),top_5_words,bottom_5_words"
      ]
    },
    {
      "cell_type": "code",
      "execution_count": 190,
      "metadata": {
        "colab": {
          "base_uri": "https://localhost:8080/"
        },
        "id": "f3qAedNkO6Re",
        "outputId": "ae59c777-228d-4cee-b3a6-de874e6e5d7e"
      },
      "outputs": [
        {
          "name": "stderr",
          "output_type": "stream",
          "text": [
            "/usr/local/lib/python3.10/dist-packages/keras/src/layers/core/embedding.py:90: UserWarning: Argument `input_length` is deprecated. Just remove it.\n",
            "  warnings.warn(\n"
          ]
        },
        {
          "data": {
            "text/plain": [
              "<Embedding name=embedding_1, built=False>"
            ]
          },
          "execution_count": 190,
          "metadata": {},
          "output_type": "execute_result"
        }
      ],
      "source": [
        "# from tensorflow.keras import layers\n",
        "\n",
        "tf.random.set_seed(42)\n",
        "from tensorflow.keras import layers\n",
        "\n",
        "embeddings = layers.Embedding(input_dim=max_vocab_length, # set input shape\n",
        "                             output_dim=128, # set size of embedding vector\n",
        "                             embeddings_initializer=\"uniform\", # default, intialize randomly\n",
        "                             input_length=max_length, # how long is each input\n",
        "                             name=\"embedding_1\")\n",
        "\n",
        "embeddings"
      ]
    },
    {
      "cell_type": "code",
      "execution_count": 191,
      "metadata": {
        "colab": {
          "base_uri": "https://localhost:8080/"
        },
        "id": "I9kPlSBNO6Rf",
        "outputId": "c971a0bf-bbc9-45cf-e706-c4adefc88674"
      },
      "outputs": [
        {
          "name": "stdout",
          "output_type": "stream",
          "text": [
            "Hey @reddit - the concept of a 'quarantine' makes no sense if the people you've quarantined can just wander out &amp; about whenever they want\n",
            "\n",
            "\n",
            "embedded version\n"
          ]
        },
        {
          "data": {
            "text/plain": [
              "<tf.Tensor: shape=(1, 15, 128), dtype=float32, numpy=\n",
              "array([[[ 0.04167025, -0.02743115, -0.03318678, ...,  0.01724483,\n",
              "         -0.03393742,  0.00267086],\n",
              "        [ 0.03462697, -0.04900651, -0.00038124, ...,  0.04209674,\n",
              "          0.00374371, -0.00980129],\n",
              "        [ 0.02528966,  0.02937907,  0.02917549, ..., -0.00096739,\n",
              "          0.03150145,  0.03177052],\n",
              "        ...,\n",
              "        [-0.029609  , -0.01989708, -0.03568319, ..., -0.03568071,\n",
              "          0.0444823 , -0.00792261],\n",
              "        [-0.02944732,  0.00088232,  0.02349842, ..., -0.01810932,\n",
              "          0.03597498, -0.03158206],\n",
              "        [ 0.00044198, -0.02556144, -0.03317963, ..., -0.03449906,\n",
              "         -0.01599319, -0.04697727]]], dtype=float32)>"
            ]
          },
          "execution_count": 191,
          "metadata": {},
          "output_type": "execute_result"
        }
      ],
      "source": [
        "random_sentence = random.choice(train_sentences)\n",
        "print(random_sentence)\n",
        "print(\"\\n\")\n",
        "print(\"embedded version\")\n",
        "embeddings(text_vectorizer([random_sentence]))"
      ]
    },
    {
      "cell_type": "code",
      "execution_count": 192,
      "metadata": {
        "colab": {
          "base_uri": "https://localhost:8080/",
          "height": 126
        },
        "id": "AZxaxutbO6Rg",
        "outputId": "30468032-d5ce-4cc1-9f0f-e85839ef0bb6"
      },
      "outputs": [
        {
          "data": {
            "text/html": [
              "<style>#sk-container-id-2 {color: black;}#sk-container-id-2 pre{padding: 0;}#sk-container-id-2 div.sk-toggleable {background-color: white;}#sk-container-id-2 label.sk-toggleable__label {cursor: pointer;display: block;width: 100%;margin-bottom: 0;padding: 0.3em;box-sizing: border-box;text-align: center;}#sk-container-id-2 label.sk-toggleable__label-arrow:before {content: \"▸\";float: left;margin-right: 0.25em;color: #696969;}#sk-container-id-2 label.sk-toggleable__label-arrow:hover:before {color: black;}#sk-container-id-2 div.sk-estimator:hover label.sk-toggleable__label-arrow:before {color: black;}#sk-container-id-2 div.sk-toggleable__content {max-height: 0;max-width: 0;overflow: hidden;text-align: left;background-color: #f0f8ff;}#sk-container-id-2 div.sk-toggleable__content pre {margin: 0.2em;color: black;border-radius: 0.25em;background-color: #f0f8ff;}#sk-container-id-2 input.sk-toggleable__control:checked~div.sk-toggleable__content {max-height: 200px;max-width: 100%;overflow: auto;}#sk-container-id-2 input.sk-toggleable__control:checked~label.sk-toggleable__label-arrow:before {content: \"▾\";}#sk-container-id-2 div.sk-estimator input.sk-toggleable__control:checked~label.sk-toggleable__label {background-color: #d4ebff;}#sk-container-id-2 div.sk-label input.sk-toggleable__control:checked~label.sk-toggleable__label {background-color: #d4ebff;}#sk-container-id-2 input.sk-hidden--visually {border: 0;clip: rect(1px 1px 1px 1px);clip: rect(1px, 1px, 1px, 1px);height: 1px;margin: -1px;overflow: hidden;padding: 0;position: absolute;width: 1px;}#sk-container-id-2 div.sk-estimator {font-family: monospace;background-color: #f0f8ff;border: 1px dotted black;border-radius: 0.25em;box-sizing: border-box;margin-bottom: 0.5em;}#sk-container-id-2 div.sk-estimator:hover {background-color: #d4ebff;}#sk-container-id-2 div.sk-parallel-item::after {content: \"\";width: 100%;border-bottom: 1px solid gray;flex-grow: 1;}#sk-container-id-2 div.sk-label:hover label.sk-toggleable__label {background-color: #d4ebff;}#sk-container-id-2 div.sk-serial::before {content: \"\";position: absolute;border-left: 1px solid gray;box-sizing: border-box;top: 0;bottom: 0;left: 50%;z-index: 0;}#sk-container-id-2 div.sk-serial {display: flex;flex-direction: column;align-items: center;background-color: white;padding-right: 0.2em;padding-left: 0.2em;position: relative;}#sk-container-id-2 div.sk-item {position: relative;z-index: 1;}#sk-container-id-2 div.sk-parallel {display: flex;align-items: stretch;justify-content: center;background-color: white;position: relative;}#sk-container-id-2 div.sk-item::before, #sk-container-id-2 div.sk-parallel-item::before {content: \"\";position: absolute;border-left: 1px solid gray;box-sizing: border-box;top: 0;bottom: 0;left: 50%;z-index: -1;}#sk-container-id-2 div.sk-parallel-item {display: flex;flex-direction: column;z-index: 1;position: relative;background-color: white;}#sk-container-id-2 div.sk-parallel-item:first-child::after {align-self: flex-end;width: 50%;}#sk-container-id-2 div.sk-parallel-item:last-child::after {align-self: flex-start;width: 50%;}#sk-container-id-2 div.sk-parallel-item:only-child::after {width: 0;}#sk-container-id-2 div.sk-dashed-wrapped {border: 1px dashed gray;margin: 0 0.4em 0.5em 0.4em;box-sizing: border-box;padding-bottom: 0.4em;background-color: white;}#sk-container-id-2 div.sk-label label {font-family: monospace;font-weight: bold;display: inline-block;line-height: 1.2em;}#sk-container-id-2 div.sk-label-container {text-align: center;}#sk-container-id-2 div.sk-container {/* jupyter's `normalize.less` sets `[hidden] { display: none; }` but bootstrap.min.css set `[hidden] { display: none !important; }` so we also need the `!important` here to be able to override the default hidden behavior on the sphinx rendered scikit-learn.org. See: https://github.com/scikit-learn/scikit-learn/issues/21755 */display: inline-block !important;position: relative;}#sk-container-id-2 div.sk-text-repr-fallback {display: none;}</style><div id=\"sk-container-id-2\" class=\"sk-top-container\"><div class=\"sk-text-repr-fallback\"><pre>Pipeline(steps=[(&#x27;tfidf&#x27;, TfidfVectorizer()), (&#x27;clf&#x27;, MultinomialNB())])</pre><b>In a Jupyter environment, please rerun this cell to show the HTML representation or trust the notebook. <br />On GitHub, the HTML representation is unable to render, please try loading this page with nbviewer.org.</b></div><div class=\"sk-container\" hidden><div class=\"sk-item sk-dashed-wrapped\"><div class=\"sk-label-container\"><div class=\"sk-label sk-toggleable\"><input class=\"sk-toggleable__control sk-hidden--visually\" id=\"sk-estimator-id-4\" type=\"checkbox\" ><label for=\"sk-estimator-id-4\" class=\"sk-toggleable__label sk-toggleable__label-arrow\">Pipeline</label><div class=\"sk-toggleable__content\"><pre>Pipeline(steps=[(&#x27;tfidf&#x27;, TfidfVectorizer()), (&#x27;clf&#x27;, MultinomialNB())])</pre></div></div></div><div class=\"sk-serial\"><div class=\"sk-item\"><div class=\"sk-estimator sk-toggleable\"><input class=\"sk-toggleable__control sk-hidden--visually\" id=\"sk-estimator-id-5\" type=\"checkbox\" ><label for=\"sk-estimator-id-5\" class=\"sk-toggleable__label sk-toggleable__label-arrow\">TfidfVectorizer</label><div class=\"sk-toggleable__content\"><pre>TfidfVectorizer()</pre></div></div></div><div class=\"sk-item\"><div class=\"sk-estimator sk-toggleable\"><input class=\"sk-toggleable__control sk-hidden--visually\" id=\"sk-estimator-id-6\" type=\"checkbox\" ><label for=\"sk-estimator-id-6\" class=\"sk-toggleable__label sk-toggleable__label-arrow\">MultinomialNB</label><div class=\"sk-toggleable__content\"><pre>MultinomialNB()</pre></div></div></div></div></div></div></div>"
            ],
            "text/plain": [
              "Pipeline(steps=[('tfidf', TfidfVectorizer()), ('clf', MultinomialNB())])"
            ]
          },
          "execution_count": 192,
          "metadata": {},
          "output_type": "execute_result"
        }
      ],
      "source": [
        "from sklearn.feature_extraction.text import TfidfVectorizer\n",
        "from sklearn.naive_bayes import MultinomialNB\n",
        "from sklearn.pipeline import Pipeline\n",
        "\n",
        "model_0 = Pipeline([\n",
        "    (\"tfidf\",TfidfVectorizer()),\n",
        "    (\"clf\",MultinomialNB()),\n",
        "])\n",
        "\n",
        "model_0.fit(train_sentences,train_labels)"
      ]
    },
    {
      "cell_type": "code",
      "execution_count": 193,
      "metadata": {
        "colab": {
          "base_uri": "https://localhost:8080/"
        },
        "id": "UmkX2B3KO6Rh",
        "outputId": "89438268-4773-4409-8620-562ce6ea72cd"
      },
      "outputs": [
        {
          "data": {
            "text/plain": [
              "0.7926509186351706"
            ]
          },
          "execution_count": 193,
          "metadata": {},
          "output_type": "execute_result"
        }
      ],
      "source": [
        "baseline_score=model_0.score(val_sentences,val_labels)\n",
        "baseline_score"
      ]
    },
    {
      "cell_type": "code",
      "execution_count": 194,
      "metadata": {
        "id": "pxdvp8cVO6Rh"
      },
      "outputs": [],
      "source": [
        "baseline_preds=model_0.predict(val_sentences)"
      ]
    },
    {
      "cell_type": "code",
      "execution_count": 195,
      "metadata": {
        "colab": {
          "base_uri": "https://localhost:8080/"
        },
        "id": "YBzwBLJCO6Ri",
        "outputId": "7ed8da1d-1ce2-4e24-95ae-5a1c20684039"
      },
      "outputs": [
        {
          "data": {
            "text/plain": [
              "array([1, 1, 1, 0, 0, 1, 1, 1, 1, 0, 0, 1, 0, 0, 0, 0, 0, 0, 0, 1])"
            ]
          },
          "execution_count": 195,
          "metadata": {},
          "output_type": "execute_result"
        }
      ],
      "source": [
        "baseline_preds[:20]"
      ]
    },
    {
      "cell_type": "code",
      "execution_count": 196,
      "metadata": {
        "id": "0qbY4TMVO6Ri"
      },
      "outputs": [],
      "source": [
        "from sklearn.metrics import accuracy_score,precision_recall_fscore_support"
      ]
    },
    {
      "cell_type": "code",
      "execution_count": 197,
      "metadata": {
        "id": "RWfOoRjFO6Rj"
      },
      "outputs": [],
      "source": [
        "def calculate_results(y_true,y_pred):\n",
        "    model_accuaracy = accuracy_score(y_true,y_pred) *100\n",
        "    model_precision,model_recall,model_f1,_=precision_recall_fscore_support(y_true,y_pred,average=\"weighted\")\n",
        "    model_results={\n",
        "        \"accuracy\":model_accuaracy,\n",
        "        \"precision\":model_precision,\n",
        "        \"recall\":model_recall,\n",
        "        \"f1\":model_f1\n",
        "    }\n",
        "    return model_results"
      ]
    },
    {
      "cell_type": "code",
      "execution_count": 198,
      "metadata": {
        "colab": {
          "base_uri": "https://localhost:8080/"
        },
        "id": "OMwnnv9vO6Rj",
        "outputId": "3ef79570-41f4-4cd3-85e6-c043f068789d"
      },
      "outputs": [
        {
          "data": {
            "text/plain": [
              "{'accuracy': 79.26509186351706,\n",
              " 'precision': 0.8111390004213173,\n",
              " 'recall': 0.7926509186351706,\n",
              " 'f1': 0.7862189758049549}"
            ]
          },
          "execution_count": 198,
          "metadata": {},
          "output_type": "execute_result"
        }
      ],
      "source": [
        "baseline_results=calculate_results(val_labels,baseline_preds)\n",
        "baseline_results"
      ]
    },
    {
      "cell_type": "code",
      "execution_count": 199,
      "metadata": {
        "id": "gvJ_Bi5JO6Rk"
      },
      "outputs": [],
      "source": [
        "from helper_functions import create_tensorboard_callback"
      ]
    },
    {
      "cell_type": "code",
      "execution_count": 200,
      "metadata": {
        "id": "mM5MpEyQO6Rk"
      },
      "outputs": [],
      "source": [
        "SAVE_DIR='model_logs'"
      ]
    },
    {
      "cell_type": "code",
      "execution_count": 201,
      "metadata": {
        "id": "oQ5o9p1NO6Rk"
      },
      "outputs": [],
      "source": [
        "from tensorflow.keras import  layers\n",
        "inputs=layers.Input(shape=(1,),dtype=tf.string)\n",
        "x=text_vectorizer(inputs)\n",
        "x=embeddings(x)\n",
        "x = layers.GlobalAveragePooling1D()(x) # lower the dimensionality of the embedding (try running the model without this layer and see what happens)\n",
        "outputs = layers.Dense(1,activation=\"sigmoid\")(x)\n",
        "model_1 = tf.keras.Model(inputs,outputs,name=\"model_1_dense\")"
      ]
    },
    {
      "cell_type": "code",
      "execution_count": 202,
      "metadata": {
        "colab": {
          "base_uri": "https://localhost:8080/",
          "height": 336
        },
        "id": "Od8P8JT0O6Rl",
        "outputId": "454523b7-c20d-44e2-e2c0-250978544a94"
      },
      "outputs": [
        {
          "data": {
            "text/html": [
              "<pre style=\"white-space:pre;overflow-x:auto;line-height:normal;font-family:Menlo,'DejaVu Sans Mono',consolas,'Courier New',monospace\"><span style=\"font-weight: bold\">Model: \"model_1_dense\"</span>\n",
              "</pre>\n"
            ],
            "text/plain": [
              "\u001b[1mModel: \"model_1_dense\"\u001b[0m\n"
            ]
          },
          "metadata": {},
          "output_type": "display_data"
        },
        {
          "data": {
            "text/html": [
              "<pre style=\"white-space:pre;overflow-x:auto;line-height:normal;font-family:Menlo,'DejaVu Sans Mono',consolas,'Courier New',monospace\">┏━━━━━━━━━━━━━━━━━━━━━━━━━━━━━━━━━━━━━━┳━━━━━━━━━━━━━━━━━━━━━━━━━━━━━┳━━━━━━━━━━━━━━━━━┓\n",
              "┃<span style=\"font-weight: bold\"> Layer (type)                         </span>┃<span style=\"font-weight: bold\"> Output Shape                </span>┃<span style=\"font-weight: bold\">         Param # </span>┃\n",
              "┡━━━━━━━━━━━━━━━━━━━━━━━━━━━━━━━━━━━━━━╇━━━━━━━━━━━━━━━━━━━━━━━━━━━━━╇━━━━━━━━━━━━━━━━━┩\n",
              "│ input_layer_5 (<span style=\"color: #0087ff; text-decoration-color: #0087ff\">InputLayer</span>)           │ (<span style=\"color: #00d7ff; text-decoration-color: #00d7ff\">None</span>, <span style=\"color: #00af00; text-decoration-color: #00af00\">1</span>)                   │               <span style=\"color: #00af00; text-decoration-color: #00af00\">0</span> │\n",
              "├──────────────────────────────────────┼─────────────────────────────┼─────────────────┤\n",
              "│ text_vectorization_1                 │ (<span style=\"color: #00d7ff; text-decoration-color: #00d7ff\">None</span>, <span style=\"color: #00af00; text-decoration-color: #00af00\">15</span>)                  │               <span style=\"color: #00af00; text-decoration-color: #00af00\">0</span> │\n",
              "│ (<span style=\"color: #0087ff; text-decoration-color: #0087ff\">TextVectorization</span>)                  │                             │                 │\n",
              "├──────────────────────────────────────┼─────────────────────────────┼─────────────────┤\n",
              "│ embedding_1 (<span style=\"color: #0087ff; text-decoration-color: #0087ff\">Embedding</span>)              │ (<span style=\"color: #00d7ff; text-decoration-color: #00d7ff\">None</span>, <span style=\"color: #00af00; text-decoration-color: #00af00\">15</span>, <span style=\"color: #00af00; text-decoration-color: #00af00\">128</span>)             │       <span style=\"color: #00af00; text-decoration-color: #00af00\">1,280,000</span> │\n",
              "├──────────────────────────────────────┼─────────────────────────────┼─────────────────┤\n",
              "│ global_average_pooling1d_1           │ (<span style=\"color: #00d7ff; text-decoration-color: #00d7ff\">None</span>, <span style=\"color: #00af00; text-decoration-color: #00af00\">128</span>)                 │               <span style=\"color: #00af00; text-decoration-color: #00af00\">0</span> │\n",
              "│ (<span style=\"color: #0087ff; text-decoration-color: #0087ff\">GlobalAveragePooling1D</span>)             │                             │                 │\n",
              "├──────────────────────────────────────┼─────────────────────────────┼─────────────────┤\n",
              "│ dense_6 (<span style=\"color: #0087ff; text-decoration-color: #0087ff\">Dense</span>)                      │ (<span style=\"color: #00d7ff; text-decoration-color: #00d7ff\">None</span>, <span style=\"color: #00af00; text-decoration-color: #00af00\">1</span>)                   │             <span style=\"color: #00af00; text-decoration-color: #00af00\">129</span> │\n",
              "└──────────────────────────────────────┴─────────────────────────────┴─────────────────┘\n",
              "</pre>\n"
            ],
            "text/plain": [
              "┏━━━━━━━━━━━━━━━━━━━━━━━━━━━━━━━━━━━━━━┳━━━━━━━━━━━━━━━━━━━━━━━━━━━━━┳━━━━━━━━━━━━━━━━━┓\n",
              "┃\u001b[1m \u001b[0m\u001b[1mLayer (type)                        \u001b[0m\u001b[1m \u001b[0m┃\u001b[1m \u001b[0m\u001b[1mOutput Shape               \u001b[0m\u001b[1m \u001b[0m┃\u001b[1m \u001b[0m\u001b[1m        Param #\u001b[0m\u001b[1m \u001b[0m┃\n",
              "┡━━━━━━━━━━━━━━━━━━━━━━━━━━━━━━━━━━━━━━╇━━━━━━━━━━━━━━━━━━━━━━━━━━━━━╇━━━━━━━━━━━━━━━━━┩\n",
              "│ input_layer_5 (\u001b[38;5;33mInputLayer\u001b[0m)           │ (\u001b[38;5;45mNone\u001b[0m, \u001b[38;5;34m1\u001b[0m)                   │               \u001b[38;5;34m0\u001b[0m │\n",
              "├──────────────────────────────────────┼─────────────────────────────┼─────────────────┤\n",
              "│ text_vectorization_1                 │ (\u001b[38;5;45mNone\u001b[0m, \u001b[38;5;34m15\u001b[0m)                  │               \u001b[38;5;34m0\u001b[0m │\n",
              "│ (\u001b[38;5;33mTextVectorization\u001b[0m)                  │                             │                 │\n",
              "├──────────────────────────────────────┼─────────────────────────────┼─────────────────┤\n",
              "│ embedding_1 (\u001b[38;5;33mEmbedding\u001b[0m)              │ (\u001b[38;5;45mNone\u001b[0m, \u001b[38;5;34m15\u001b[0m, \u001b[38;5;34m128\u001b[0m)             │       \u001b[38;5;34m1,280,000\u001b[0m │\n",
              "├──────────────────────────────────────┼─────────────────────────────┼─────────────────┤\n",
              "│ global_average_pooling1d_1           │ (\u001b[38;5;45mNone\u001b[0m, \u001b[38;5;34m128\u001b[0m)                 │               \u001b[38;5;34m0\u001b[0m │\n",
              "│ (\u001b[38;5;33mGlobalAveragePooling1D\u001b[0m)             │                             │                 │\n",
              "├──────────────────────────────────────┼─────────────────────────────┼─────────────────┤\n",
              "│ dense_6 (\u001b[38;5;33mDense\u001b[0m)                      │ (\u001b[38;5;45mNone\u001b[0m, \u001b[38;5;34m1\u001b[0m)                   │             \u001b[38;5;34m129\u001b[0m │\n",
              "└──────────────────────────────────────┴─────────────────────────────┴─────────────────┘\n"
            ]
          },
          "metadata": {},
          "output_type": "display_data"
        },
        {
          "data": {
            "text/html": [
              "<pre style=\"white-space:pre;overflow-x:auto;line-height:normal;font-family:Menlo,'DejaVu Sans Mono',consolas,'Courier New',monospace\"><span style=\"font-weight: bold\"> Total params: </span><span style=\"color: #00af00; text-decoration-color: #00af00\">1,280,129</span> (4.88 MB)\n",
              "</pre>\n"
            ],
            "text/plain": [
              "\u001b[1m Total params: \u001b[0m\u001b[38;5;34m1,280,129\u001b[0m (4.88 MB)\n"
            ]
          },
          "metadata": {},
          "output_type": "display_data"
        },
        {
          "data": {
            "text/html": [
              "<pre style=\"white-space:pre;overflow-x:auto;line-height:normal;font-family:Menlo,'DejaVu Sans Mono',consolas,'Courier New',monospace\"><span style=\"font-weight: bold\"> Trainable params: </span><span style=\"color: #00af00; text-decoration-color: #00af00\">1,280,129</span> (4.88 MB)\n",
              "</pre>\n"
            ],
            "text/plain": [
              "\u001b[1m Trainable params: \u001b[0m\u001b[38;5;34m1,280,129\u001b[0m (4.88 MB)\n"
            ]
          },
          "metadata": {},
          "output_type": "display_data"
        },
        {
          "data": {
            "text/html": [
              "<pre style=\"white-space:pre;overflow-x:auto;line-height:normal;font-family:Menlo,'DejaVu Sans Mono',consolas,'Courier New',monospace\"><span style=\"font-weight: bold\"> Non-trainable params: </span><span style=\"color: #00af00; text-decoration-color: #00af00\">0</span> (0.00 B)\n",
              "</pre>\n"
            ],
            "text/plain": [
              "\u001b[1m Non-trainable params: \u001b[0m\u001b[38;5;34m0\u001b[0m (0.00 B)\n"
            ]
          },
          "metadata": {},
          "output_type": "display_data"
        }
      ],
      "source": [
        "model_1.summary()"
      ]
    },
    {
      "cell_type": "code",
      "execution_count": 203,
      "metadata": {
        "id": "M3pBslM0O6Rl"
      },
      "outputs": [],
      "source": [
        "model_1.compile(\n",
        "    loss='binary_crossentropy',\n",
        "    optimizer=tf.keras.optimizers.Adam(),\n",
        "    metrics=['accuracy']\n",
        ")"
      ]
    },
    {
      "cell_type": "code",
      "execution_count": 204,
      "metadata": {
        "colab": {
          "base_uri": "https://localhost:8080/"
        },
        "id": "H0fZ-FF2O6Rm",
        "outputId": "63bea94e-a089-4d97-9668-12e36397a261"
      },
      "outputs": [
        {
          "name": "stdout",
          "output_type": "stream",
          "text": [
            "Saving TensorBoard log files to: model_logs/model_1_dense/20240912-110424\n",
            "Epoch 1/5\n",
            "\u001b[1m215/215\u001b[0m \u001b[32m━━━━━━━━━━━━━━━━━━━━\u001b[0m\u001b[37m\u001b[0m \u001b[1m2s\u001b[0m 6ms/step - accuracy: 0.6405 - loss: 0.6491 - val_accuracy: 0.7598 - val_loss: 0.5333\n",
            "Epoch 2/5\n",
            "\u001b[1m215/215\u001b[0m \u001b[32m━━━━━━━━━━━━━━━━━━━━\u001b[0m\u001b[37m\u001b[0m \u001b[1m1s\u001b[0m 5ms/step - accuracy: 0.8092 - loss: 0.4654 - val_accuracy: 0.7887 - val_loss: 0.4739\n",
            "Epoch 3/5\n",
            "\u001b[1m215/215\u001b[0m \u001b[32m━━━━━━━━━━━━━━━━━━━━\u001b[0m\u001b[37m\u001b[0m \u001b[1m1s\u001b[0m 5ms/step - accuracy: 0.8545 - loss: 0.3616 - val_accuracy: 0.7940 - val_loss: 0.4620\n",
            "Epoch 4/5\n",
            "\u001b[1m215/215\u001b[0m \u001b[32m━━━━━━━━━━━━━━━━━━━━\u001b[0m\u001b[37m\u001b[0m \u001b[1m1s\u001b[0m 5ms/step - accuracy: 0.8859 - loss: 0.2955 - val_accuracy: 0.7900 - val_loss: 0.4683\n",
            "Epoch 5/5\n",
            "\u001b[1m215/215\u001b[0m \u001b[32m━━━━━━━━━━━━━━━━━━━━\u001b[0m\u001b[37m\u001b[0m \u001b[1m2s\u001b[0m 7ms/step - accuracy: 0.9067 - loss: 0.2468 - val_accuracy: 0.7769 - val_loss: 0.4840\n"
          ]
        }
      ],
      "source": [
        "model_1.history = model_1.fit(x=train_sentences,\n",
        "                              y=train_labels,\n",
        "                              epochs=5,\n",
        "                              validation_data=(val_sentences,val_labels),callbacks=[create_tensorboard_callback(SAVE_DIR,'model_1_dense')])"
      ]
    },
    {
      "cell_type": "code",
      "execution_count": 205,
      "metadata": {
        "colab": {
          "base_uri": "https://localhost:8080/"
        },
        "id": "jAl0sqgWO6Rm",
        "outputId": "92d09996-c368-4f46-8499-cd7ed8afcea6"
      },
      "outputs": [
        {
          "data": {
            "text/plain": [
              "{'accuracy': 79.26509186351706,\n",
              " 'precision': 0.8111390004213173,\n",
              " 'recall': 0.7926509186351706,\n",
              " 'f1': 0.7862189758049549}"
            ]
          },
          "execution_count": 205,
          "metadata": {},
          "output_type": "execute_result"
        }
      ],
      "source": [
        "baseline_results"
      ]
    },
    {
      "cell_type": "code",
      "execution_count": 206,
      "metadata": {
        "colab": {
          "base_uri": "https://localhost:8080/"
        },
        "id": "-L8yhteuO6Rm",
        "outputId": "4c3552a9-6d8e-4e17-cdb3-e68da64593a7"
      },
      "outputs": [
        {
          "name": "stdout",
          "output_type": "stream",
          "text": [
            "\u001b[1m24/24\u001b[0m \u001b[32m━━━━━━━━━━━━━━━━━━━━\u001b[0m\u001b[37m\u001b[0m \u001b[1m0s\u001b[0m 5ms/step - accuracy: 0.7670 - loss: 0.5162\n"
          ]
        },
        {
          "data": {
            "text/plain": [
              "[0.4839664101600647, 0.7769029140472412]"
            ]
          },
          "execution_count": 206,
          "metadata": {},
          "output_type": "execute_result"
        }
      ],
      "source": [
        "model_1.evaluate(val_sentences,val_labels)"
      ]
    },
    {
      "cell_type": "code",
      "execution_count": 207,
      "metadata": {
        "colab": {
          "base_uri": "https://localhost:8080/"
        },
        "id": "FeuTpfk5O6Rn",
        "outputId": "129b95c1-364c-4ffc-81fd-b881b5a11e30"
      },
      "outputs": [
        {
          "name": "stdout",
          "output_type": "stream",
          "text": [
            "\u001b[1m24/24\u001b[0m \u001b[32m━━━━━━━━━━━━━━━━━━━━\u001b[0m\u001b[37m\u001b[0m \u001b[1m0s\u001b[0m 10ms/step\n"
          ]
        },
        {
          "data": {
            "text/plain": [
              "(762, 1)"
            ]
          },
          "execution_count": 207,
          "metadata": {},
          "output_type": "execute_result"
        }
      ],
      "source": [
        "model_1_pred_probs=model_1.predict(val_sentences)\n",
        "model_1_pred_probs.shape"
      ]
    },
    {
      "cell_type": "code",
      "execution_count": 208,
      "metadata": {
        "colab": {
          "base_uri": "https://localhost:8080/"
        },
        "id": "_66jEuBSO6Rn",
        "outputId": "3f09d4d6-afce-442a-9324-bd2ce3a1a2cf"
      },
      "outputs": [
        {
          "data": {
            "text/plain": [
              "array([0.33771533], dtype=float32)"
            ]
          },
          "execution_count": 208,
          "metadata": {},
          "output_type": "execute_result"
        }
      ],
      "source": [
        "model_1_pred_probs[0]"
      ]
    },
    {
      "cell_type": "code",
      "execution_count": 209,
      "metadata": {
        "colab": {
          "base_uri": "https://localhost:8080/"
        },
        "id": "4dRjlfS7O6Ro",
        "outputId": "0f463479-e630-4dbf-bf4e-804e7694eb4b"
      },
      "outputs": [
        {
          "data": {
            "text/plain": [
              "array([[3.37715328e-01],\n",
              "       [7.33597219e-01],\n",
              "       [9.97747481e-01],\n",
              "       [1.88405618e-01],\n",
              "       [1.01150885e-01],\n",
              "       [9.42397714e-01],\n",
              "       [8.94325793e-01],\n",
              "       [9.94290948e-01],\n",
              "       [9.63820636e-01],\n",
              "       [3.99878949e-01],\n",
              "       [1.24493338e-01],\n",
              "       [6.99759007e-01],\n",
              "       [3.88531424e-02],\n",
              "       [2.47977868e-01],\n",
              "       [4.59121959e-03],\n",
              "       [1.51737869e-01],\n",
              "       [2.22968124e-02],\n",
              "       [7.93044344e-02],\n",
              "       [2.68967271e-01],\n",
              "       [5.47565222e-01],\n",
              "       [9.00212526e-01],\n",
              "       [4.04522121e-02],\n",
              "       [3.62306029e-01],\n",
              "       [1.05819695e-01],\n",
              "       [9.43428397e-01],\n",
              "       [9.98830974e-01],\n",
              "       [4.33156714e-02],\n",
              "       [6.58262372e-02],\n",
              "       [2.31243633e-02],\n",
              "       [1.96415588e-01],\n",
              "       [5.92219591e-01],\n",
              "       [3.27138424e-01],\n",
              "       [5.28957069e-01],\n",
              "       [1.52823493e-01],\n",
              "       [4.25035864e-01],\n",
              "       [6.68854788e-02],\n",
              "       [9.96029377e-01],\n",
              "       [2.09611654e-01],\n",
              "       [3.43305878e-02],\n",
              "       [9.98683989e-01],\n",
              "       [2.34483451e-01],\n",
              "       [1.86783019e-02],\n",
              "       [3.44717741e-01],\n",
              "       [5.09397350e-02],\n",
              "       [6.69651806e-01],\n",
              "       [9.85252261e-01],\n",
              "       [4.00326550e-01],\n",
              "       [9.02577460e-01],\n",
              "       [2.42671773e-01],\n",
              "       [5.76130092e-01],\n",
              "       [5.15058674e-02],\n",
              "       [6.31901085e-01],\n",
              "       [4.69237208e-01],\n",
              "       [3.29920836e-02],\n",
              "       [1.31186783e-01],\n",
              "       [3.29907164e-02],\n",
              "       [2.12816790e-01],\n",
              "       [9.55510676e-01],\n",
              "       [9.91175175e-02],\n",
              "       [3.21124191e-03],\n",
              "       [2.19109148e-01],\n",
              "       [9.65092123e-01],\n",
              "       [9.00302410e-01],\n",
              "       [1.63972050e-01],\n",
              "       [9.32553947e-01],\n",
              "       [9.77304935e-01],\n",
              "       [7.03170419e-01],\n",
              "       [3.78014863e-01],\n",
              "       [1.28178030e-01],\n",
              "       [1.86579093e-01],\n",
              "       [1.02181397e-01],\n",
              "       [4.01705243e-02],\n",
              "       [9.33983266e-01],\n",
              "       [1.97417602e-01],\n",
              "       [1.37268767e-01],\n",
              "       [4.52151924e-01],\n",
              "       [4.93712395e-01],\n",
              "       [8.20424855e-01],\n",
              "       [3.08944345e-01],\n",
              "       [5.40615261e-01],\n",
              "       [5.34904063e-01],\n",
              "       [3.43909621e-01],\n",
              "       [9.96508181e-01],\n",
              "       [1.15493357e-01],\n",
              "       [1.91649348e-01],\n",
              "       [9.42986980e-02],\n",
              "       [3.24832834e-02],\n",
              "       [9.37369838e-02],\n",
              "       [6.53033078e-01],\n",
              "       [8.76985073e-01],\n",
              "       [9.93897021e-01],\n",
              "       [7.84674380e-03],\n",
              "       [5.28866589e-01],\n",
              "       [2.37394702e-02],\n",
              "       [9.81887639e-01],\n",
              "       [7.37432659e-01],\n",
              "       [8.51511478e-01],\n",
              "       [9.69989598e-01],\n",
              "       [9.10117269e-01],\n",
              "       [9.50137913e-01],\n",
              "       [9.99307632e-01],\n",
              "       [2.12995052e-01],\n",
              "       [1.55735193e-02],\n",
              "       [9.12689924e-01],\n",
              "       [9.21680212e-01],\n",
              "       [1.05244905e-01],\n",
              "       [8.56041729e-01],\n",
              "       [9.82501328e-01],\n",
              "       [6.54171780e-02],\n",
              "       [4.23227519e-01],\n",
              "       [6.77514076e-01],\n",
              "       [4.12561856e-02],\n",
              "       [3.06682289e-01],\n",
              "       [1.55303255e-01],\n",
              "       [1.42717093e-01],\n",
              "       [4.23299611e-01],\n",
              "       [4.98610735e-01],\n",
              "       [6.90934420e-01],\n",
              "       [7.46240139e-01],\n",
              "       [7.93889016e-02],\n",
              "       [9.99785364e-01],\n",
              "       [8.67361277e-02],\n",
              "       [1.08648337e-01],\n",
              "       [7.68535912e-01],\n",
              "       [4.36807215e-01],\n",
              "       [3.53891909e-01],\n",
              "       [8.33891153e-01],\n",
              "       [1.04918042e-02],\n",
              "       [9.76927429e-02],\n",
              "       [8.75748754e-01],\n",
              "       [1.24836899e-01],\n",
              "       [9.99785364e-01],\n",
              "       [9.99761522e-01],\n",
              "       [9.98830974e-01],\n",
              "       [9.86959517e-01],\n",
              "       [7.26683512e-02],\n",
              "       [9.77418125e-01],\n",
              "       [2.13386774e-01],\n",
              "       [3.35268289e-01],\n",
              "       [7.86912814e-02],\n",
              "       [9.97225404e-01],\n",
              "       [4.26414907e-01],\n",
              "       [2.47977868e-01],\n",
              "       [9.61992264e-01],\n",
              "       [3.64607960e-01],\n",
              "       [5.60863972e-01],\n",
              "       [3.41241732e-02],\n",
              "       [7.98878074e-03],\n",
              "       [1.92468166e-01],\n",
              "       [9.77074683e-01],\n",
              "       [2.97892779e-01],\n",
              "       [8.24183449e-02],\n",
              "       [4.87888485e-01],\n",
              "       [1.81919843e-01],\n",
              "       [2.74461269e-01],\n",
              "       [9.91397142e-01],\n",
              "       [7.35912025e-01],\n",
              "       [3.96060377e-01],\n",
              "       [9.90151286e-01],\n",
              "       [2.33111270e-02],\n",
              "       [9.73100841e-01],\n",
              "       [4.46595512e-02],\n",
              "       [2.67679483e-01],\n",
              "       [9.93683100e-01],\n",
              "       [3.08449626e-01],\n",
              "       [6.61367923e-02],\n",
              "       [9.98549640e-01],\n",
              "       [4.46768701e-01],\n",
              "       [9.84627068e-01],\n",
              "       [2.86817014e-01],\n",
              "       [9.94013250e-01],\n",
              "       [8.48692894e-01],\n",
              "       [8.14757407e-01],\n",
              "       [2.15971228e-02],\n",
              "       [9.98080492e-01],\n",
              "       [1.03242181e-01],\n",
              "       [3.54166269e-01],\n",
              "       [4.63484764e-01],\n",
              "       [7.99936354e-01],\n",
              "       [9.93791878e-01],\n",
              "       [1.81030277e-02],\n",
              "       [7.77846634e-01],\n",
              "       [7.15841472e-01],\n",
              "       [9.63908136e-01],\n",
              "       [9.69926953e-01],\n",
              "       [3.76140535e-01],\n",
              "       [1.37989461e-01],\n",
              "       [9.99770343e-01],\n",
              "       [1.61254331e-02],\n",
              "       [2.53525190e-02],\n",
              "       [9.69265252e-02],\n",
              "       [9.42758620e-01],\n",
              "       [6.96741119e-02],\n",
              "       [2.82459527e-01],\n",
              "       [1.44362394e-02],\n",
              "       [7.86137134e-02],\n",
              "       [5.69455624e-02],\n",
              "       [2.67844021e-01],\n",
              "       [7.39617705e-01],\n",
              "       [6.49576932e-02],\n",
              "       [3.70155841e-01],\n",
              "       [8.69620204e-01],\n",
              "       [9.69830513e-01],\n",
              "       [3.13210458e-01],\n",
              "       [1.11793786e-01],\n",
              "       [9.99867320e-01],\n",
              "       [5.25776386e-01],\n",
              "       [9.19136345e-01],\n",
              "       [6.63685620e-01],\n",
              "       [8.42367232e-01],\n",
              "       [3.69089335e-01],\n",
              "       [9.85447705e-01],\n",
              "       [1.90510955e-02],\n",
              "       [1.75662056e-01],\n",
              "       [7.17124715e-03],\n",
              "       [5.41642169e-03],\n",
              "       [9.43224967e-01],\n",
              "       [8.26039672e-01],\n",
              "       [8.97212088e-01],\n",
              "       [2.03533724e-01],\n",
              "       [6.71925604e-01],\n",
              "       [7.98676088e-02],\n",
              "       [2.33107358e-02],\n",
              "       [1.58209115e-01],\n",
              "       [9.85574484e-01],\n",
              "       [1.69760466e-01],\n",
              "       [5.19286215e-01],\n",
              "       [9.95390296e-01],\n",
              "       [6.55086279e-01],\n",
              "       [5.56582093e-01],\n",
              "       [1.02588646e-01],\n",
              "       [1.84662312e-01],\n",
              "       [8.41700792e-01],\n",
              "       [3.29332918e-01],\n",
              "       [6.59315586e-01],\n",
              "       [2.05881342e-01],\n",
              "       [5.69454670e-01],\n",
              "       [3.57476681e-01],\n",
              "       [1.29428849e-01],\n",
              "       [9.01071504e-02],\n",
              "       [4.34449762e-01],\n",
              "       [2.18544394e-01],\n",
              "       [9.99882221e-01],\n",
              "       [9.89951670e-01],\n",
              "       [9.17282999e-02],\n",
              "       [2.18347013e-02],\n",
              "       [8.81186843e-01],\n",
              "       [1.09041616e-01],\n",
              "       [9.46274474e-02],\n",
              "       [4.01697725e-01],\n",
              "       [5.45373261e-02],\n",
              "       [6.18056953e-01],\n",
              "       [7.77705398e-04],\n",
              "       [4.09894139e-01],\n",
              "       [9.20789540e-01],\n",
              "       [3.37990850e-01],\n",
              "       [9.75961328e-01],\n",
              "       [9.98674631e-01],\n",
              "       [3.17736477e-01],\n",
              "       [1.43744007e-01],\n",
              "       [3.03891689e-01],\n",
              "       [4.28640023e-02],\n",
              "       [4.85817529e-03],\n",
              "       [9.83139813e-01],\n",
              "       [9.63794053e-01],\n",
              "       [6.59062564e-01],\n",
              "       [9.67772424e-01],\n",
              "       [6.44657761e-02],\n",
              "       [1.73938945e-01],\n",
              "       [8.78781825e-03],\n",
              "       [1.56202137e-01],\n",
              "       [2.64008529e-02],\n",
              "       [9.66189086e-01],\n",
              "       [8.49237144e-02],\n",
              "       [9.18598287e-03],\n",
              "       [9.82078969e-01],\n",
              "       [7.52946781e-03],\n",
              "       [9.81407762e-02],\n",
              "       [9.87786174e-01],\n",
              "       [4.05328013e-02],\n",
              "       [1.17028937e-01],\n",
              "       [5.82347019e-03],\n",
              "       [9.71670568e-01],\n",
              "       [5.90286016e-01],\n",
              "       [7.93732047e-01],\n",
              "       [7.13817835e-01],\n",
              "       [4.76261020e-01],\n",
              "       [6.96710721e-02],\n",
              "       [9.30368006e-01],\n",
              "       [5.02008796e-02],\n",
              "       [7.75338411e-01],\n",
              "       [4.35427785e-01],\n",
              "       [3.84771198e-01],\n",
              "       [3.50400805e-01],\n",
              "       [1.72555014e-01],\n",
              "       [7.65762985e-01],\n",
              "       [2.29387164e-01],\n",
              "       [7.10635304e-01],\n",
              "       [1.36831701e-01],\n",
              "       [7.71154523e-01],\n",
              "       [2.99627017e-02],\n",
              "       [7.99499825e-02],\n",
              "       [2.38970742e-01],\n",
              "       [9.85265672e-01],\n",
              "       [2.14939877e-01],\n",
              "       [1.19245403e-01],\n",
              "       [2.88844705e-01],\n",
              "       [3.08938503e-01],\n",
              "       [1.01882011e-01],\n",
              "       [4.06092107e-02],\n",
              "       [3.29906382e-02],\n",
              "       [9.82184708e-01],\n",
              "       [4.44242209e-01],\n",
              "       [2.75823325e-01],\n",
              "       [9.99806225e-01],\n",
              "       [4.86711189e-02],\n",
              "       [6.66948736e-01],\n",
              "       [2.84723699e-01],\n",
              "       [4.03372720e-02],\n",
              "       [2.42042601e-01],\n",
              "       [1.67959556e-01],\n",
              "       [1.64154366e-01],\n",
              "       [9.37507808e-01],\n",
              "       [2.81561464e-01],\n",
              "       [9.89071846e-01],\n",
              "       [1.20428413e-01],\n",
              "       [3.47496904e-02],\n",
              "       [9.96523440e-01],\n",
              "       [1.90675873e-02],\n",
              "       [9.96073842e-01],\n",
              "       [1.35202691e-01],\n",
              "       [4.70500179e-02],\n",
              "       [9.65137482e-01],\n",
              "       [4.97868136e-02],\n",
              "       [3.38584706e-02],\n",
              "       [9.80413377e-01],\n",
              "       [7.47567927e-03],\n",
              "       [2.18062416e-01],\n",
              "       [7.17132688e-01],\n",
              "       [9.13664401e-01],\n",
              "       [5.90634113e-03],\n",
              "       [1.66980684e-01],\n",
              "       [9.83266354e-01],\n",
              "       [9.66444850e-01],\n",
              "       [7.77729392e-01],\n",
              "       [4.78222162e-01],\n",
              "       [5.17000616e-01],\n",
              "       [4.13564652e-01],\n",
              "       [7.04174712e-02],\n",
              "       [9.72431749e-02],\n",
              "       [1.55512288e-01],\n",
              "       [8.02114248e-01],\n",
              "       [3.45859937e-02],\n",
              "       [3.94185275e-01],\n",
              "       [3.84872943e-01],\n",
              "       [1.29091796e-02],\n",
              "       [9.80155051e-01],\n",
              "       [9.98830974e-01],\n",
              "       [9.93244469e-01],\n",
              "       [3.39553803e-02],\n",
              "       [2.84876317e-01],\n",
              "       [1.29315242e-01],\n",
              "       [3.82699430e-01],\n",
              "       [7.71057904e-01],\n",
              "       [2.23697424e-01],\n",
              "       [2.16270182e-02],\n",
              "       [1.05408080e-01],\n",
              "       [4.02513221e-02],\n",
              "       [5.43398440e-01],\n",
              "       [9.82198212e-03],\n",
              "       [1.86866507e-01],\n",
              "       [4.25905734e-02],\n",
              "       [3.38160545e-01],\n",
              "       [3.12429219e-01],\n",
              "       [4.66584027e-01],\n",
              "       [2.72304893e-01],\n",
              "       [5.51684238e-02],\n",
              "       [3.08201492e-01],\n",
              "       [6.74026906e-02],\n",
              "       [9.97288942e-01],\n",
              "       [9.18925405e-01],\n",
              "       [5.46211839e-01],\n",
              "       [7.37754345e-01],\n",
              "       [2.28630658e-02],\n",
              "       [5.42574048e-01],\n",
              "       [9.91398454e-01],\n",
              "       [7.04072654e-01],\n",
              "       [2.56712973e-01],\n",
              "       [9.87171829e-01],\n",
              "       [1.88467726e-01],\n",
              "       [9.47349012e-01],\n",
              "       [2.92389065e-01],\n",
              "       [2.87190210e-02],\n",
              "       [5.01628757e-01],\n",
              "       [4.95109946e-01],\n",
              "       [9.96282399e-01],\n",
              "       [1.43384337e-01],\n",
              "       [5.29414527e-02],\n",
              "       [6.92454278e-02],\n",
              "       [2.23697424e-01],\n",
              "       [9.99269903e-01],\n",
              "       [2.39869636e-02],\n",
              "       [7.54374206e-01],\n",
              "       [9.70575035e-01],\n",
              "       [7.58711472e-02],\n",
              "       [9.99785364e-01],\n",
              "       [3.32179777e-02],\n",
              "       [3.96221727e-01],\n",
              "       [5.89097440e-02],\n",
              "       [7.51176536e-01],\n",
              "       [9.06993032e-01],\n",
              "       [7.04534128e-02],\n",
              "       [1.44255743e-03],\n",
              "       [2.56703168e-01],\n",
              "       [9.90107894e-01],\n",
              "       [9.09602404e-01],\n",
              "       [1.32809654e-01],\n",
              "       [3.94385129e-01],\n",
              "       [6.62138522e-01],\n",
              "       [3.83567922e-02],\n",
              "       [9.89660501e-01],\n",
              "       [4.60576773e-01],\n",
              "       [9.98912811e-01],\n",
              "       [9.21581805e-01],\n",
              "       [9.57095101e-02],\n",
              "       [3.15855145e-01],\n",
              "       [9.76618081e-02],\n",
              "       [9.46917415e-01],\n",
              "       [7.55027294e-01],\n",
              "       [3.64941001e-01],\n",
              "       [4.92712669e-02],\n",
              "       [3.05123806e-01],\n",
              "       [4.26433235e-02],\n",
              "       [8.11284184e-02],\n",
              "       [1.20536134e-01],\n",
              "       [3.67922038e-01],\n",
              "       [5.42922318e-01],\n",
              "       [1.89518049e-01],\n",
              "       [9.99053299e-01],\n",
              "       [9.84999597e-01],\n",
              "       [2.77800053e-01],\n",
              "       [7.33597219e-01],\n",
              "       [1.98159546e-01],\n",
              "       [3.50101441e-02],\n",
              "       [4.03858781e-01],\n",
              "       [6.31439269e-01],\n",
              "       [9.82837230e-02],\n",
              "       [2.58016020e-01],\n",
              "       [2.29077432e-02],\n",
              "       [5.08669496e-01],\n",
              "       [1.93531718e-03],\n",
              "       [9.38372612e-01],\n",
              "       [9.74496484e-01],\n",
              "       [9.94974971e-01],\n",
              "       [9.74853992e-01],\n",
              "       [8.39034081e-01],\n",
              "       [1.28306657e-01],\n",
              "       [5.67872301e-02],\n",
              "       [6.96058214e-01],\n",
              "       [8.99954081e-01],\n",
              "       [9.98431265e-01],\n",
              "       [3.41159524e-03],\n",
              "       [1.45804927e-01],\n",
              "       [1.66885659e-01],\n",
              "       [9.99056518e-01],\n",
              "       [9.99480784e-01],\n",
              "       [3.20751667e-01],\n",
              "       [1.30080134e-01],\n",
              "       [9.96983945e-01],\n",
              "       [6.85550869e-02],\n",
              "       [4.26845133e-01],\n",
              "       [9.84449923e-01],\n",
              "       [1.59953073e-01],\n",
              "       [8.06349516e-02],\n",
              "       [9.46442842e-01],\n",
              "       [3.35797310e-01],\n",
              "       [4.43230659e-01],\n",
              "       [9.73591983e-01],\n",
              "       [1.41705936e-02],\n",
              "       [6.29051998e-02],\n",
              "       [1.09961899e-02],\n",
              "       [2.08618175e-02],\n",
              "       [8.96232724e-02],\n",
              "       [9.71369803e-01],\n",
              "       [2.94282511e-02],\n",
              "       [4.21136349e-01],\n",
              "       [4.98669118e-01],\n",
              "       [1.00794107e-01],\n",
              "       [2.89798945e-01],\n",
              "       [9.12366658e-02],\n",
              "       [3.40730071e-01],\n",
              "       [9.97357547e-01],\n",
              "       [6.32271409e-01],\n",
              "       [1.13930710e-01],\n",
              "       [1.51448131e-01],\n",
              "       [1.38045758e-01],\n",
              "       [8.76974091e-02],\n",
              "       [7.03884542e-01],\n",
              "       [1.72165278e-02],\n",
              "       [9.16585326e-01],\n",
              "       [7.78575420e-01],\n",
              "       [6.19904399e-01],\n",
              "       [6.72376096e-01],\n",
              "       [7.69115508e-01],\n",
              "       [1.08484596e-01],\n",
              "       [3.91334891e-01],\n",
              "       [4.22862947e-01],\n",
              "       [8.85615051e-01],\n",
              "       [2.32040673e-01],\n",
              "       [3.31993133e-01],\n",
              "       [3.77800971e-01],\n",
              "       [1.60242673e-02],\n",
              "       [1.49172693e-01],\n",
              "       [4.32396203e-01],\n",
              "       [7.52598882e-01],\n",
              "       [1.92855090e-01],\n",
              "       [9.88312781e-01],\n",
              "       [9.18721616e-01],\n",
              "       [7.37432659e-01],\n",
              "       [9.86061096e-01],\n",
              "       [1.71290681e-01],\n",
              "       [1.13628320e-01],\n",
              "       [9.03497875e-01],\n",
              "       [1.92927212e-01],\n",
              "       [2.46047154e-02],\n",
              "       [5.27596138e-02],\n",
              "       [9.94326845e-02],\n",
              "       [1.32771884e-03],\n",
              "       [8.53207827e-01],\n",
              "       [8.19879532e-01],\n",
              "       [8.41933370e-01],\n",
              "       [9.40838873e-01],\n",
              "       [6.62442967e-02],\n",
              "       [2.11281002e-01],\n",
              "       [7.46657550e-01],\n",
              "       [1.47028193e-02],\n",
              "       [3.14077139e-01],\n",
              "       [1.66748300e-01],\n",
              "       [6.21362269e-01],\n",
              "       [5.45928180e-01],\n",
              "       [5.70846200e-02],\n",
              "       [6.75891861e-02],\n",
              "       [6.19811833e-01],\n",
              "       [1.42123982e-01],\n",
              "       [1.61679611e-01],\n",
              "       [1.24330007e-01],\n",
              "       [2.25987107e-01],\n",
              "       [9.98961806e-01],\n",
              "       [9.77598667e-01],\n",
              "       [3.26048374e-01],\n",
              "       [8.53560925e-01],\n",
              "       [9.91642833e-01],\n",
              "       [1.07527687e-03],\n",
              "       [9.66939807e-01],\n",
              "       [2.60015249e-01],\n",
              "       [4.58192974e-01],\n",
              "       [3.36982876e-01],\n",
              "       [1.22052416e-01],\n",
              "       [1.40887797e-01],\n",
              "       [3.26641314e-02],\n",
              "       [8.24597180e-02],\n",
              "       [6.34999424e-02],\n",
              "       [7.05250978e-01],\n",
              "       [2.44387537e-01],\n",
              "       [9.95064914e-01],\n",
              "       [6.91700131e-02],\n",
              "       [6.27739966e-01],\n",
              "       [5.57862222e-01],\n",
              "       [1.71799287e-02],\n",
              "       [5.60955219e-02],\n",
              "       [9.68248725e-01],\n",
              "       [7.29824483e-01],\n",
              "       [9.65793252e-01],\n",
              "       [1.48964822e-01],\n",
              "       [7.89516792e-02],\n",
              "       [3.81437927e-01],\n",
              "       [3.32664818e-01],\n",
              "       [3.96924049e-01],\n",
              "       [9.91642833e-01],\n",
              "       [1.48341507e-02],\n",
              "       [5.00769876e-02],\n",
              "       [1.62386611e-01],\n",
              "       [9.97238278e-01],\n",
              "       [1.79051250e-01],\n",
              "       [6.12843148e-02],\n",
              "       [8.10782492e-01],\n",
              "       [6.45275936e-02],\n",
              "       [3.18142921e-02],\n",
              "       [1.84214592e-01],\n",
              "       [2.59751916e-01],\n",
              "       [1.57732204e-01],\n",
              "       [3.43829334e-01],\n",
              "       [3.35889786e-01],\n",
              "       [2.06110597e-01],\n",
              "       [9.16692689e-02],\n",
              "       [4.22282457e-01],\n",
              "       [1.58329252e-02],\n",
              "       [9.36351061e-01],\n",
              "       [8.09175313e-01],\n",
              "       [5.62971354e-01],\n",
              "       [4.00116034e-02],\n",
              "       [2.28800531e-02],\n",
              "       [9.81737018e-01],\n",
              "       [5.44529200e-01],\n",
              "       [9.99550521e-01],\n",
              "       [3.20903599e-01],\n",
              "       [8.97537291e-01],\n",
              "       [1.67753756e-01],\n",
              "       [5.77419937e-01],\n",
              "       [7.81469762e-01],\n",
              "       [2.32540481e-02],\n",
              "       [9.78738964e-01],\n",
              "       [1.47196054e-01],\n",
              "       [5.53406715e-01],\n",
              "       [9.98346448e-01],\n",
              "       [1.59985438e-01],\n",
              "       [3.16319950e-02],\n",
              "       [3.06462079e-01],\n",
              "       [1.53970923e-02],\n",
              "       [5.11385858e-01],\n",
              "       [9.99867320e-01],\n",
              "       [3.50664228e-01],\n",
              "       [9.42004442e-01],\n",
              "       [2.92375088e-01],\n",
              "       [8.16883743e-01],\n",
              "       [2.89378047e-01],\n",
              "       [3.75399709e-01],\n",
              "       [2.19361261e-02],\n",
              "       [5.74228883e-01],\n",
              "       [1.72343925e-02],\n",
              "       [2.61823058e-01],\n",
              "       [9.55002904e-01],\n",
              "       [9.62573230e-01],\n",
              "       [9.96132731e-01],\n",
              "       [7.56414652e-01],\n",
              "       [4.13389057e-02],\n",
              "       [3.68558049e-01],\n",
              "       [2.39797458e-02],\n",
              "       [5.55731773e-01],\n",
              "       [3.70074987e-01],\n",
              "       [9.32858229e-01],\n",
              "       [3.22711803e-02],\n",
              "       [7.94643104e-01],\n",
              "       [8.47148120e-01],\n",
              "       [2.83179611e-01],\n",
              "       [2.71869957e-01],\n",
              "       [3.31993133e-01],\n",
              "       [2.00765282e-01],\n",
              "       [5.29300332e-01],\n",
              "       [6.16152406e-01],\n",
              "       [9.98894751e-01],\n",
              "       [8.53349194e-02],\n",
              "       [7.97781069e-03],\n",
              "       [1.61999837e-02],\n",
              "       [3.06277037e-01],\n",
              "       [2.36953989e-01],\n",
              "       [2.72805318e-02],\n",
              "       [8.56089413e-01],\n",
              "       [1.03284232e-01],\n",
              "       [2.18040377e-01],\n",
              "       [2.15452284e-01],\n",
              "       [2.90972263e-01],\n",
              "       [9.36985791e-01],\n",
              "       [1.65904522e-01],\n",
              "       [4.77251738e-01],\n",
              "       [3.22218150e-01],\n",
              "       [1.25267757e-02],\n",
              "       [1.03942998e-01],\n",
              "       [9.99700308e-01],\n",
              "       [8.34705472e-01],\n",
              "       [4.05325182e-03],\n",
              "       [3.41984808e-01],\n",
              "       [2.15211347e-01],\n",
              "       [6.43559471e-02],\n",
              "       [8.93418670e-01],\n",
              "       [4.97860223e-01],\n",
              "       [6.62439823e-01],\n",
              "       [3.50519568e-01],\n",
              "       [2.08868220e-01],\n",
              "       [6.74202263e-01],\n",
              "       [2.10238129e-01],\n",
              "       [5.05055040e-02],\n",
              "       [8.82247448e-01],\n",
              "       [1.92416355e-01],\n",
              "       [4.13050383e-01],\n",
              "       [9.88355756e-01],\n",
              "       [3.30488294e-01],\n",
              "       [4.99028087e-01],\n",
              "       [1.32771884e-03],\n",
              "       [3.81647468e-01],\n",
              "       [8.26692939e-01],\n",
              "       [9.99785364e-01],\n",
              "       [7.09401548e-01],\n",
              "       [4.60828207e-02],\n",
              "       [9.93258595e-01],\n",
              "       [3.92332792e-01],\n",
              "       [8.67564142e-01],\n",
              "       [3.92332792e-01],\n",
              "       [9.93150294e-01],\n",
              "       [1.00066997e-02],\n",
              "       [4.45864558e-01],\n",
              "       [1.07030548e-01],\n",
              "       [9.69971538e-01],\n",
              "       [2.52014726e-01],\n",
              "       [4.22793031e-01],\n",
              "       [6.67192116e-02],\n",
              "       [3.43275428e-01],\n",
              "       [1.17296010e-01],\n",
              "       [1.71539020e-02],\n",
              "       [2.54244626e-01],\n",
              "       [5.58855496e-02],\n",
              "       [1.59182236e-01],\n",
              "       [7.83315003e-01],\n",
              "       [3.19183953e-02],\n",
              "       [1.66894078e-01],\n",
              "       [3.63872722e-02],\n",
              "       [1.11946827e-02],\n",
              "       [1.17619187e-01],\n",
              "       [6.11462474e-01],\n",
              "       [7.50975385e-02],\n",
              "       [5.94231009e-01],\n",
              "       [1.20448694e-01],\n",
              "       [2.00279936e-01],\n",
              "       [9.05252099e-01],\n",
              "       [1.63726762e-01],\n",
              "       [4.25154082e-02],\n",
              "       [5.49428351e-02],\n",
              "       [4.81105177e-03],\n",
              "       [9.88367260e-01],\n",
              "       [1.11946827e-02],\n",
              "       [3.31171006e-01],\n",
              "       [9.93876398e-01],\n",
              "       [9.95016634e-01],\n",
              "       [9.97816324e-01],\n",
              "       [9.99896169e-01],\n",
              "       [9.99457777e-01],\n",
              "       [2.22969577e-01],\n",
              "       [9.66583639e-02],\n",
              "       [3.14007670e-01],\n",
              "       [5.72659969e-01],\n",
              "       [9.97223973e-01],\n",
              "       [5.09688377e-01],\n",
              "       [2.57397264e-01],\n",
              "       [5.09016156e-01],\n",
              "       [7.19659448e-01],\n",
              "       [2.82058492e-02],\n",
              "       [8.13217089e-03],\n",
              "       [1.13742679e-01],\n",
              "       [3.71017903e-01],\n",
              "       [7.78865395e-03],\n",
              "       [1.00939758e-01],\n",
              "       [4.07440156e-01],\n",
              "       [9.89579856e-01],\n",
              "       [2.94176172e-02],\n",
              "       [8.84159744e-01],\n",
              "       [7.78187454e-01],\n",
              "       [8.76504332e-02],\n",
              "       [3.49674881e-01],\n",
              "       [1.18472345e-01],\n",
              "       [7.63026953e-01],\n",
              "       [4.35167342e-01],\n",
              "       [1.04362043e-02]], dtype=float32)"
            ]
          },
          "execution_count": 209,
          "metadata": {},
          "output_type": "execute_result"
        }
      ],
      "source": [
        "model_1_pred_probs"
      ]
    },
    {
      "cell_type": "code",
      "execution_count": 210,
      "metadata": {
        "colab": {
          "base_uri": "https://localhost:8080/"
        },
        "id": "-UK4dubCO6Rp",
        "outputId": "37fc5694-89ca-4034-c75b-f61998ee4201"
      },
      "outputs": [
        {
          "data": {
            "text/plain": [
              "array([[0.33771533],\n",
              "       [0.7335972 ],\n",
              "       [0.9977475 ],\n",
              "       [0.18840562],\n",
              "       [0.10115089],\n",
              "       [0.9423977 ],\n",
              "       [0.8943258 ],\n",
              "       [0.99429095],\n",
              "       [0.96382064],\n",
              "       [0.39987895]], dtype=float32)"
            ]
          },
          "execution_count": 210,
          "metadata": {},
          "output_type": "execute_result"
        }
      ],
      "source": [
        "model_1_pred_probs[:10]"
      ]
    },
    {
      "cell_type": "code",
      "execution_count": 211,
      "metadata": {
        "id": "XA5XJpauO6Rp"
      },
      "outputs": [],
      "source": [
        "model_1_preds=tf.squeeze(tf.round(model_1_pred_probs))"
      ]
    },
    {
      "cell_type": "code",
      "execution_count": 212,
      "metadata": {
        "colab": {
          "base_uri": "https://localhost:8080/"
        },
        "id": "aanhEe8MO6Rp",
        "outputId": "36790a02-009b-443b-c635-6efa7cd104d8"
      },
      "outputs": [
        {
          "data": {
            "text/plain": [
              "<tf.Tensor: shape=(20,), dtype=float32, numpy=\n",
              "array([0., 1., 1., 0., 0., 1., 1., 1., 1., 0., 0., 1., 0., 0., 0., 0., 0.,\n",
              "       0., 0., 1.], dtype=float32)>"
            ]
          },
          "execution_count": 212,
          "metadata": {},
          "output_type": "execute_result"
        }
      ],
      "source": [
        "model_1_preds[:20]"
      ]
    },
    {
      "cell_type": "code",
      "execution_count": 213,
      "metadata": {
        "id": "xtMn7QqdO6Rp"
      },
      "outputs": [],
      "source": [
        "model_1_results = calculate_results(val_labels,model_1_preds)"
      ]
    },
    {
      "cell_type": "code",
      "execution_count": 214,
      "metadata": {
        "colab": {
          "base_uri": "https://localhost:8080/"
        },
        "id": "drSz8PMoO6Rp",
        "outputId": "b54188b1-5462-4cf2-979c-1fe5d4442fd7"
      },
      "outputs": [
        {
          "data": {
            "text/plain": [
              "{'accuracy': 77.69028871391076,\n",
              " 'precision': 0.7798819103655997,\n",
              " 'recall': 0.7769028871391076,\n",
              " 'f1': 0.7743498017353971}"
            ]
          },
          "execution_count": 214,
          "metadata": {},
          "output_type": "execute_result"
        }
      ],
      "source": [
        "model_1_results"
      ]
    },
    {
      "cell_type": "code",
      "execution_count": 215,
      "metadata": {
        "colab": {
          "base_uri": "https://localhost:8080/"
        },
        "id": "mZnDpI0TO6Rq",
        "outputId": "84e09e00-0b77-4ee9-b0da-99c953224b8a"
      },
      "outputs": [
        {
          "data": {
            "text/plain": [
              "{'accuracy': 79.26509186351706,\n",
              " 'precision': 0.8111390004213173,\n",
              " 'recall': 0.7926509186351706,\n",
              " 'f1': 0.7862189758049549}"
            ]
          },
          "execution_count": 215,
          "metadata": {},
          "output_type": "execute_result"
        }
      ],
      "source": [
        "baseline_results"
      ]
    },
    {
      "cell_type": "code",
      "execution_count": 216,
      "metadata": {
        "colab": {
          "base_uri": "https://localhost:8080/"
        },
        "id": "OEeQg197O6Rq",
        "outputId": "6cf56f42-6d0c-4914-bd57-374f8c0525b7"
      },
      "outputs": [
        {
          "data": {
            "text/plain": [
              "array([False, False, False, False])"
            ]
          },
          "execution_count": 216,
          "metadata": {},
          "output_type": "execute_result"
        }
      ],
      "source": [
        "import numpy as np\n",
        "np.array(list(model_1_results.values())) > np.array(list(baseline_results.values()))"
      ]
    },
    {
      "cell_type": "code",
      "execution_count": 217,
      "metadata": {
        "colab": {
          "base_uri": "https://localhost:8080/"
        },
        "id": "gDIFgFUkO6Rq",
        "outputId": "6bff76e4-59b8-479e-dfd4-060f72a70c61"
      },
      "outputs": [
        {
          "data": {
            "text/plain": [
              "(10000, ['', '[UNK]', 'the', 'a', 'in', 'to', 'of', 'and', 'i', 'is'])"
            ]
          },
          "execution_count": 217,
          "metadata": {},
          "output_type": "execute_result"
        }
      ],
      "source": [
        "words_in_vocab = text_vectorizer.get_vocabulary()\n",
        "len(words_in_vocab),words_in_vocab[:10]"
      ]
    },
    {
      "cell_type": "code",
      "execution_count": 218,
      "metadata": {
        "colab": {
          "base_uri": "https://localhost:8080/",
          "height": 352
        },
        "id": "c2vcz5VaO6Rr",
        "outputId": "7f6c7273-f3d7-4e2b-d8db-9cbcf91ec2f0"
      },
      "outputs": [
        {
          "data": {
            "text/html": [
              "<pre style=\"white-space:pre;overflow-x:auto;line-height:normal;font-family:Menlo,'DejaVu Sans Mono',consolas,'Courier New',monospace\"><span style=\"font-weight: bold\">Model: \"model_1_dense\"</span>\n",
              "</pre>\n"
            ],
            "text/plain": [
              "\u001b[1mModel: \"model_1_dense\"\u001b[0m\n"
            ]
          },
          "metadata": {},
          "output_type": "display_data"
        },
        {
          "data": {
            "text/html": [
              "<pre style=\"white-space:pre;overflow-x:auto;line-height:normal;font-family:Menlo,'DejaVu Sans Mono',consolas,'Courier New',monospace\">┏━━━━━━━━━━━━━━━━━━━━━━━━━━━━━━━━━━━━━━┳━━━━━━━━━━━━━━━━━━━━━━━━━━━━━┳━━━━━━━━━━━━━━━━━┓\n",
              "┃<span style=\"font-weight: bold\"> Layer (type)                         </span>┃<span style=\"font-weight: bold\"> Output Shape                </span>┃<span style=\"font-weight: bold\">         Param # </span>┃\n",
              "┡━━━━━━━━━━━━━━━━━━━━━━━━━━━━━━━━━━━━━━╇━━━━━━━━━━━━━━━━━━━━━━━━━━━━━╇━━━━━━━━━━━━━━━━━┩\n",
              "│ input_layer_5 (<span style=\"color: #0087ff; text-decoration-color: #0087ff\">InputLayer</span>)           │ (<span style=\"color: #00d7ff; text-decoration-color: #00d7ff\">None</span>, <span style=\"color: #00af00; text-decoration-color: #00af00\">1</span>)                   │               <span style=\"color: #00af00; text-decoration-color: #00af00\">0</span> │\n",
              "├──────────────────────────────────────┼─────────────────────────────┼─────────────────┤\n",
              "│ text_vectorization_1                 │ (<span style=\"color: #00d7ff; text-decoration-color: #00d7ff\">None</span>, <span style=\"color: #00af00; text-decoration-color: #00af00\">15</span>)                  │               <span style=\"color: #00af00; text-decoration-color: #00af00\">0</span> │\n",
              "│ (<span style=\"color: #0087ff; text-decoration-color: #0087ff\">TextVectorization</span>)                  │                             │                 │\n",
              "├──────────────────────────────────────┼─────────────────────────────┼─────────────────┤\n",
              "│ embedding_1 (<span style=\"color: #0087ff; text-decoration-color: #0087ff\">Embedding</span>)              │ (<span style=\"color: #00d7ff; text-decoration-color: #00d7ff\">None</span>, <span style=\"color: #00af00; text-decoration-color: #00af00\">15</span>, <span style=\"color: #00af00; text-decoration-color: #00af00\">128</span>)             │       <span style=\"color: #00af00; text-decoration-color: #00af00\">1,280,000</span> │\n",
              "├──────────────────────────────────────┼─────────────────────────────┼─────────────────┤\n",
              "│ global_average_pooling1d_1           │ (<span style=\"color: #00d7ff; text-decoration-color: #00d7ff\">None</span>, <span style=\"color: #00af00; text-decoration-color: #00af00\">128</span>)                 │               <span style=\"color: #00af00; text-decoration-color: #00af00\">0</span> │\n",
              "│ (<span style=\"color: #0087ff; text-decoration-color: #0087ff\">GlobalAveragePooling1D</span>)             │                             │                 │\n",
              "├──────────────────────────────────────┼─────────────────────────────┼─────────────────┤\n",
              "│ dense_6 (<span style=\"color: #0087ff; text-decoration-color: #0087ff\">Dense</span>)                      │ (<span style=\"color: #00d7ff; text-decoration-color: #00d7ff\">None</span>, <span style=\"color: #00af00; text-decoration-color: #00af00\">1</span>)                   │             <span style=\"color: #00af00; text-decoration-color: #00af00\">129</span> │\n",
              "└──────────────────────────────────────┴─────────────────────────────┴─────────────────┘\n",
              "</pre>\n"
            ],
            "text/plain": [
              "┏━━━━━━━━━━━━━━━━━━━━━━━━━━━━━━━━━━━━━━┳━━━━━━━━━━━━━━━━━━━━━━━━━━━━━┳━━━━━━━━━━━━━━━━━┓\n",
              "┃\u001b[1m \u001b[0m\u001b[1mLayer (type)                        \u001b[0m\u001b[1m \u001b[0m┃\u001b[1m \u001b[0m\u001b[1mOutput Shape               \u001b[0m\u001b[1m \u001b[0m┃\u001b[1m \u001b[0m\u001b[1m        Param #\u001b[0m\u001b[1m \u001b[0m┃\n",
              "┡━━━━━━━━━━━━━━━━━━━━━━━━━━━━━━━━━━━━━━╇━━━━━━━━━━━━━━━━━━━━━━━━━━━━━╇━━━━━━━━━━━━━━━━━┩\n",
              "│ input_layer_5 (\u001b[38;5;33mInputLayer\u001b[0m)           │ (\u001b[38;5;45mNone\u001b[0m, \u001b[38;5;34m1\u001b[0m)                   │               \u001b[38;5;34m0\u001b[0m │\n",
              "├──────────────────────────────────────┼─────────────────────────────┼─────────────────┤\n",
              "│ text_vectorization_1                 │ (\u001b[38;5;45mNone\u001b[0m, \u001b[38;5;34m15\u001b[0m)                  │               \u001b[38;5;34m0\u001b[0m │\n",
              "│ (\u001b[38;5;33mTextVectorization\u001b[0m)                  │                             │                 │\n",
              "├──────────────────────────────────────┼─────────────────────────────┼─────────────────┤\n",
              "│ embedding_1 (\u001b[38;5;33mEmbedding\u001b[0m)              │ (\u001b[38;5;45mNone\u001b[0m, \u001b[38;5;34m15\u001b[0m, \u001b[38;5;34m128\u001b[0m)             │       \u001b[38;5;34m1,280,000\u001b[0m │\n",
              "├──────────────────────────────────────┼─────────────────────────────┼─────────────────┤\n",
              "│ global_average_pooling1d_1           │ (\u001b[38;5;45mNone\u001b[0m, \u001b[38;5;34m128\u001b[0m)                 │               \u001b[38;5;34m0\u001b[0m │\n",
              "│ (\u001b[38;5;33mGlobalAveragePooling1D\u001b[0m)             │                             │                 │\n",
              "├──────────────────────────────────────┼─────────────────────────────┼─────────────────┤\n",
              "│ dense_6 (\u001b[38;5;33mDense\u001b[0m)                      │ (\u001b[38;5;45mNone\u001b[0m, \u001b[38;5;34m1\u001b[0m)                   │             \u001b[38;5;34m129\u001b[0m │\n",
              "└──────────────────────────────────────┴─────────────────────────────┴─────────────────┘\n"
            ]
          },
          "metadata": {},
          "output_type": "display_data"
        },
        {
          "data": {
            "text/html": [
              "<pre style=\"white-space:pre;overflow-x:auto;line-height:normal;font-family:Menlo,'DejaVu Sans Mono',consolas,'Courier New',monospace\"><span style=\"font-weight: bold\"> Total params: </span><span style=\"color: #00af00; text-decoration-color: #00af00\">3,840,389</span> (14.65 MB)\n",
              "</pre>\n"
            ],
            "text/plain": [
              "\u001b[1m Total params: \u001b[0m\u001b[38;5;34m3,840,389\u001b[0m (14.65 MB)\n"
            ]
          },
          "metadata": {},
          "output_type": "display_data"
        },
        {
          "data": {
            "text/html": [
              "<pre style=\"white-space:pre;overflow-x:auto;line-height:normal;font-family:Menlo,'DejaVu Sans Mono',consolas,'Courier New',monospace\"><span style=\"font-weight: bold\"> Trainable params: </span><span style=\"color: #00af00; text-decoration-color: #00af00\">1,280,129</span> (4.88 MB)\n",
              "</pre>\n"
            ],
            "text/plain": [
              "\u001b[1m Trainable params: \u001b[0m\u001b[38;5;34m1,280,129\u001b[0m (4.88 MB)\n"
            ]
          },
          "metadata": {},
          "output_type": "display_data"
        },
        {
          "data": {
            "text/html": [
              "<pre style=\"white-space:pre;overflow-x:auto;line-height:normal;font-family:Menlo,'DejaVu Sans Mono',consolas,'Courier New',monospace\"><span style=\"font-weight: bold\"> Non-trainable params: </span><span style=\"color: #00af00; text-decoration-color: #00af00\">0</span> (0.00 B)\n",
              "</pre>\n"
            ],
            "text/plain": [
              "\u001b[1m Non-trainable params: \u001b[0m\u001b[38;5;34m0\u001b[0m (0.00 B)\n"
            ]
          },
          "metadata": {},
          "output_type": "display_data"
        },
        {
          "data": {
            "text/html": [
              "<pre style=\"white-space:pre;overflow-x:auto;line-height:normal;font-family:Menlo,'DejaVu Sans Mono',consolas,'Courier New',monospace\"><span style=\"font-weight: bold\"> Optimizer params: </span><span style=\"color: #00af00; text-decoration-color: #00af00\">2,560,260</span> (9.77 MB)\n",
              "</pre>\n"
            ],
            "text/plain": [
              "\u001b[1m Optimizer params: \u001b[0m\u001b[38;5;34m2,560,260\u001b[0m (9.77 MB)\n"
            ]
          },
          "metadata": {},
          "output_type": "display_data"
        }
      ],
      "source": [
        "model_1.summary()"
      ]
    },
    {
      "cell_type": "code",
      "execution_count": 219,
      "metadata": {
        "id": "-vhYfR3JO6Rr"
      },
      "outputs": [],
      "source": [
        "embed_weights = model_1.get_layer(\"embedding_1\").get_weights()[0]"
      ]
    },
    {
      "cell_type": "code",
      "execution_count": 220,
      "metadata": {
        "colab": {
          "base_uri": "https://localhost:8080/"
        },
        "id": "6PurgdKIO6Rr",
        "outputId": "dd7008a3-9138-4478-b23a-2a98e6f1b794"
      },
      "outputs": [
        {
          "data": {
            "text/plain": [
              "array([[ 0.04244994,  0.02962796,  0.03194597, ..., -0.00720495,\n",
              "        -0.0285625 ,  0.00935858],\n",
              "       [-0.02987258, -0.00144666, -0.04544674, ..., -0.04465601,\n",
              "        -0.02904001,  0.0178905 ],\n",
              "       [ 0.0044358 ,  0.00957766,  0.00937664, ..., -0.02925523,\n",
              "         0.01168516,  0.01201634],\n",
              "       ...,\n",
              "       [ 0.03909577, -0.00679838,  0.04843788, ..., -0.01742174,\n",
              "         0.00811453, -0.0348958 ],\n",
              "       [-0.05141778, -0.01767031, -0.04945493, ..., -0.08057954,\n",
              "        -0.08220017, -0.08338605],\n",
              "       [-0.04181705, -0.06866171, -0.07083809, ..., -0.11189332,\n",
              "        -0.06255407, -0.0633662 ]], dtype=float32)"
            ]
          },
          "execution_count": 220,
          "metadata": {},
          "output_type": "execute_result"
        }
      ],
      "source": [
        "embed_weights"
      ]
    },
    {
      "cell_type": "code",
      "execution_count": 221,
      "metadata": {
        "colab": {
          "base_uri": "https://localhost:8080/"
        },
        "id": "O9hQZur9O6Rs",
        "outputId": "e4aeae33-cdf9-40fa-84d0-faa0941dd31a"
      },
      "outputs": [
        {
          "data": {
            "text/plain": [
              "(10000, 128)"
            ]
          },
          "execution_count": 221,
          "metadata": {},
          "output_type": "execute_result"
        }
      ],
      "source": [
        "embed_weights.shape"
      ]
    },
    {
      "cell_type": "code",
      "execution_count": 222,
      "metadata": {
        "id": "9CwnvGwCO6Rs"
      },
      "outputs": [],
      "source": [
        "import io\n",
        "out_v = io.open('vectors.tsv', 'w', encoding='utf-8')\n",
        "out_m = io.open('metadata.tsv', 'w', encoding='utf-8')\n",
        "\n",
        "for index, word in enumerate(words_in_vocab):\n",
        "  if index == 0:\n",
        "    continue  # skip 0, it's padding.\n",
        "  vec = embed_weights[index]\n",
        "  out_v.write('\\t'.join([str(x) for x in vec]) + \"\\n\")\n",
        "  out_m.write(word + \"\\n\")\n",
        "out_v.close()\n",
        "out_m.close()"
      ]
    },
    {
      "cell_type": "code",
      "execution_count": 223,
      "metadata": {
        "id": "PbQFh6bgO6Rs"
      },
      "outputs": [],
      "source": [
        "from tensorflow.keras import  layers"
      ]
    },
    {
      "cell_type": "code",
      "execution_count": 224,
      "metadata": {
        "id": "hK_GQTdbO6Rs"
      },
      "outputs": [],
      "source": [
        "inputs = layers.Input(shape=(1,),dtype=tf.string)\n",
        "x=text_vectorizer(inputs)\n",
        "x=embeddings(x)\n",
        "# x=layers.LSTM(64,return_sequences=True)(x)\n",
        "x=layers.LSTM(64)(x)\n",
        "outputs=layers.Dense(1,activation=\"sigmoid\")(x)\n",
        "model_2=tf.keras.Model(inputs,outputs,name=\"model_2_LTSM\")\n",
        "\n"
      ]
    },
    {
      "cell_type": "code",
      "execution_count": 225,
      "metadata": {
        "colab": {
          "base_uri": "https://localhost:8080/",
          "height": 320
        },
        "id": "kf4CrfRFO6Rs",
        "outputId": "91cfbd96-5df1-4008-a14e-93eb241370a6"
      },
      "outputs": [
        {
          "data": {
            "text/html": [
              "<pre style=\"white-space:pre;overflow-x:auto;line-height:normal;font-family:Menlo,'DejaVu Sans Mono',consolas,'Courier New',monospace\"><span style=\"font-weight: bold\">Model: \"model_2_LTSM\"</span>\n",
              "</pre>\n"
            ],
            "text/plain": [
              "\u001b[1mModel: \"model_2_LTSM\"\u001b[0m\n"
            ]
          },
          "metadata": {},
          "output_type": "display_data"
        },
        {
          "data": {
            "text/html": [
              "<pre style=\"white-space:pre;overflow-x:auto;line-height:normal;font-family:Menlo,'DejaVu Sans Mono',consolas,'Courier New',monospace\">┏━━━━━━━━━━━━━━━━━━━━━━━━━━━━━━━━━━━━━━┳━━━━━━━━━━━━━━━━━━━━━━━━━━━━━┳━━━━━━━━━━━━━━━━━┓\n",
              "┃<span style=\"font-weight: bold\"> Layer (type)                         </span>┃<span style=\"font-weight: bold\"> Output Shape                </span>┃<span style=\"font-weight: bold\">         Param # </span>┃\n",
              "┡━━━━━━━━━━━━━━━━━━━━━━━━━━━━━━━━━━━━━━╇━━━━━━━━━━━━━━━━━━━━━━━━━━━━━╇━━━━━━━━━━━━━━━━━┩\n",
              "│ input_layer_6 (<span style=\"color: #0087ff; text-decoration-color: #0087ff\">InputLayer</span>)           │ (<span style=\"color: #00d7ff; text-decoration-color: #00d7ff\">None</span>, <span style=\"color: #00af00; text-decoration-color: #00af00\">1</span>)                   │               <span style=\"color: #00af00; text-decoration-color: #00af00\">0</span> │\n",
              "├──────────────────────────────────────┼─────────────────────────────┼─────────────────┤\n",
              "│ text_vectorization_1                 │ (<span style=\"color: #00d7ff; text-decoration-color: #00d7ff\">None</span>, <span style=\"color: #00af00; text-decoration-color: #00af00\">15</span>)                  │               <span style=\"color: #00af00; text-decoration-color: #00af00\">0</span> │\n",
              "│ (<span style=\"color: #0087ff; text-decoration-color: #0087ff\">TextVectorization</span>)                  │                             │                 │\n",
              "├──────────────────────────────────────┼─────────────────────────────┼─────────────────┤\n",
              "│ embedding_1 (<span style=\"color: #0087ff; text-decoration-color: #0087ff\">Embedding</span>)              │ (<span style=\"color: #00d7ff; text-decoration-color: #00d7ff\">None</span>, <span style=\"color: #00af00; text-decoration-color: #00af00\">15</span>, <span style=\"color: #00af00; text-decoration-color: #00af00\">128</span>)             │       <span style=\"color: #00af00; text-decoration-color: #00af00\">1,280,000</span> │\n",
              "├──────────────────────────────────────┼─────────────────────────────┼─────────────────┤\n",
              "│ lstm_2 (<span style=\"color: #0087ff; text-decoration-color: #0087ff\">LSTM</span>)                        │ (<span style=\"color: #00d7ff; text-decoration-color: #00d7ff\">None</span>, <span style=\"color: #00af00; text-decoration-color: #00af00\">64</span>)                  │          <span style=\"color: #00af00; text-decoration-color: #00af00\">49,408</span> │\n",
              "├──────────────────────────────────────┼─────────────────────────────┼─────────────────┤\n",
              "│ dense_7 (<span style=\"color: #0087ff; text-decoration-color: #0087ff\">Dense</span>)                      │ (<span style=\"color: #00d7ff; text-decoration-color: #00d7ff\">None</span>, <span style=\"color: #00af00; text-decoration-color: #00af00\">1</span>)                   │              <span style=\"color: #00af00; text-decoration-color: #00af00\">65</span> │\n",
              "└──────────────────────────────────────┴─────────────────────────────┴─────────────────┘\n",
              "</pre>\n"
            ],
            "text/plain": [
              "┏━━━━━━━━━━━━━━━━━━━━━━━━━━━━━━━━━━━━━━┳━━━━━━━━━━━━━━━━━━━━━━━━━━━━━┳━━━━━━━━━━━━━━━━━┓\n",
              "┃\u001b[1m \u001b[0m\u001b[1mLayer (type)                        \u001b[0m\u001b[1m \u001b[0m┃\u001b[1m \u001b[0m\u001b[1mOutput Shape               \u001b[0m\u001b[1m \u001b[0m┃\u001b[1m \u001b[0m\u001b[1m        Param #\u001b[0m\u001b[1m \u001b[0m┃\n",
              "┡━━━━━━━━━━━━━━━━━━━━━━━━━━━━━━━━━━━━━━╇━━━━━━━━━━━━━━━━━━━━━━━━━━━━━╇━━━━━━━━━━━━━━━━━┩\n",
              "│ input_layer_6 (\u001b[38;5;33mInputLayer\u001b[0m)           │ (\u001b[38;5;45mNone\u001b[0m, \u001b[38;5;34m1\u001b[0m)                   │               \u001b[38;5;34m0\u001b[0m │\n",
              "├──────────────────────────────────────┼─────────────────────────────┼─────────────────┤\n",
              "│ text_vectorization_1                 │ (\u001b[38;5;45mNone\u001b[0m, \u001b[38;5;34m15\u001b[0m)                  │               \u001b[38;5;34m0\u001b[0m │\n",
              "│ (\u001b[38;5;33mTextVectorization\u001b[0m)                  │                             │                 │\n",
              "├──────────────────────────────────────┼─────────────────────────────┼─────────────────┤\n",
              "│ embedding_1 (\u001b[38;5;33mEmbedding\u001b[0m)              │ (\u001b[38;5;45mNone\u001b[0m, \u001b[38;5;34m15\u001b[0m, \u001b[38;5;34m128\u001b[0m)             │       \u001b[38;5;34m1,280,000\u001b[0m │\n",
              "├──────────────────────────────────────┼─────────────────────────────┼─────────────────┤\n",
              "│ lstm_2 (\u001b[38;5;33mLSTM\u001b[0m)                        │ (\u001b[38;5;45mNone\u001b[0m, \u001b[38;5;34m64\u001b[0m)                  │          \u001b[38;5;34m49,408\u001b[0m │\n",
              "├──────────────────────────────────────┼─────────────────────────────┼─────────────────┤\n",
              "│ dense_7 (\u001b[38;5;33mDense\u001b[0m)                      │ (\u001b[38;5;45mNone\u001b[0m, \u001b[38;5;34m1\u001b[0m)                   │              \u001b[38;5;34m65\u001b[0m │\n",
              "└──────────────────────────────────────┴─────────────────────────────┴─────────────────┘\n"
            ]
          },
          "metadata": {},
          "output_type": "display_data"
        },
        {
          "data": {
            "text/html": [
              "<pre style=\"white-space:pre;overflow-x:auto;line-height:normal;font-family:Menlo,'DejaVu Sans Mono',consolas,'Courier New',monospace\"><span style=\"font-weight: bold\"> Total params: </span><span style=\"color: #00af00; text-decoration-color: #00af00\">1,329,473</span> (5.07 MB)\n",
              "</pre>\n"
            ],
            "text/plain": [
              "\u001b[1m Total params: \u001b[0m\u001b[38;5;34m1,329,473\u001b[0m (5.07 MB)\n"
            ]
          },
          "metadata": {},
          "output_type": "display_data"
        },
        {
          "data": {
            "text/html": [
              "<pre style=\"white-space:pre;overflow-x:auto;line-height:normal;font-family:Menlo,'DejaVu Sans Mono',consolas,'Courier New',monospace\"><span style=\"font-weight: bold\"> Trainable params: </span><span style=\"color: #00af00; text-decoration-color: #00af00\">1,329,473</span> (5.07 MB)\n",
              "</pre>\n"
            ],
            "text/plain": [
              "\u001b[1m Trainable params: \u001b[0m\u001b[38;5;34m1,329,473\u001b[0m (5.07 MB)\n"
            ]
          },
          "metadata": {},
          "output_type": "display_data"
        },
        {
          "data": {
            "text/html": [
              "<pre style=\"white-space:pre;overflow-x:auto;line-height:normal;font-family:Menlo,'DejaVu Sans Mono',consolas,'Courier New',monospace\"><span style=\"font-weight: bold\"> Non-trainable params: </span><span style=\"color: #00af00; text-decoration-color: #00af00\">0</span> (0.00 B)\n",
              "</pre>\n"
            ],
            "text/plain": [
              "\u001b[1m Non-trainable params: \u001b[0m\u001b[38;5;34m0\u001b[0m (0.00 B)\n"
            ]
          },
          "metadata": {},
          "output_type": "display_data"
        }
      ],
      "source": [
        "model_2.summary()"
      ]
    },
    {
      "cell_type": "code",
      "execution_count": 226,
      "metadata": {
        "id": "A7NLchsfO6Rt"
      },
      "outputs": [],
      "source": [
        "model_2.compile(loss=\"binary_crossentropy\",\n",
        "                optimizer=tf.keras.optimizers.Adam(),\n",
        "                metrics=[\"accuracy\"])"
      ]
    },
    {
      "cell_type": "code",
      "execution_count": 227,
      "metadata": {
        "colab": {
          "base_uri": "https://localhost:8080/"
        },
        "id": "QzEjR7lUO6Rt",
        "outputId": "d90c4c2e-36e1-4dfe-b81b-a76d2ee11e61"
      },
      "outputs": [
        {
          "name": "stdout",
          "output_type": "stream",
          "text": [
            "Saving TensorBoard log files to: model_logs/model_2_LTSM/20240912-110433\n",
            "Epoch 1/5\n",
            "\u001b[1m215/215\u001b[0m \u001b[32m━━━━━━━━━━━━━━━━━━━━\u001b[0m\u001b[37m\u001b[0m \u001b[1m3s\u001b[0m 8ms/step - accuracy: 0.8951 - loss: 0.2997 - val_accuracy: 0.7743 - val_loss: 0.5418\n",
            "Epoch 2/5\n",
            "\u001b[1m215/215\u001b[0m \u001b[32m━━━━━━━━━━━━━━━━━━━━\u001b[0m\u001b[37m\u001b[0m \u001b[1m2s\u001b[0m 7ms/step - accuracy: 0.9346 - loss: 0.1706 - val_accuracy: 0.7743 - val_loss: 0.5920\n",
            "Epoch 3/5\n",
            "\u001b[1m215/215\u001b[0m \u001b[32m━━━━━━━━━━━━━━━━━━━━\u001b[0m\u001b[37m\u001b[0m \u001b[1m1s\u001b[0m 7ms/step - accuracy: 0.9470 - loss: 0.1392 - val_accuracy: 0.7743 - val_loss: 0.6786\n",
            "Epoch 4/5\n",
            "\u001b[1m215/215\u001b[0m \u001b[32m━━━━━━━━━━━━━━━━━━━━\u001b[0m\u001b[37m\u001b[0m \u001b[1m2s\u001b[0m 7ms/step - accuracy: 0.9586 - loss: 0.1149 - val_accuracy: 0.7664 - val_loss: 0.7898\n",
            "Epoch 5/5\n",
            "\u001b[1m215/215\u001b[0m \u001b[32m━━━━━━━━━━━━━━━━━━━━\u001b[0m\u001b[37m\u001b[0m \u001b[1m3s\u001b[0m 10ms/step - accuracy: 0.9674 - loss: 0.0935 - val_accuracy: 0.7638 - val_loss: 0.8926\n"
          ]
        },
        {
          "data": {
            "text/plain": [
              "<keras.src.callbacks.history.History at 0x7bffb2fe1660>"
            ]
          },
          "execution_count": 227,
          "metadata": {},
          "output_type": "execute_result"
        }
      ],
      "source": [
        "model_2.fit(train_sentences,train_labels,epochs=5,validation_data=(val_sentences,val_labels),callbacks=[create_tensorboard_callback(SAVE_DIR,\"model_2_LTSM\")])"
      ]
    },
    {
      "cell_type": "code",
      "execution_count": 228,
      "metadata": {
        "colab": {
          "base_uri": "https://localhost:8080/"
        },
        "id": "fHZtuQHgO6Rt",
        "outputId": "afa360d5-0b7f-4e91-f6f1-43d5b237306a"
      },
      "outputs": [
        {
          "name": "stdout",
          "output_type": "stream",
          "text": [
            "\u001b[1m24/24\u001b[0m \u001b[32m━━━━━━━━━━━━━━━━━━━━\u001b[0m\u001b[37m\u001b[0m \u001b[1m0s\u001b[0m 11ms/step\n"
          ]
        }
      ],
      "source": [
        "model_2_pred_probs = model_2.predict(val_sentences)"
      ]
    },
    {
      "cell_type": "code",
      "execution_count": 229,
      "metadata": {
        "colab": {
          "base_uri": "https://localhost:8080/"
        },
        "id": "VOxgr_oXO6Rt",
        "outputId": "345e1924-ea7e-4e6a-ff54-1a24ed296ab1"
      },
      "outputs": [
        {
          "data": {
            "text/plain": [
              "array([[0.33771533],\n",
              "       [0.7335972 ],\n",
              "       [0.9977475 ],\n",
              "       [0.18840562],\n",
              "       [0.10115089],\n",
              "       [0.9423977 ],\n",
              "       [0.8943258 ],\n",
              "       [0.99429095],\n",
              "       [0.96382064],\n",
              "       [0.39987895]], dtype=float32)"
            ]
          },
          "execution_count": 229,
          "metadata": {},
          "output_type": "execute_result"
        }
      ],
      "source": [
        "model_1_pred_probs[:10]"
      ]
    },
    {
      "cell_type": "code",
      "execution_count": 230,
      "metadata": {
        "colab": {
          "base_uri": "https://localhost:8080/"
        },
        "id": "DoFiJhQdO6Ru",
        "outputId": "d8ce2d37-4d77-4fdb-a0d5-944ad6306e5a"
      },
      "outputs": [
        {
          "data": {
            "text/plain": [
              "<tf.Tensor: shape=(10,), dtype=float32, numpy=array([0., 1., 1., 0., 0., 1., 1., 1., 1., 0.], dtype=float32)>"
            ]
          },
          "execution_count": 230,
          "metadata": {},
          "output_type": "execute_result"
        }
      ],
      "source": [
        "model_2_preds = tf.squeeze(tf.round(model_2_pred_probs))\n",
        "model_2_preds[:10]"
      ]
    },
    {
      "cell_type": "code",
      "execution_count": 231,
      "metadata": {
        "id": "ticSr_cbO6Ru"
      },
      "outputs": [],
      "source": [
        "model_2_results = calculate_results(val_labels,model_2_preds)"
      ]
    },
    {
      "cell_type": "code",
      "execution_count": 232,
      "metadata": {
        "colab": {
          "base_uri": "https://localhost:8080/"
        },
        "id": "j1675-LLO6Ru",
        "outputId": "65d2fc24-1d20-4a3b-bf18-35660d6af17c"
      },
      "outputs": [
        {
          "data": {
            "text/plain": [
              "{'accuracy': 76.37795275590551,\n",
              " 'precision': 0.7654647714490235,\n",
              " 'recall': 0.7637795275590551,\n",
              " 'f1': 0.7615024149378589}"
            ]
          },
          "execution_count": 232,
          "metadata": {},
          "output_type": "execute_result"
        }
      ],
      "source": [
        "model_2_results"
      ]
    },
    {
      "cell_type": "code",
      "execution_count": 233,
      "metadata": {
        "colab": {
          "base_uri": "https://localhost:8080/"
        },
        "id": "6Q7L1u-GO6Ru",
        "outputId": "d46023d9-a4f6-41b5-8b89-53a3cc724102"
      },
      "outputs": [
        {
          "data": {
            "text/plain": [
              "{'accuracy': 79.26509186351706,\n",
              " 'precision': 0.8111390004213173,\n",
              " 'recall': 0.7926509186351706,\n",
              " 'f1': 0.7862189758049549}"
            ]
          },
          "execution_count": 233,
          "metadata": {},
          "output_type": "execute_result"
        }
      ],
      "source": [
        "baseline_results"
      ]
    },
    {
      "cell_type": "code",
      "execution_count": 234,
      "metadata": {
        "id": "e1bp8bQdO6Rv"
      },
      "outputs": [],
      "source": [
        "inputs = layers.Input(shape=(1,),dtype=tf.string)\n",
        "x=text_vectorizer(inputs)\n",
        "x=embeddings(x)\n",
        "# x=layers.GRU(64,return_sequences=True)(x)\n",
        "# x=layers.LSTM(64,return_sequences=True)(x)\n",
        "# x=layers.GRU(64)(x)\n",
        "# x=layers.GlobalAveragePooling1D()(x)\n",
        "x=layers.GRU(64)(x)\n",
        "x=layers.Dense(64,activation=\"relu\")(x)\n",
        "outputs = layers.Dense(1,activation=\"sigmoid\")(x)\n",
        "model_3=tf.keras.Model(inputs,outputs,name=\"model_3_GRU\")\n",
        "\n",
        "\n"
      ]
    },
    {
      "cell_type": "code",
      "execution_count": 235,
      "metadata": {
        "colab": {
          "base_uri": "https://localhost:8080/",
          "height": 352
        },
        "id": "ZilsmtY8O6Rv",
        "outputId": "744c9a79-5ed5-4f69-f63e-912dda323012"
      },
      "outputs": [
        {
          "data": {
            "text/html": [
              "<pre style=\"white-space:pre;overflow-x:auto;line-height:normal;font-family:Menlo,'DejaVu Sans Mono',consolas,'Courier New',monospace\"><span style=\"font-weight: bold\">Model: \"model_3_GRU\"</span>\n",
              "</pre>\n"
            ],
            "text/plain": [
              "\u001b[1mModel: \"model_3_GRU\"\u001b[0m\n"
            ]
          },
          "metadata": {},
          "output_type": "display_data"
        },
        {
          "data": {
            "text/html": [
              "<pre style=\"white-space:pre;overflow-x:auto;line-height:normal;font-family:Menlo,'DejaVu Sans Mono',consolas,'Courier New',monospace\">┏━━━━━━━━━━━━━━━━━━━━━━━━━━━━━━━━━━━━━━┳━━━━━━━━━━━━━━━━━━━━━━━━━━━━━┳━━━━━━━━━━━━━━━━━┓\n",
              "┃<span style=\"font-weight: bold\"> Layer (type)                         </span>┃<span style=\"font-weight: bold\"> Output Shape                </span>┃<span style=\"font-weight: bold\">         Param # </span>┃\n",
              "┡━━━━━━━━━━━━━━━━━━━━━━━━━━━━━━━━━━━━━━╇━━━━━━━━━━━━━━━━━━━━━━━━━━━━━╇━━━━━━━━━━━━━━━━━┩\n",
              "│ input_layer_7 (<span style=\"color: #0087ff; text-decoration-color: #0087ff\">InputLayer</span>)           │ (<span style=\"color: #00d7ff; text-decoration-color: #00d7ff\">None</span>, <span style=\"color: #00af00; text-decoration-color: #00af00\">1</span>)                   │               <span style=\"color: #00af00; text-decoration-color: #00af00\">0</span> │\n",
              "├──────────────────────────────────────┼─────────────────────────────┼─────────────────┤\n",
              "│ text_vectorization_1                 │ (<span style=\"color: #00d7ff; text-decoration-color: #00d7ff\">None</span>, <span style=\"color: #00af00; text-decoration-color: #00af00\">15</span>)                  │               <span style=\"color: #00af00; text-decoration-color: #00af00\">0</span> │\n",
              "│ (<span style=\"color: #0087ff; text-decoration-color: #0087ff\">TextVectorization</span>)                  │                             │                 │\n",
              "├──────────────────────────────────────┼─────────────────────────────┼─────────────────┤\n",
              "│ embedding_1 (<span style=\"color: #0087ff; text-decoration-color: #0087ff\">Embedding</span>)              │ (<span style=\"color: #00d7ff; text-decoration-color: #00d7ff\">None</span>, <span style=\"color: #00af00; text-decoration-color: #00af00\">15</span>, <span style=\"color: #00af00; text-decoration-color: #00af00\">128</span>)             │       <span style=\"color: #00af00; text-decoration-color: #00af00\">1,280,000</span> │\n",
              "├──────────────────────────────────────┼─────────────────────────────┼─────────────────┤\n",
              "│ gru_1 (<span style=\"color: #0087ff; text-decoration-color: #0087ff\">GRU</span>)                          │ (<span style=\"color: #00d7ff; text-decoration-color: #00d7ff\">None</span>, <span style=\"color: #00af00; text-decoration-color: #00af00\">64</span>)                  │          <span style=\"color: #00af00; text-decoration-color: #00af00\">37,248</span> │\n",
              "├──────────────────────────────────────┼─────────────────────────────┼─────────────────┤\n",
              "│ dense_8 (<span style=\"color: #0087ff; text-decoration-color: #0087ff\">Dense</span>)                      │ (<span style=\"color: #00d7ff; text-decoration-color: #00d7ff\">None</span>, <span style=\"color: #00af00; text-decoration-color: #00af00\">64</span>)                  │           <span style=\"color: #00af00; text-decoration-color: #00af00\">4,160</span> │\n",
              "├──────────────────────────────────────┼─────────────────────────────┼─────────────────┤\n",
              "│ dense_9 (<span style=\"color: #0087ff; text-decoration-color: #0087ff\">Dense</span>)                      │ (<span style=\"color: #00d7ff; text-decoration-color: #00d7ff\">None</span>, <span style=\"color: #00af00; text-decoration-color: #00af00\">1</span>)                   │              <span style=\"color: #00af00; text-decoration-color: #00af00\">65</span> │\n",
              "└──────────────────────────────────────┴─────────────────────────────┴─────────────────┘\n",
              "</pre>\n"
            ],
            "text/plain": [
              "┏━━━━━━━━━━━━━━━━━━━━━━━━━━━━━━━━━━━━━━┳━━━━━━━━━━━━━━━━━━━━━━━━━━━━━┳━━━━━━━━━━━━━━━━━┓\n",
              "┃\u001b[1m \u001b[0m\u001b[1mLayer (type)                        \u001b[0m\u001b[1m \u001b[0m┃\u001b[1m \u001b[0m\u001b[1mOutput Shape               \u001b[0m\u001b[1m \u001b[0m┃\u001b[1m \u001b[0m\u001b[1m        Param #\u001b[0m\u001b[1m \u001b[0m┃\n",
              "┡━━━━━━━━━━━━━━━━━━━━━━━━━━━━━━━━━━━━━━╇━━━━━━━━━━━━━━━━━━━━━━━━━━━━━╇━━━━━━━━━━━━━━━━━┩\n",
              "│ input_layer_7 (\u001b[38;5;33mInputLayer\u001b[0m)           │ (\u001b[38;5;45mNone\u001b[0m, \u001b[38;5;34m1\u001b[0m)                   │               \u001b[38;5;34m0\u001b[0m │\n",
              "├──────────────────────────────────────┼─────────────────────────────┼─────────────────┤\n",
              "│ text_vectorization_1                 │ (\u001b[38;5;45mNone\u001b[0m, \u001b[38;5;34m15\u001b[0m)                  │               \u001b[38;5;34m0\u001b[0m │\n",
              "│ (\u001b[38;5;33mTextVectorization\u001b[0m)                  │                             │                 │\n",
              "├──────────────────────────────────────┼─────────────────────────────┼─────────────────┤\n",
              "│ embedding_1 (\u001b[38;5;33mEmbedding\u001b[0m)              │ (\u001b[38;5;45mNone\u001b[0m, \u001b[38;5;34m15\u001b[0m, \u001b[38;5;34m128\u001b[0m)             │       \u001b[38;5;34m1,280,000\u001b[0m │\n",
              "├──────────────────────────────────────┼─────────────────────────────┼─────────────────┤\n",
              "│ gru_1 (\u001b[38;5;33mGRU\u001b[0m)                          │ (\u001b[38;5;45mNone\u001b[0m, \u001b[38;5;34m64\u001b[0m)                  │          \u001b[38;5;34m37,248\u001b[0m │\n",
              "├──────────────────────────────────────┼─────────────────────────────┼─────────────────┤\n",
              "│ dense_8 (\u001b[38;5;33mDense\u001b[0m)                      │ (\u001b[38;5;45mNone\u001b[0m, \u001b[38;5;34m64\u001b[0m)                  │           \u001b[38;5;34m4,160\u001b[0m │\n",
              "├──────────────────────────────────────┼─────────────────────────────┼─────────────────┤\n",
              "│ dense_9 (\u001b[38;5;33mDense\u001b[0m)                      │ (\u001b[38;5;45mNone\u001b[0m, \u001b[38;5;34m1\u001b[0m)                   │              \u001b[38;5;34m65\u001b[0m │\n",
              "└──────────────────────────────────────┴─────────────────────────────┴─────────────────┘\n"
            ]
          },
          "metadata": {},
          "output_type": "display_data"
        },
        {
          "data": {
            "text/html": [
              "<pre style=\"white-space:pre;overflow-x:auto;line-height:normal;font-family:Menlo,'DejaVu Sans Mono',consolas,'Courier New',monospace\"><span style=\"font-weight: bold\"> Total params: </span><span style=\"color: #00af00; text-decoration-color: #00af00\">1,321,473</span> (5.04 MB)\n",
              "</pre>\n"
            ],
            "text/plain": [
              "\u001b[1m Total params: \u001b[0m\u001b[38;5;34m1,321,473\u001b[0m (5.04 MB)\n"
            ]
          },
          "metadata": {},
          "output_type": "display_data"
        },
        {
          "data": {
            "text/html": [
              "<pre style=\"white-space:pre;overflow-x:auto;line-height:normal;font-family:Menlo,'DejaVu Sans Mono',consolas,'Courier New',monospace\"><span style=\"font-weight: bold\"> Trainable params: </span><span style=\"color: #00af00; text-decoration-color: #00af00\">1,321,473</span> (5.04 MB)\n",
              "</pre>\n"
            ],
            "text/plain": [
              "\u001b[1m Trainable params: \u001b[0m\u001b[38;5;34m1,321,473\u001b[0m (5.04 MB)\n"
            ]
          },
          "metadata": {},
          "output_type": "display_data"
        },
        {
          "data": {
            "text/html": [
              "<pre style=\"white-space:pre;overflow-x:auto;line-height:normal;font-family:Menlo,'DejaVu Sans Mono',consolas,'Courier New',monospace\"><span style=\"font-weight: bold\"> Non-trainable params: </span><span style=\"color: #00af00; text-decoration-color: #00af00\">0</span> (0.00 B)\n",
              "</pre>\n"
            ],
            "text/plain": [
              "\u001b[1m Non-trainable params: \u001b[0m\u001b[38;5;34m0\u001b[0m (0.00 B)\n"
            ]
          },
          "metadata": {},
          "output_type": "display_data"
        }
      ],
      "source": [
        "model_3.summary()"
      ]
    },
    {
      "cell_type": "code",
      "execution_count": 236,
      "metadata": {
        "id": "BBDDzaROO6Rv"
      },
      "outputs": [],
      "source": [
        "model_3.compile(loss='binary_crossentropy',\n",
        "                optimizer=tf.keras.optimizers.Adam(),\n",
        "                metrics=['accuracy'])"
      ]
    },
    {
      "cell_type": "code",
      "execution_count": 237,
      "metadata": {
        "colab": {
          "base_uri": "https://localhost:8080/"
        },
        "id": "99qSBMK_O6Rv",
        "outputId": "1fb0e907-5169-47dc-bd17-ab93fba0e558"
      },
      "outputs": [
        {
          "name": "stdout",
          "output_type": "stream",
          "text": [
            "Saving TensorBoard log files to: model_logs/model_3_gru/20240912-110446\n",
            "Epoch 1/5\n",
            "\u001b[1m215/215\u001b[0m \u001b[32m━━━━━━━━━━━━━━━━━━━━\u001b[0m\u001b[37m\u001b[0m \u001b[1m4s\u001b[0m 8ms/step - accuracy: 0.8938 - loss: 0.2715 - val_accuracy: 0.7625 - val_loss: 0.6773\n",
            "Epoch 2/5\n",
            "\u001b[1m215/215\u001b[0m \u001b[32m━━━━━━━━━━━━━━━━━━━━\u001b[0m\u001b[37m\u001b[0m \u001b[1m2s\u001b[0m 7ms/step - accuracy: 0.9692 - loss: 0.0940 - val_accuracy: 0.7717 - val_loss: 0.8209\n",
            "Epoch 3/5\n",
            "\u001b[1m215/215\u001b[0m \u001b[32m━━━━━━━━━━━━━━━━━━━━\u001b[0m\u001b[37m\u001b[0m \u001b[1m2s\u001b[0m 7ms/step - accuracy: 0.9749 - loss: 0.0786 - val_accuracy: 0.7690 - val_loss: 0.9176\n",
            "Epoch 4/5\n",
            "\u001b[1m215/215\u001b[0m \u001b[32m━━━━━━━━━━━━━━━━━━━━\u001b[0m\u001b[37m\u001b[0m \u001b[1m1s\u001b[0m 7ms/step - accuracy: 0.9744 - loss: 0.0765 - val_accuracy: 0.7493 - val_loss: 1.1471\n",
            "Epoch 5/5\n",
            "\u001b[1m215/215\u001b[0m \u001b[32m━━━━━━━━━━━━━━━━━━━━\u001b[0m\u001b[37m\u001b[0m \u001b[1m3s\u001b[0m 10ms/step - accuracy: 0.9743 - loss: 0.0775 - val_accuracy: 0.7638 - val_loss: 1.0754\n"
          ]
        }
      ],
      "source": [
        "model_3_history = model_3.fit(train_sentences,train_labels,epochs=5,validation_data=(val_sentences,val_labels),callbacks=[create_tensorboard_callback(SAVE_DIR,\"model_3_gru\")])"
      ]
    },
    {
      "cell_type": "code",
      "execution_count": 238,
      "metadata": {
        "colab": {
          "base_uri": "https://localhost:8080/"
        },
        "id": "5GxV3snlO6Rw",
        "outputId": "f0d755d6-e2b6-458b-d927-e6260e5198bb"
      },
      "outputs": [
        {
          "name": "stdout",
          "output_type": "stream",
          "text": [
            "\u001b[1m24/24\u001b[0m \u001b[32m━━━━━━━━━━━━━━━━━━━━\u001b[0m\u001b[37m\u001b[0m \u001b[1m0s\u001b[0m 10ms/step\n"
          ]
        },
        {
          "data": {
            "text/plain": [
              "array([[3.37715328e-01],\n",
              "       [7.33597219e-01],\n",
              "       [9.97747481e-01],\n",
              "       [1.88405618e-01],\n",
              "       [1.01150885e-01],\n",
              "       [9.42397714e-01],\n",
              "       [8.94325793e-01],\n",
              "       [9.94290948e-01],\n",
              "       [9.63820636e-01],\n",
              "       [3.99878949e-01],\n",
              "       [1.24493338e-01],\n",
              "       [6.99759007e-01],\n",
              "       [3.88531424e-02],\n",
              "       [2.47977868e-01],\n",
              "       [4.59121959e-03],\n",
              "       [1.51737869e-01],\n",
              "       [2.22968124e-02],\n",
              "       [7.93044344e-02],\n",
              "       [2.68967271e-01],\n",
              "       [5.47565222e-01],\n",
              "       [9.00212526e-01],\n",
              "       [4.04522121e-02],\n",
              "       [3.62306029e-01],\n",
              "       [1.05819695e-01],\n",
              "       [9.43428397e-01],\n",
              "       [9.98830974e-01],\n",
              "       [4.33156714e-02],\n",
              "       [6.58262372e-02],\n",
              "       [2.31243633e-02],\n",
              "       [1.96415588e-01],\n",
              "       [5.92219591e-01],\n",
              "       [3.27138424e-01],\n",
              "       [5.28957069e-01],\n",
              "       [1.52823493e-01],\n",
              "       [4.25035864e-01],\n",
              "       [6.68854788e-02],\n",
              "       [9.96029377e-01],\n",
              "       [2.09611654e-01],\n",
              "       [3.43305878e-02],\n",
              "       [9.98683989e-01],\n",
              "       [2.34483451e-01],\n",
              "       [1.86783019e-02],\n",
              "       [3.44717741e-01],\n",
              "       [5.09397350e-02],\n",
              "       [6.69651806e-01],\n",
              "       [9.85252261e-01],\n",
              "       [4.00326550e-01],\n",
              "       [9.02577460e-01],\n",
              "       [2.42671773e-01],\n",
              "       [5.76130092e-01],\n",
              "       [5.15058674e-02],\n",
              "       [6.31901085e-01],\n",
              "       [4.69237208e-01],\n",
              "       [3.29920836e-02],\n",
              "       [1.31186783e-01],\n",
              "       [3.29907164e-02],\n",
              "       [2.12816790e-01],\n",
              "       [9.55510676e-01],\n",
              "       [9.91175175e-02],\n",
              "       [3.21124191e-03],\n",
              "       [2.19109148e-01],\n",
              "       [9.65092123e-01],\n",
              "       [9.00302410e-01],\n",
              "       [1.63972050e-01],\n",
              "       [9.32553947e-01],\n",
              "       [9.77304935e-01],\n",
              "       [7.03170419e-01],\n",
              "       [3.78014863e-01],\n",
              "       [1.28178030e-01],\n",
              "       [1.86579093e-01],\n",
              "       [1.02181397e-01],\n",
              "       [4.01705243e-02],\n",
              "       [9.33983266e-01],\n",
              "       [1.97417602e-01],\n",
              "       [1.37268767e-01],\n",
              "       [4.52151924e-01],\n",
              "       [4.93712395e-01],\n",
              "       [8.20424855e-01],\n",
              "       [3.08944345e-01],\n",
              "       [5.40615261e-01],\n",
              "       [5.34904063e-01],\n",
              "       [3.43909621e-01],\n",
              "       [9.96508181e-01],\n",
              "       [1.15493357e-01],\n",
              "       [1.91649348e-01],\n",
              "       [9.42986980e-02],\n",
              "       [3.24832834e-02],\n",
              "       [9.37369838e-02],\n",
              "       [6.53033078e-01],\n",
              "       [8.76985073e-01],\n",
              "       [9.93897021e-01],\n",
              "       [7.84674380e-03],\n",
              "       [5.28866589e-01],\n",
              "       [2.37394702e-02],\n",
              "       [9.81887639e-01],\n",
              "       [7.37432659e-01],\n",
              "       [8.51511478e-01],\n",
              "       [9.69989598e-01],\n",
              "       [9.10117269e-01],\n",
              "       [9.50137913e-01],\n",
              "       [9.99307632e-01],\n",
              "       [2.12995052e-01],\n",
              "       [1.55735193e-02],\n",
              "       [9.12689924e-01],\n",
              "       [9.21680212e-01],\n",
              "       [1.05244905e-01],\n",
              "       [8.56041729e-01],\n",
              "       [9.82501328e-01],\n",
              "       [6.54171780e-02],\n",
              "       [4.23227519e-01],\n",
              "       [6.77514076e-01],\n",
              "       [4.12561856e-02],\n",
              "       [3.06682289e-01],\n",
              "       [1.55303255e-01],\n",
              "       [1.42717093e-01],\n",
              "       [4.23299611e-01],\n",
              "       [4.98610735e-01],\n",
              "       [6.90934420e-01],\n",
              "       [7.46240139e-01],\n",
              "       [7.93889016e-02],\n",
              "       [9.99785364e-01],\n",
              "       [8.67361277e-02],\n",
              "       [1.08648337e-01],\n",
              "       [7.68535912e-01],\n",
              "       [4.36807215e-01],\n",
              "       [3.53891909e-01],\n",
              "       [8.33891153e-01],\n",
              "       [1.04918042e-02],\n",
              "       [9.76927429e-02],\n",
              "       [8.75748754e-01],\n",
              "       [1.24836899e-01],\n",
              "       [9.99785364e-01],\n",
              "       [9.99761522e-01],\n",
              "       [9.98830974e-01],\n",
              "       [9.86959517e-01],\n",
              "       [7.26683512e-02],\n",
              "       [9.77418125e-01],\n",
              "       [2.13386774e-01],\n",
              "       [3.35268289e-01],\n",
              "       [7.86912814e-02],\n",
              "       [9.97225404e-01],\n",
              "       [4.26414907e-01],\n",
              "       [2.47977868e-01],\n",
              "       [9.61992264e-01],\n",
              "       [3.64607960e-01],\n",
              "       [5.60863972e-01],\n",
              "       [3.41241732e-02],\n",
              "       [7.98878074e-03],\n",
              "       [1.92468166e-01],\n",
              "       [9.77074683e-01],\n",
              "       [2.97892779e-01],\n",
              "       [8.24183449e-02],\n",
              "       [4.87888485e-01],\n",
              "       [1.81919843e-01],\n",
              "       [2.74461269e-01],\n",
              "       [9.91397142e-01],\n",
              "       [7.35912025e-01],\n",
              "       [3.96060377e-01],\n",
              "       [9.90151286e-01],\n",
              "       [2.33111270e-02],\n",
              "       [9.73100841e-01],\n",
              "       [4.46595512e-02],\n",
              "       [2.67679483e-01],\n",
              "       [9.93683100e-01],\n",
              "       [3.08449626e-01],\n",
              "       [6.61367923e-02],\n",
              "       [9.98549640e-01],\n",
              "       [4.46768701e-01],\n",
              "       [9.84627068e-01],\n",
              "       [2.86817014e-01],\n",
              "       [9.94013250e-01],\n",
              "       [8.48692894e-01],\n",
              "       [8.14757407e-01],\n",
              "       [2.15971228e-02],\n",
              "       [9.98080492e-01],\n",
              "       [1.03242181e-01],\n",
              "       [3.54166269e-01],\n",
              "       [4.63484764e-01],\n",
              "       [7.99936354e-01],\n",
              "       [9.93791878e-01],\n",
              "       [1.81030277e-02],\n",
              "       [7.77846634e-01],\n",
              "       [7.15841472e-01],\n",
              "       [9.63908136e-01],\n",
              "       [9.69926953e-01],\n",
              "       [3.76140535e-01],\n",
              "       [1.37989461e-01],\n",
              "       [9.99770343e-01],\n",
              "       [1.61254331e-02],\n",
              "       [2.53525190e-02],\n",
              "       [9.69265252e-02],\n",
              "       [9.42758620e-01],\n",
              "       [6.96741119e-02],\n",
              "       [2.82459527e-01],\n",
              "       [1.44362394e-02],\n",
              "       [7.86137134e-02],\n",
              "       [5.69455624e-02],\n",
              "       [2.67844021e-01],\n",
              "       [7.39617705e-01],\n",
              "       [6.49576932e-02],\n",
              "       [3.70155841e-01],\n",
              "       [8.69620204e-01],\n",
              "       [9.69830513e-01],\n",
              "       [3.13210458e-01],\n",
              "       [1.11793786e-01],\n",
              "       [9.99867320e-01],\n",
              "       [5.25776386e-01],\n",
              "       [9.19136345e-01],\n",
              "       [6.63685620e-01],\n",
              "       [8.42367232e-01],\n",
              "       [3.69089335e-01],\n",
              "       [9.85447705e-01],\n",
              "       [1.90510955e-02],\n",
              "       [1.75662056e-01],\n",
              "       [7.17124715e-03],\n",
              "       [5.41642169e-03],\n",
              "       [9.43224967e-01],\n",
              "       [8.26039672e-01],\n",
              "       [8.97212088e-01],\n",
              "       [2.03533724e-01],\n",
              "       [6.71925604e-01],\n",
              "       [7.98676088e-02],\n",
              "       [2.33107358e-02],\n",
              "       [1.58209115e-01],\n",
              "       [9.85574484e-01],\n",
              "       [1.69760466e-01],\n",
              "       [5.19286215e-01],\n",
              "       [9.95390296e-01],\n",
              "       [6.55086279e-01],\n",
              "       [5.56582093e-01],\n",
              "       [1.02588646e-01],\n",
              "       [1.84662312e-01],\n",
              "       [8.41700792e-01],\n",
              "       [3.29332918e-01],\n",
              "       [6.59315586e-01],\n",
              "       [2.05881342e-01],\n",
              "       [5.69454670e-01],\n",
              "       [3.57476681e-01],\n",
              "       [1.29428849e-01],\n",
              "       [9.01071504e-02],\n",
              "       [4.34449762e-01],\n",
              "       [2.18544394e-01],\n",
              "       [9.99882221e-01],\n",
              "       [9.89951670e-01],\n",
              "       [9.17282999e-02],\n",
              "       [2.18347013e-02],\n",
              "       [8.81186843e-01],\n",
              "       [1.09041616e-01],\n",
              "       [9.46274474e-02],\n",
              "       [4.01697725e-01],\n",
              "       [5.45373261e-02],\n",
              "       [6.18056953e-01],\n",
              "       [7.77705398e-04],\n",
              "       [4.09894139e-01],\n",
              "       [9.20789540e-01],\n",
              "       [3.37990850e-01],\n",
              "       [9.75961328e-01],\n",
              "       [9.98674631e-01],\n",
              "       [3.17736477e-01],\n",
              "       [1.43744007e-01],\n",
              "       [3.03891689e-01],\n",
              "       [4.28640023e-02],\n",
              "       [4.85817529e-03],\n",
              "       [9.83139813e-01],\n",
              "       [9.63794053e-01],\n",
              "       [6.59062564e-01],\n",
              "       [9.67772424e-01],\n",
              "       [6.44657761e-02],\n",
              "       [1.73938945e-01],\n",
              "       [8.78781825e-03],\n",
              "       [1.56202137e-01],\n",
              "       [2.64008529e-02],\n",
              "       [9.66189086e-01],\n",
              "       [8.49237144e-02],\n",
              "       [9.18598287e-03],\n",
              "       [9.82078969e-01],\n",
              "       [7.52946781e-03],\n",
              "       [9.81407762e-02],\n",
              "       [9.87786174e-01],\n",
              "       [4.05328013e-02],\n",
              "       [1.17028937e-01],\n",
              "       [5.82347019e-03],\n",
              "       [9.71670568e-01],\n",
              "       [5.90286016e-01],\n",
              "       [7.93732047e-01],\n",
              "       [7.13817835e-01],\n",
              "       [4.76261020e-01],\n",
              "       [6.96710721e-02],\n",
              "       [9.30368006e-01],\n",
              "       [5.02008796e-02],\n",
              "       [7.75338411e-01],\n",
              "       [4.35427785e-01],\n",
              "       [3.84771198e-01],\n",
              "       [3.50400805e-01],\n",
              "       [1.72555014e-01],\n",
              "       [7.65762985e-01],\n",
              "       [2.29387164e-01],\n",
              "       [7.10635304e-01],\n",
              "       [1.36831701e-01],\n",
              "       [7.71154523e-01],\n",
              "       [2.99627017e-02],\n",
              "       [7.99499825e-02],\n",
              "       [2.38970742e-01],\n",
              "       [9.85265672e-01],\n",
              "       [2.14939877e-01],\n",
              "       [1.19245403e-01],\n",
              "       [2.88844705e-01],\n",
              "       [3.08938503e-01],\n",
              "       [1.01882011e-01],\n",
              "       [4.06092107e-02],\n",
              "       [3.29906382e-02],\n",
              "       [9.82184708e-01],\n",
              "       [4.44242209e-01],\n",
              "       [2.75823325e-01],\n",
              "       [9.99806225e-01],\n",
              "       [4.86711189e-02],\n",
              "       [6.66948736e-01],\n",
              "       [2.84723699e-01],\n",
              "       [4.03372720e-02],\n",
              "       [2.42042601e-01],\n",
              "       [1.67959556e-01],\n",
              "       [1.64154366e-01],\n",
              "       [9.37507808e-01],\n",
              "       [2.81561464e-01],\n",
              "       [9.89071846e-01],\n",
              "       [1.20428413e-01],\n",
              "       [3.47496904e-02],\n",
              "       [9.96523440e-01],\n",
              "       [1.90675873e-02],\n",
              "       [9.96073842e-01],\n",
              "       [1.35202691e-01],\n",
              "       [4.70500179e-02],\n",
              "       [9.65137482e-01],\n",
              "       [4.97868136e-02],\n",
              "       [3.38584706e-02],\n",
              "       [9.80413377e-01],\n",
              "       [7.47567927e-03],\n",
              "       [2.18062416e-01],\n",
              "       [7.17132688e-01],\n",
              "       [9.13664401e-01],\n",
              "       [5.90634113e-03],\n",
              "       [1.66980684e-01],\n",
              "       [9.83266354e-01],\n",
              "       [9.66444850e-01],\n",
              "       [7.77729392e-01],\n",
              "       [4.78222162e-01],\n",
              "       [5.17000616e-01],\n",
              "       [4.13564652e-01],\n",
              "       [7.04174712e-02],\n",
              "       [9.72431749e-02],\n",
              "       [1.55512288e-01],\n",
              "       [8.02114248e-01],\n",
              "       [3.45859937e-02],\n",
              "       [3.94185275e-01],\n",
              "       [3.84872943e-01],\n",
              "       [1.29091796e-02],\n",
              "       [9.80155051e-01],\n",
              "       [9.98830974e-01],\n",
              "       [9.93244469e-01],\n",
              "       [3.39553803e-02],\n",
              "       [2.84876317e-01],\n",
              "       [1.29315242e-01],\n",
              "       [3.82699430e-01],\n",
              "       [7.71057904e-01],\n",
              "       [2.23697424e-01],\n",
              "       [2.16270182e-02],\n",
              "       [1.05408080e-01],\n",
              "       [4.02513221e-02],\n",
              "       [5.43398440e-01],\n",
              "       [9.82198212e-03],\n",
              "       [1.86866507e-01],\n",
              "       [4.25905734e-02],\n",
              "       [3.38160545e-01],\n",
              "       [3.12429219e-01],\n",
              "       [4.66584027e-01],\n",
              "       [2.72304893e-01],\n",
              "       [5.51684238e-02],\n",
              "       [3.08201492e-01],\n",
              "       [6.74026906e-02],\n",
              "       [9.97288942e-01],\n",
              "       [9.18925405e-01],\n",
              "       [5.46211839e-01],\n",
              "       [7.37754345e-01],\n",
              "       [2.28630658e-02],\n",
              "       [5.42574048e-01],\n",
              "       [9.91398454e-01],\n",
              "       [7.04072654e-01],\n",
              "       [2.56712973e-01],\n",
              "       [9.87171829e-01],\n",
              "       [1.88467726e-01],\n",
              "       [9.47349012e-01],\n",
              "       [2.92389065e-01],\n",
              "       [2.87190210e-02],\n",
              "       [5.01628757e-01],\n",
              "       [4.95109946e-01],\n",
              "       [9.96282399e-01],\n",
              "       [1.43384337e-01],\n",
              "       [5.29414527e-02],\n",
              "       [6.92454278e-02],\n",
              "       [2.23697424e-01],\n",
              "       [9.99269903e-01],\n",
              "       [2.39869636e-02],\n",
              "       [7.54374206e-01],\n",
              "       [9.70575035e-01],\n",
              "       [7.58711472e-02],\n",
              "       [9.99785364e-01],\n",
              "       [3.32179777e-02],\n",
              "       [3.96221727e-01],\n",
              "       [5.89097440e-02],\n",
              "       [7.51176536e-01],\n",
              "       [9.06993032e-01],\n",
              "       [7.04534128e-02],\n",
              "       [1.44255743e-03],\n",
              "       [2.56703168e-01],\n",
              "       [9.90107894e-01],\n",
              "       [9.09602404e-01],\n",
              "       [1.32809654e-01],\n",
              "       [3.94385129e-01],\n",
              "       [6.62138522e-01],\n",
              "       [3.83567922e-02],\n",
              "       [9.89660501e-01],\n",
              "       [4.60576773e-01],\n",
              "       [9.98912811e-01],\n",
              "       [9.21581805e-01],\n",
              "       [9.57095101e-02],\n",
              "       [3.15855145e-01],\n",
              "       [9.76618081e-02],\n",
              "       [9.46917415e-01],\n",
              "       [7.55027294e-01],\n",
              "       [3.64941001e-01],\n",
              "       [4.92712669e-02],\n",
              "       [3.05123806e-01],\n",
              "       [4.26433235e-02],\n",
              "       [8.11284184e-02],\n",
              "       [1.20536134e-01],\n",
              "       [3.67922038e-01],\n",
              "       [5.42922318e-01],\n",
              "       [1.89518049e-01],\n",
              "       [9.99053299e-01],\n",
              "       [9.84999597e-01],\n",
              "       [2.77800053e-01],\n",
              "       [7.33597219e-01],\n",
              "       [1.98159546e-01],\n",
              "       [3.50101441e-02],\n",
              "       [4.03858781e-01],\n",
              "       [6.31439269e-01],\n",
              "       [9.82837230e-02],\n",
              "       [2.58016020e-01],\n",
              "       [2.29077432e-02],\n",
              "       [5.08669496e-01],\n",
              "       [1.93531718e-03],\n",
              "       [9.38372612e-01],\n",
              "       [9.74496484e-01],\n",
              "       [9.94974971e-01],\n",
              "       [9.74853992e-01],\n",
              "       [8.39034081e-01],\n",
              "       [1.28306657e-01],\n",
              "       [5.67872301e-02],\n",
              "       [6.96058214e-01],\n",
              "       [8.99954081e-01],\n",
              "       [9.98431265e-01],\n",
              "       [3.41159524e-03],\n",
              "       [1.45804927e-01],\n",
              "       [1.66885659e-01],\n",
              "       [9.99056518e-01],\n",
              "       [9.99480784e-01],\n",
              "       [3.20751667e-01],\n",
              "       [1.30080134e-01],\n",
              "       [9.96983945e-01],\n",
              "       [6.85550869e-02],\n",
              "       [4.26845133e-01],\n",
              "       [9.84449923e-01],\n",
              "       [1.59953073e-01],\n",
              "       [8.06349516e-02],\n",
              "       [9.46442842e-01],\n",
              "       [3.35797310e-01],\n",
              "       [4.43230659e-01],\n",
              "       [9.73591983e-01],\n",
              "       [1.41705936e-02],\n",
              "       [6.29051998e-02],\n",
              "       [1.09961899e-02],\n",
              "       [2.08618175e-02],\n",
              "       [8.96232724e-02],\n",
              "       [9.71369803e-01],\n",
              "       [2.94282511e-02],\n",
              "       [4.21136349e-01],\n",
              "       [4.98669118e-01],\n",
              "       [1.00794107e-01],\n",
              "       [2.89798945e-01],\n",
              "       [9.12366658e-02],\n",
              "       [3.40730071e-01],\n",
              "       [9.97357547e-01],\n",
              "       [6.32271409e-01],\n",
              "       [1.13930710e-01],\n",
              "       [1.51448131e-01],\n",
              "       [1.38045758e-01],\n",
              "       [8.76974091e-02],\n",
              "       [7.03884542e-01],\n",
              "       [1.72165278e-02],\n",
              "       [9.16585326e-01],\n",
              "       [7.78575420e-01],\n",
              "       [6.19904399e-01],\n",
              "       [6.72376096e-01],\n",
              "       [7.69115508e-01],\n",
              "       [1.08484596e-01],\n",
              "       [3.91334891e-01],\n",
              "       [4.22862947e-01],\n",
              "       [8.85615051e-01],\n",
              "       [2.32040673e-01],\n",
              "       [3.31993133e-01],\n",
              "       [3.77800971e-01],\n",
              "       [1.60242673e-02],\n",
              "       [1.49172693e-01],\n",
              "       [4.32396203e-01],\n",
              "       [7.52598882e-01],\n",
              "       [1.92855090e-01],\n",
              "       [9.88312781e-01],\n",
              "       [9.18721616e-01],\n",
              "       [7.37432659e-01],\n",
              "       [9.86061096e-01],\n",
              "       [1.71290681e-01],\n",
              "       [1.13628320e-01],\n",
              "       [9.03497875e-01],\n",
              "       [1.92927212e-01],\n",
              "       [2.46047154e-02],\n",
              "       [5.27596138e-02],\n",
              "       [9.94326845e-02],\n",
              "       [1.32771884e-03],\n",
              "       [8.53207827e-01],\n",
              "       [8.19879532e-01],\n",
              "       [8.41933370e-01],\n",
              "       [9.40838873e-01],\n",
              "       [6.62442967e-02],\n",
              "       [2.11281002e-01],\n",
              "       [7.46657550e-01],\n",
              "       [1.47028193e-02],\n",
              "       [3.14077139e-01],\n",
              "       [1.66748300e-01],\n",
              "       [6.21362269e-01],\n",
              "       [5.45928180e-01],\n",
              "       [5.70846200e-02],\n",
              "       [6.75891861e-02],\n",
              "       [6.19811833e-01],\n",
              "       [1.42123982e-01],\n",
              "       [1.61679611e-01],\n",
              "       [1.24330007e-01],\n",
              "       [2.25987107e-01],\n",
              "       [9.98961806e-01],\n",
              "       [9.77598667e-01],\n",
              "       [3.26048374e-01],\n",
              "       [8.53560925e-01],\n",
              "       [9.91642833e-01],\n",
              "       [1.07527687e-03],\n",
              "       [9.66939807e-01],\n",
              "       [2.60015249e-01],\n",
              "       [4.58192974e-01],\n",
              "       [3.36982876e-01],\n",
              "       [1.22052416e-01],\n",
              "       [1.40887797e-01],\n",
              "       [3.26641314e-02],\n",
              "       [8.24597180e-02],\n",
              "       [6.34999424e-02],\n",
              "       [7.05250978e-01],\n",
              "       [2.44387537e-01],\n",
              "       [9.95064914e-01],\n",
              "       [6.91700131e-02],\n",
              "       [6.27739966e-01],\n",
              "       [5.57862222e-01],\n",
              "       [1.71799287e-02],\n",
              "       [5.60955219e-02],\n",
              "       [9.68248725e-01],\n",
              "       [7.29824483e-01],\n",
              "       [9.65793252e-01],\n",
              "       [1.48964822e-01],\n",
              "       [7.89516792e-02],\n",
              "       [3.81437927e-01],\n",
              "       [3.32664818e-01],\n",
              "       [3.96924049e-01],\n",
              "       [9.91642833e-01],\n",
              "       [1.48341507e-02],\n",
              "       [5.00769876e-02],\n",
              "       [1.62386611e-01],\n",
              "       [9.97238278e-01],\n",
              "       [1.79051250e-01],\n",
              "       [6.12843148e-02],\n",
              "       [8.10782492e-01],\n",
              "       [6.45275936e-02],\n",
              "       [3.18142921e-02],\n",
              "       [1.84214592e-01],\n",
              "       [2.59751916e-01],\n",
              "       [1.57732204e-01],\n",
              "       [3.43829334e-01],\n",
              "       [3.35889786e-01],\n",
              "       [2.06110597e-01],\n",
              "       [9.16692689e-02],\n",
              "       [4.22282457e-01],\n",
              "       [1.58329252e-02],\n",
              "       [9.36351061e-01],\n",
              "       [8.09175313e-01],\n",
              "       [5.62971354e-01],\n",
              "       [4.00116034e-02],\n",
              "       [2.28800531e-02],\n",
              "       [9.81737018e-01],\n",
              "       [5.44529200e-01],\n",
              "       [9.99550521e-01],\n",
              "       [3.20903599e-01],\n",
              "       [8.97537291e-01],\n",
              "       [1.67753756e-01],\n",
              "       [5.77419937e-01],\n",
              "       [7.81469762e-01],\n",
              "       [2.32540481e-02],\n",
              "       [9.78738964e-01],\n",
              "       [1.47196054e-01],\n",
              "       [5.53406715e-01],\n",
              "       [9.98346448e-01],\n",
              "       [1.59985438e-01],\n",
              "       [3.16319950e-02],\n",
              "       [3.06462079e-01],\n",
              "       [1.53970923e-02],\n",
              "       [5.11385858e-01],\n",
              "       [9.99867320e-01],\n",
              "       [3.50664228e-01],\n",
              "       [9.42004442e-01],\n",
              "       [2.92375088e-01],\n",
              "       [8.16883743e-01],\n",
              "       [2.89378047e-01],\n",
              "       [3.75399709e-01],\n",
              "       [2.19361261e-02],\n",
              "       [5.74228883e-01],\n",
              "       [1.72343925e-02],\n",
              "       [2.61823058e-01],\n",
              "       [9.55002904e-01],\n",
              "       [9.62573230e-01],\n",
              "       [9.96132731e-01],\n",
              "       [7.56414652e-01],\n",
              "       [4.13389057e-02],\n",
              "       [3.68558049e-01],\n",
              "       [2.39797458e-02],\n",
              "       [5.55731773e-01],\n",
              "       [3.70074987e-01],\n",
              "       [9.32858229e-01],\n",
              "       [3.22711803e-02],\n",
              "       [7.94643104e-01],\n",
              "       [8.47148120e-01],\n",
              "       [2.83179611e-01],\n",
              "       [2.71869957e-01],\n",
              "       [3.31993133e-01],\n",
              "       [2.00765282e-01],\n",
              "       [5.29300332e-01],\n",
              "       [6.16152406e-01],\n",
              "       [9.98894751e-01],\n",
              "       [8.53349194e-02],\n",
              "       [7.97781069e-03],\n",
              "       [1.61999837e-02],\n",
              "       [3.06277037e-01],\n",
              "       [2.36953989e-01],\n",
              "       [2.72805318e-02],\n",
              "       [8.56089413e-01],\n",
              "       [1.03284232e-01],\n",
              "       [2.18040377e-01],\n",
              "       [2.15452284e-01],\n",
              "       [2.90972263e-01],\n",
              "       [9.36985791e-01],\n",
              "       [1.65904522e-01],\n",
              "       [4.77251738e-01],\n",
              "       [3.22218150e-01],\n",
              "       [1.25267757e-02],\n",
              "       [1.03942998e-01],\n",
              "       [9.99700308e-01],\n",
              "       [8.34705472e-01],\n",
              "       [4.05325182e-03],\n",
              "       [3.41984808e-01],\n",
              "       [2.15211347e-01],\n",
              "       [6.43559471e-02],\n",
              "       [8.93418670e-01],\n",
              "       [4.97860223e-01],\n",
              "       [6.62439823e-01],\n",
              "       [3.50519568e-01],\n",
              "       [2.08868220e-01],\n",
              "       [6.74202263e-01],\n",
              "       [2.10238129e-01],\n",
              "       [5.05055040e-02],\n",
              "       [8.82247448e-01],\n",
              "       [1.92416355e-01],\n",
              "       [4.13050383e-01],\n",
              "       [9.88355756e-01],\n",
              "       [3.30488294e-01],\n",
              "       [4.99028087e-01],\n",
              "       [1.32771884e-03],\n",
              "       [3.81647468e-01],\n",
              "       [8.26692939e-01],\n",
              "       [9.99785364e-01],\n",
              "       [7.09401548e-01],\n",
              "       [4.60828207e-02],\n",
              "       [9.93258595e-01],\n",
              "       [3.92332792e-01],\n",
              "       [8.67564142e-01],\n",
              "       [3.92332792e-01],\n",
              "       [9.93150294e-01],\n",
              "       [1.00066997e-02],\n",
              "       [4.45864558e-01],\n",
              "       [1.07030548e-01],\n",
              "       [9.69971538e-01],\n",
              "       [2.52014726e-01],\n",
              "       [4.22793031e-01],\n",
              "       [6.67192116e-02],\n",
              "       [3.43275428e-01],\n",
              "       [1.17296010e-01],\n",
              "       [1.71539020e-02],\n",
              "       [2.54244626e-01],\n",
              "       [5.58855496e-02],\n",
              "       [1.59182236e-01],\n",
              "       [7.83315003e-01],\n",
              "       [3.19183953e-02],\n",
              "       [1.66894078e-01],\n",
              "       [3.63872722e-02],\n",
              "       [1.11946827e-02],\n",
              "       [1.17619187e-01],\n",
              "       [6.11462474e-01],\n",
              "       [7.50975385e-02],\n",
              "       [5.94231009e-01],\n",
              "       [1.20448694e-01],\n",
              "       [2.00279936e-01],\n",
              "       [9.05252099e-01],\n",
              "       [1.63726762e-01],\n",
              "       [4.25154082e-02],\n",
              "       [5.49428351e-02],\n",
              "       [4.81105177e-03],\n",
              "       [9.88367260e-01],\n",
              "       [1.11946827e-02],\n",
              "       [3.31171006e-01],\n",
              "       [9.93876398e-01],\n",
              "       [9.95016634e-01],\n",
              "       [9.97816324e-01],\n",
              "       [9.99896169e-01],\n",
              "       [9.99457777e-01],\n",
              "       [2.22969577e-01],\n",
              "       [9.66583639e-02],\n",
              "       [3.14007670e-01],\n",
              "       [5.72659969e-01],\n",
              "       [9.97223973e-01],\n",
              "       [5.09688377e-01],\n",
              "       [2.57397264e-01],\n",
              "       [5.09016156e-01],\n",
              "       [7.19659448e-01],\n",
              "       [2.82058492e-02],\n",
              "       [8.13217089e-03],\n",
              "       [1.13742679e-01],\n",
              "       [3.71017903e-01],\n",
              "       [7.78865395e-03],\n",
              "       [1.00939758e-01],\n",
              "       [4.07440156e-01],\n",
              "       [9.89579856e-01],\n",
              "       [2.94176172e-02],\n",
              "       [8.84159744e-01],\n",
              "       [7.78187454e-01],\n",
              "       [8.76504332e-02],\n",
              "       [3.49674881e-01],\n",
              "       [1.18472345e-01],\n",
              "       [7.63026953e-01],\n",
              "       [4.35167342e-01],\n",
              "       [1.04362043e-02]], dtype=float32)"
            ]
          },
          "execution_count": 238,
          "metadata": {},
          "output_type": "execute_result"
        }
      ],
      "source": [
        "model_3_pred_probs=model_3.predict(val_sentences)\n",
        "model_1_pred_probs"
      ]
    },
    {
      "cell_type": "code",
      "execution_count": 239,
      "metadata": {
        "id": "Gd8wO3XnO6Rw"
      },
      "outputs": [],
      "source": [
        "model_3_preds = tf.squeeze(tf.round(model_1_pred_probs))"
      ]
    },
    {
      "cell_type": "code",
      "execution_count": 240,
      "metadata": {
        "colab": {
          "base_uri": "https://localhost:8080/"
        },
        "id": "qYFP9guaO6Rw",
        "outputId": "4e3dc75e-6d06-4219-e94c-7dde987f778d"
      },
      "outputs": [
        {
          "data": {
            "text/plain": [
              "<tf.Tensor: shape=(762,), dtype=float32, numpy=\n",
              "array([0., 1., 1., 0., 0., 1., 1., 1., 1., 0., 0., 1., 0., 0., 0., 0., 0.,\n",
              "       0., 0., 1., 1., 0., 0., 0., 1., 1., 0., 0., 0., 0., 1., 0., 1., 0.,\n",
              "       0., 0., 1., 0., 0., 1., 0., 0., 0., 0., 1., 1., 0., 1., 0., 1., 0.,\n",
              "       1., 0., 0., 0., 0., 0., 1., 0., 0., 0., 1., 1., 0., 1., 1., 1., 0.,\n",
              "       0., 0., 0., 0., 1., 0., 0., 0., 0., 1., 0., 1., 1., 0., 1., 0., 0.,\n",
              "       0., 0., 0., 1., 1., 1., 0., 1., 0., 1., 1., 1., 1., 1., 1., 1., 0.,\n",
              "       0., 1., 1., 0., 1., 1., 0., 0., 1., 0., 0., 0., 0., 0., 0., 1., 1.,\n",
              "       0., 1., 0., 0., 1., 0., 0., 1., 0., 0., 1., 0., 1., 1., 1., 1., 0.,\n",
              "       1., 0., 0., 0., 1., 0., 0., 1., 0., 1., 0., 0., 0., 1., 0., 0., 0.,\n",
              "       0., 0., 1., 1., 0., 1., 0., 1., 0., 0., 1., 0., 0., 1., 0., 1., 0.,\n",
              "       1., 1., 1., 0., 1., 0., 0., 0., 1., 1., 0., 1., 1., 1., 1., 0., 0.,\n",
              "       1., 0., 0., 0., 1., 0., 0., 0., 0., 0., 0., 1., 0., 0., 1., 1., 0.,\n",
              "       0., 1., 1., 1., 1., 1., 0., 1., 0., 0., 0., 0., 1., 1., 1., 0., 1.,\n",
              "       0., 0., 0., 1., 0., 1., 1., 1., 1., 0., 0., 1., 0., 1., 0., 1., 0.,\n",
              "       0., 0., 0., 0., 1., 1., 0., 0., 1., 0., 0., 0., 0., 1., 0., 0., 1.,\n",
              "       0., 1., 1., 0., 0., 0., 0., 0., 1., 1., 1., 1., 0., 0., 0., 0., 0.,\n",
              "       1., 0., 0., 1., 0., 0., 1., 0., 0., 0., 1., 1., 1., 1., 0., 0., 1.,\n",
              "       0., 1., 0., 0., 0., 0., 1., 0., 1., 0., 1., 0., 0., 0., 1., 0., 0.,\n",
              "       0., 0., 0., 0., 0., 1., 0., 0., 1., 0., 1., 0., 0., 0., 0., 0., 1.,\n",
              "       0., 1., 0., 0., 1., 0., 1., 0., 0., 1., 0., 0., 1., 0., 0., 1., 1.,\n",
              "       0., 0., 1., 1., 1., 0., 1., 0., 0., 0., 0., 1., 0., 0., 0., 0., 1.,\n",
              "       1., 1., 0., 0., 0., 0., 1., 0., 0., 0., 0., 1., 0., 0., 0., 0., 0.,\n",
              "       0., 0., 0., 0., 0., 1., 1., 1., 1., 0., 1., 1., 1., 0., 1., 0., 1.,\n",
              "       0., 0., 1., 0., 1., 0., 0., 0., 0., 1., 0., 1., 1., 0., 1., 0., 0.,\n",
              "       0., 1., 1., 0., 0., 0., 1., 1., 0., 0., 1., 0., 1., 0., 1., 1., 0.,\n",
              "       0., 0., 1., 1., 0., 0., 0., 0., 0., 0., 0., 1., 0., 1., 1., 0., 1.,\n",
              "       0., 0., 0., 1., 0., 0., 0., 1., 0., 1., 1., 1., 1., 1., 0., 0., 1.,\n",
              "       1., 1., 0., 0., 0., 1., 1., 0., 0., 1., 0., 0., 1., 0., 0., 1., 0.,\n",
              "       0., 1., 0., 0., 0., 0., 0., 1., 0., 0., 0., 0., 0., 0., 0., 1., 1.,\n",
              "       0., 0., 0., 0., 1., 0., 1., 1., 1., 1., 1., 0., 0., 0., 1., 0., 0.,\n",
              "       0., 0., 0., 0., 1., 0., 1., 1., 1., 1., 0., 0., 1., 0., 0., 0., 0.,\n",
              "       0., 1., 1., 1., 1., 0., 0., 1., 0., 0., 0., 1., 1., 0., 0., 1., 0.,\n",
              "       0., 0., 0., 1., 1., 0., 1., 1., 0., 1., 0., 0., 0., 0., 0., 0., 0.,\n",
              "       0., 1., 0., 1., 0., 1., 1., 0., 0., 1., 1., 1., 0., 0., 0., 0., 0.,\n",
              "       1., 0., 0., 0., 1., 0., 0., 1., 0., 0., 0., 0., 0., 0., 0., 0., 0.,\n",
              "       0., 0., 1., 1., 1., 0., 0., 1., 1., 1., 0., 1., 0., 1., 1., 0., 1.,\n",
              "       0., 1., 1., 0., 0., 0., 0., 1., 1., 0., 1., 0., 1., 0., 0., 0., 1.,\n",
              "       0., 0., 1., 1., 1., 1., 0., 0., 0., 1., 0., 1., 0., 1., 1., 0., 0.,\n",
              "       0., 0., 1., 1., 1., 0., 0., 0., 0., 0., 0., 1., 0., 0., 0., 0., 1.,\n",
              "       0., 0., 0., 0., 0., 1., 1., 0., 0., 0., 0., 1., 0., 1., 0., 0., 1.,\n",
              "       0., 0., 1., 0., 0., 1., 0., 0., 0., 0., 1., 1., 1., 0., 1., 0., 1.,\n",
              "       0., 1., 0., 0., 0., 1., 0., 0., 0., 0., 0., 0., 0., 0., 0., 1., 0.,\n",
              "       0., 0., 0., 0., 1., 0., 1., 0., 0., 1., 0., 0., 0., 0., 1., 0., 0.,\n",
              "       1., 1., 1., 1., 1., 0., 0., 0., 1., 1., 1., 0., 1., 1., 0., 0., 0.,\n",
              "       0., 0., 0., 0., 1., 0., 1., 1., 0., 0., 0., 1., 0., 0.],\n",
              "      dtype=float32)>"
            ]
          },
          "execution_count": 240,
          "metadata": {},
          "output_type": "execute_result"
        }
      ],
      "source": [
        "model_3_preds"
      ]
    },
    {
      "cell_type": "code",
      "execution_count": 241,
      "metadata": {
        "id": "pWsgVUOrO6Rx"
      },
      "outputs": [],
      "source": [
        "model_3_results=calculate_results(val_labels,model_3_preds)"
      ]
    },
    {
      "cell_type": "code",
      "execution_count": 242,
      "metadata": {
        "colab": {
          "base_uri": "https://localhost:8080/"
        },
        "id": "OykuERrRO6Rx",
        "outputId": "7ca3d8ba-b312-4100-eefd-1c05b595ae9a"
      },
      "outputs": [
        {
          "data": {
            "text/plain": [
              "{'accuracy': 77.69028871391076,\n",
              " 'precision': 0.7798819103655997,\n",
              " 'recall': 0.7769028871391076,\n",
              " 'f1': 0.7743498017353971}"
            ]
          },
          "execution_count": 242,
          "metadata": {},
          "output_type": "execute_result"
        }
      ],
      "source": [
        "model_3_results"
      ]
    },
    {
      "cell_type": "code",
      "execution_count": 243,
      "metadata": {
        "id": "knaelqIdO6Rx"
      },
      "outputs": [],
      "source": [
        "inputs = layers.Input(shape=(1,),dtype=tf.string)\n",
        "x=text_vectorizer(inputs)\n",
        "x=embeddings(x)\n",
        "# x=layers.Bidirectional(layers.LSTM(64,return_sequences=True))(x)\n",
        "x=layers.Bidirectional(layers.LSTM(64))(x)\n",
        "# x=layers.Dense(64,activation=\"relu\")(x)\n",
        "outputs = layers.Dense(1,activation=\"sigmoid\")(x)\n",
        "model_4=tf.keras.Model(inputs,outputs,name=\"model_4_bidirectional\")"
      ]
    },
    {
      "cell_type": "code",
      "execution_count": 244,
      "metadata": {
        "colab": {
          "base_uri": "https://localhost:8080/",
          "height": 320
        },
        "id": "lyfCp7ocO6Rx",
        "outputId": "062c8b31-eebf-41dd-9fc8-5964959f5d9d"
      },
      "outputs": [
        {
          "data": {
            "text/html": [
              "<pre style=\"white-space:pre;overflow-x:auto;line-height:normal;font-family:Menlo,'DejaVu Sans Mono',consolas,'Courier New',monospace\"><span style=\"font-weight: bold\">Model: \"model_4_bidirectional\"</span>\n",
              "</pre>\n"
            ],
            "text/plain": [
              "\u001b[1mModel: \"model_4_bidirectional\"\u001b[0m\n"
            ]
          },
          "metadata": {},
          "output_type": "display_data"
        },
        {
          "data": {
            "text/html": [
              "<pre style=\"white-space:pre;overflow-x:auto;line-height:normal;font-family:Menlo,'DejaVu Sans Mono',consolas,'Courier New',monospace\">┏━━━━━━━━━━━━━━━━━━━━━━━━━━━━━━━━━━━━━━┳━━━━━━━━━━━━━━━━━━━━━━━━━━━━━┳━━━━━━━━━━━━━━━━━┓\n",
              "┃<span style=\"font-weight: bold\"> Layer (type)                         </span>┃<span style=\"font-weight: bold\"> Output Shape                </span>┃<span style=\"font-weight: bold\">         Param # </span>┃\n",
              "┡━━━━━━━━━━━━━━━━━━━━━━━━━━━━━━━━━━━━━━╇━━━━━━━━━━━━━━━━━━━━━━━━━━━━━╇━━━━━━━━━━━━━━━━━┩\n",
              "│ input_layer_8 (<span style=\"color: #0087ff; text-decoration-color: #0087ff\">InputLayer</span>)           │ (<span style=\"color: #00d7ff; text-decoration-color: #00d7ff\">None</span>, <span style=\"color: #00af00; text-decoration-color: #00af00\">1</span>)                   │               <span style=\"color: #00af00; text-decoration-color: #00af00\">0</span> │\n",
              "├──────────────────────────────────────┼─────────────────────────────┼─────────────────┤\n",
              "│ text_vectorization_1                 │ (<span style=\"color: #00d7ff; text-decoration-color: #00d7ff\">None</span>, <span style=\"color: #00af00; text-decoration-color: #00af00\">15</span>)                  │               <span style=\"color: #00af00; text-decoration-color: #00af00\">0</span> │\n",
              "│ (<span style=\"color: #0087ff; text-decoration-color: #0087ff\">TextVectorization</span>)                  │                             │                 │\n",
              "├──────────────────────────────────────┼─────────────────────────────┼─────────────────┤\n",
              "│ embedding_1 (<span style=\"color: #0087ff; text-decoration-color: #0087ff\">Embedding</span>)              │ (<span style=\"color: #00d7ff; text-decoration-color: #00d7ff\">None</span>, <span style=\"color: #00af00; text-decoration-color: #00af00\">15</span>, <span style=\"color: #00af00; text-decoration-color: #00af00\">128</span>)             │       <span style=\"color: #00af00; text-decoration-color: #00af00\">1,280,000</span> │\n",
              "├──────────────────────────────────────┼─────────────────────────────┼─────────────────┤\n",
              "│ bidirectional_1 (<span style=\"color: #0087ff; text-decoration-color: #0087ff\">Bidirectional</span>)      │ (<span style=\"color: #00d7ff; text-decoration-color: #00d7ff\">None</span>, <span style=\"color: #00af00; text-decoration-color: #00af00\">128</span>)                 │          <span style=\"color: #00af00; text-decoration-color: #00af00\">98,816</span> │\n",
              "├──────────────────────────────────────┼─────────────────────────────┼─────────────────┤\n",
              "│ dense_10 (<span style=\"color: #0087ff; text-decoration-color: #0087ff\">Dense</span>)                     │ (<span style=\"color: #00d7ff; text-decoration-color: #00d7ff\">None</span>, <span style=\"color: #00af00; text-decoration-color: #00af00\">1</span>)                   │             <span style=\"color: #00af00; text-decoration-color: #00af00\">129</span> │\n",
              "└──────────────────────────────────────┴─────────────────────────────┴─────────────────┘\n",
              "</pre>\n"
            ],
            "text/plain": [
              "┏━━━━━━━━━━━━━━━━━━━━━━━━━━━━━━━━━━━━━━┳━━━━━━━━━━━━━━━━━━━━━━━━━━━━━┳━━━━━━━━━━━━━━━━━┓\n",
              "┃\u001b[1m \u001b[0m\u001b[1mLayer (type)                        \u001b[0m\u001b[1m \u001b[0m┃\u001b[1m \u001b[0m\u001b[1mOutput Shape               \u001b[0m\u001b[1m \u001b[0m┃\u001b[1m \u001b[0m\u001b[1m        Param #\u001b[0m\u001b[1m \u001b[0m┃\n",
              "┡━━━━━━━━━━━━━━━━━━━━━━━━━━━━━━━━━━━━━━╇━━━━━━━━━━━━━━━━━━━━━━━━━━━━━╇━━━━━━━━━━━━━━━━━┩\n",
              "│ input_layer_8 (\u001b[38;5;33mInputLayer\u001b[0m)           │ (\u001b[38;5;45mNone\u001b[0m, \u001b[38;5;34m1\u001b[0m)                   │               \u001b[38;5;34m0\u001b[0m │\n",
              "├──────────────────────────────────────┼─────────────────────────────┼─────────────────┤\n",
              "│ text_vectorization_1                 │ (\u001b[38;5;45mNone\u001b[0m, \u001b[38;5;34m15\u001b[0m)                  │               \u001b[38;5;34m0\u001b[0m │\n",
              "│ (\u001b[38;5;33mTextVectorization\u001b[0m)                  │                             │                 │\n",
              "├──────────────────────────────────────┼─────────────────────────────┼─────────────────┤\n",
              "│ embedding_1 (\u001b[38;5;33mEmbedding\u001b[0m)              │ (\u001b[38;5;45mNone\u001b[0m, \u001b[38;5;34m15\u001b[0m, \u001b[38;5;34m128\u001b[0m)             │       \u001b[38;5;34m1,280,000\u001b[0m │\n",
              "├──────────────────────────────────────┼─────────────────────────────┼─────────────────┤\n",
              "│ bidirectional_1 (\u001b[38;5;33mBidirectional\u001b[0m)      │ (\u001b[38;5;45mNone\u001b[0m, \u001b[38;5;34m128\u001b[0m)                 │          \u001b[38;5;34m98,816\u001b[0m │\n",
              "├──────────────────────────────────────┼─────────────────────────────┼─────────────────┤\n",
              "│ dense_10 (\u001b[38;5;33mDense\u001b[0m)                     │ (\u001b[38;5;45mNone\u001b[0m, \u001b[38;5;34m1\u001b[0m)                   │             \u001b[38;5;34m129\u001b[0m │\n",
              "└──────────────────────────────────────┴─────────────────────────────┴─────────────────┘\n"
            ]
          },
          "metadata": {},
          "output_type": "display_data"
        },
        {
          "data": {
            "text/html": [
              "<pre style=\"white-space:pre;overflow-x:auto;line-height:normal;font-family:Menlo,'DejaVu Sans Mono',consolas,'Courier New',monospace\"><span style=\"font-weight: bold\"> Total params: </span><span style=\"color: #00af00; text-decoration-color: #00af00\">1,378,945</span> (5.26 MB)\n",
              "</pre>\n"
            ],
            "text/plain": [
              "\u001b[1m Total params: \u001b[0m\u001b[38;5;34m1,378,945\u001b[0m (5.26 MB)\n"
            ]
          },
          "metadata": {},
          "output_type": "display_data"
        },
        {
          "data": {
            "text/html": [
              "<pre style=\"white-space:pre;overflow-x:auto;line-height:normal;font-family:Menlo,'DejaVu Sans Mono',consolas,'Courier New',monospace\"><span style=\"font-weight: bold\"> Trainable params: </span><span style=\"color: #00af00; text-decoration-color: #00af00\">1,378,945</span> (5.26 MB)\n",
              "</pre>\n"
            ],
            "text/plain": [
              "\u001b[1m Trainable params: \u001b[0m\u001b[38;5;34m1,378,945\u001b[0m (5.26 MB)\n"
            ]
          },
          "metadata": {},
          "output_type": "display_data"
        },
        {
          "data": {
            "text/html": [
              "<pre style=\"white-space:pre;overflow-x:auto;line-height:normal;font-family:Menlo,'DejaVu Sans Mono',consolas,'Courier New',monospace\"><span style=\"font-weight: bold\"> Non-trainable params: </span><span style=\"color: #00af00; text-decoration-color: #00af00\">0</span> (0.00 B)\n",
              "</pre>\n"
            ],
            "text/plain": [
              "\u001b[1m Non-trainable params: \u001b[0m\u001b[38;5;34m0\u001b[0m (0.00 B)\n"
            ]
          },
          "metadata": {},
          "output_type": "display_data"
        }
      ],
      "source": [
        "model_4.summary()"
      ]
    },
    {
      "cell_type": "code",
      "execution_count": 245,
      "metadata": {
        "id": "9t_BJppGO6Rx"
      },
      "outputs": [],
      "source": [
        "model_4.compile(loss='binary_crossentropy',\n",
        "                optimizer=tf.keras.optimizers.Adam(),\n",
        "                metrics=['accuracy'])"
      ]
    },
    {
      "cell_type": "code",
      "execution_count": 246,
      "metadata": {
        "colab": {
          "base_uri": "https://localhost:8080/"
        },
        "id": "-w6pX2_EO6Ry",
        "outputId": "f9aaf974-6e56-40d4-dec6-b23a87e1db79"
      },
      "outputs": [
        {
          "name": "stdout",
          "output_type": "stream",
          "text": [
            "Saving TensorBoard log files to: model_logs/model_4_bidirectional/20240912-110459\n",
            "Epoch 1/5\n",
            "\u001b[1m215/215\u001b[0m \u001b[32m━━━━━━━━━━━━━━━━━━━━\u001b[0m\u001b[37m\u001b[0m \u001b[1m4s\u001b[0m 10ms/step - accuracy: 0.9708 - loss: 0.1771 - val_accuracy: 0.7612 - val_loss: 0.9981\n",
            "Epoch 2/5\n",
            "\u001b[1m215/215\u001b[0m \u001b[32m━━━━━━━━━━━━━━━━━━━━\u001b[0m\u001b[37m\u001b[0m \u001b[1m2s\u001b[0m 8ms/step - accuracy: 0.9798 - loss: 0.0651 - val_accuracy: 0.7533 - val_loss: 1.1706\n",
            "Epoch 3/5\n",
            "\u001b[1m215/215\u001b[0m \u001b[32m━━━━━━━━━━━━━━━━━━━━\u001b[0m\u001b[37m\u001b[0m \u001b[1m2s\u001b[0m 8ms/step - accuracy: 0.9776 - loss: 0.0546 - val_accuracy: 0.7507 - val_loss: 1.1177\n",
            "Epoch 4/5\n",
            "\u001b[1m215/215\u001b[0m \u001b[32m━━━━━━━━━━━━━━━━━━━━\u001b[0m\u001b[37m\u001b[0m \u001b[1m3s\u001b[0m 12ms/step - accuracy: 0.9806 - loss: 0.0496 - val_accuracy: 0.7336 - val_loss: 1.3269\n",
            "Epoch 5/5\n",
            "\u001b[1m215/215\u001b[0m \u001b[32m━━━━━━━━━━━━━━━━━━━━\u001b[0m\u001b[37m\u001b[0m \u001b[1m2s\u001b[0m 9ms/step - accuracy: 0.9786 - loss: 0.0544 - val_accuracy: 0.7546 - val_loss: 1.1466\n"
          ]
        }
      ],
      "source": [
        "model_4_history = model_4.fit(train_sentences,train_labels,epochs=5,validation_data=(val_sentences,val_labels),callbacks=[create_tensorboard_callback(SAVE_DIR,\"model_4_bidirectional\")])"
      ]
    },
    {
      "cell_type": "code",
      "execution_count": 247,
      "metadata": {
        "colab": {
          "base_uri": "https://localhost:8080/"
        },
        "id": "ssa8pF12O6Ry",
        "outputId": "98df7bc0-ec6d-4db1-e75c-aa0ffab35e56"
      },
      "outputs": [
        {
          "name": "stdout",
          "output_type": "stream",
          "text": [
            "\u001b[1m24/24\u001b[0m \u001b[32m━━━━━━━━━━━━━━━━━━━━\u001b[0m\u001b[37m\u001b[0m \u001b[1m1s\u001b[0m 13ms/step\n"
          ]
        }
      ],
      "source": [
        "model_4_pred_probs=model_4.predict(val_sentences)"
      ]
    },
    {
      "cell_type": "code",
      "execution_count": 248,
      "metadata": {
        "id": "1uRlrBXrO6Ry"
      },
      "outputs": [],
      "source": [
        "model_4_preds=tf.squeeze(tf.round(model_4_pred_probs))"
      ]
    },
    {
      "cell_type": "code",
      "execution_count": 249,
      "metadata": {
        "colab": {
          "base_uri": "https://localhost:8080/"
        },
        "id": "tKOLvQlWO6Ry",
        "outputId": "37636b58-a224-450d-d66c-228f75f49748"
      },
      "outputs": [
        {
          "data": {
            "text/plain": [
              "<tf.Tensor: shape=(762,), dtype=float32, numpy=\n",
              "array([1., 1., 1., 0., 0., 1., 1., 1., 1., 1., 0., 1., 0., 0., 0., 0., 0.,\n",
              "       0., 0., 1., 1., 0., 1., 0., 1., 1., 0., 0., 0., 1., 1., 0., 1., 0.,\n",
              "       0., 0., 1., 1., 0., 1., 1., 0., 0., 0., 1., 1., 1., 1., 0., 0., 0.,\n",
              "       1., 0., 0., 1., 0., 0., 1., 0., 0., 0., 1., 1., 0., 1., 1., 1., 0.,\n",
              "       1., 0., 0., 0., 1., 0., 1., 1., 0., 1., 1., 1., 0., 0., 1., 0., 0.,\n",
              "       0., 0., 0., 0., 1., 1., 0., 1., 0., 1., 1., 1., 1., 1., 1., 1., 0.,\n",
              "       0., 1., 1., 0., 1., 1., 0., 1., 1., 0., 1., 0., 0., 0., 1., 1., 0.,\n",
              "       0., 1., 0., 0., 0., 0., 0., 1., 0., 0., 1., 0., 1., 1., 1., 1., 0.,\n",
              "       1., 1., 0., 0., 1., 1., 0., 1., 0., 0., 0., 0., 0., 1., 0., 0., 0.,\n",
              "       0., 0., 1., 1., 0., 1., 0., 1., 0., 0., 1., 0., 0., 1., 0., 1., 1.,\n",
              "       1., 1., 1., 0., 1., 0., 1., 0., 1., 1., 0., 1., 1., 1., 1., 0., 0.,\n",
              "       1., 0., 0., 0., 1., 0., 0., 0., 0., 0., 0., 1., 0., 0., 1., 1., 0.,\n",
              "       0., 1., 1., 1., 1., 1., 1., 1., 0., 0., 0., 0., 1., 1., 1., 1., 0.,\n",
              "       0., 0., 0., 1., 1., 0., 1., 1., 1., 0., 0., 1., 0., 0., 0., 1., 0.,\n",
              "       0., 0., 1., 0., 1., 1., 0., 0., 1., 0., 0., 0., 0., 1., 0., 0., 1.,\n",
              "       0., 1., 1., 0., 0., 0., 0., 0., 1., 1., 1., 1., 0., 0., 0., 0., 0.,\n",
              "       1., 0., 0., 1., 0., 0., 1., 0., 0., 0., 1., 1., 1., 1., 1., 0., 1.,\n",
              "       0., 1., 1., 1., 0., 0., 1., 0., 0., 0., 0., 0., 0., 0., 1., 0., 0.,\n",
              "       0., 0., 0., 0., 0., 1., 0., 0., 1., 0., 1., 0., 0., 0., 0., 0., 1.,\n",
              "       0., 1., 0., 0., 1., 0., 1., 0., 0., 1., 0., 0., 1., 0., 0., 1., 1.,\n",
              "       0., 0., 1., 1., 1., 0., 1., 1., 0., 0., 0., 1., 0., 1., 0., 0., 1.,\n",
              "       1., 1., 0., 0., 0., 1., 1., 0., 0., 0., 0., 1., 0., 0., 0., 0., 0.,\n",
              "       1., 0., 0., 1., 0., 1., 1., 1., 1., 0., 1., 1., 1., 0., 1., 0., 1.,\n",
              "       0., 0., 1., 0., 1., 0., 0., 0., 0., 1., 0., 1., 1., 0., 1., 0., 0.,\n",
              "       0., 1., 1., 0., 0., 1., 1., 1., 0., 0., 1., 0., 1., 0., 1., 1., 0.,\n",
              "       0., 0., 1., 1., 1., 0., 0., 0., 0., 0., 1., 1., 0., 1., 1., 0., 1.,\n",
              "       0., 0., 0., 1., 0., 0., 0., 0., 0., 1., 1., 1., 1., 1., 0., 0., 1.,\n",
              "       1., 1., 0., 0., 0., 1., 1., 0., 0., 1., 0., 0., 1., 0., 0., 1., 0.,\n",
              "       0., 1., 0., 0., 0., 0., 0., 1., 0., 1., 1., 0., 0., 0., 0., 1., 1.,\n",
              "       0., 0., 0., 0., 1., 0., 1., 1., 1., 1., 1., 0., 0., 1., 1., 1., 0.,\n",
              "       0., 0., 0., 1., 0., 0., 1., 1., 1., 1., 0., 0., 1., 0., 0., 0., 1.,\n",
              "       0., 1., 1., 1., 1., 0., 0., 1., 0., 0., 1., 1., 0., 0., 0., 1., 0.,\n",
              "       0., 0., 1., 1., 1., 0., 1., 1., 0., 1., 0., 1., 0., 0., 0., 0., 0.,\n",
              "       0., 1., 0., 1., 0., 1., 0., 0., 0., 1., 0., 1., 0., 1., 1., 0., 0.,\n",
              "       1., 0., 0., 0., 1., 0., 0., 1., 0., 0., 0., 0., 0., 1., 0., 0., 0.,\n",
              "       1., 0., 1., 1., 0., 0., 0., 1., 1., 1., 0., 1., 0., 1., 1., 0., 1.,\n",
              "       0., 1., 1., 0., 0., 0., 0., 0., 1., 0., 1., 0., 1., 1., 0., 0., 0.,\n",
              "       0., 0., 1., 1., 1., 1., 0., 1., 0., 1., 1., 1., 0., 1., 1., 0., 0.,\n",
              "       0., 0., 1., 1., 1., 0., 0., 0., 1., 0., 0., 1., 0., 0., 1., 0., 1.,\n",
              "       0., 1., 0., 0., 0., 1., 1., 0., 1., 0., 0., 1., 0., 1., 1., 0., 1.,\n",
              "       0., 0., 1., 0., 1., 1., 0., 0., 0., 0., 0., 1., 1., 0., 1., 1., 1.,\n",
              "       1., 1., 0., 0., 0., 1., 0., 0., 0., 0., 0., 0., 0., 0., 0., 1., 0.,\n",
              "       0., 0., 0., 1., 1., 0., 1., 0., 1., 1., 0., 0., 0., 0., 1., 0., 0.,\n",
              "       1., 1., 1., 1., 1., 0., 0., 0., 1., 1., 1., 1., 1., 1., 0., 0., 0.,\n",
              "       0., 0., 0., 1., 1., 0., 1., 1., 0., 0., 0., 1., 1., 0.],\n",
              "      dtype=float32)>"
            ]
          },
          "execution_count": 249,
          "metadata": {},
          "output_type": "execute_result"
        }
      ],
      "source": [
        "model_4_preds"
      ]
    },
    {
      "cell_type": "code",
      "execution_count": 250,
      "metadata": {
        "id": "oGIgV5fSO6Rz"
      },
      "outputs": [],
      "source": [
        "model_4_results=calculate_results(val_labels,model_4_preds)"
      ]
    },
    {
      "cell_type": "code",
      "execution_count": 251,
      "metadata": {
        "colab": {
          "base_uri": "https://localhost:8080/"
        },
        "id": "9d8z0spPO6Rz",
        "outputId": "0fa18e71-78b4-4167-c02d-e2653c47d62f"
      },
      "outputs": [
        {
          "data": {
            "text/plain": [
              "{'accuracy': 75.45931758530183,\n",
              " 'precision': 0.754186285276044,\n",
              " 'recall': 0.7545931758530183,\n",
              " 'f1': 0.7542315016665913}"
            ]
          },
          "execution_count": 251,
          "metadata": {},
          "output_type": "execute_result"
        }
      ],
      "source": [
        "model_4_results"
      ]
    },
    {
      "cell_type": "code",
      "execution_count": 252,
      "metadata": {
        "colab": {
          "base_uri": "https://localhost:8080/"
        },
        "id": "vgMbT4a-O6R0",
        "outputId": "7a124a0d-8e2e-40a1-dda6-b66dc538f21c"
      },
      "outputs": [
        {
          "data": {
            "text/plain": [
              "(TensorShape([1, 15, 128]), TensorShape([1, 12, 32]), TensorShape([1, 32]))"
            ]
          },
          "execution_count": 252,
          "metadata": {},
          "output_type": "execute_result"
        }
      ],
      "source": [
        "embedding_test=embeddings(text_vectorizer([\"This is a demo text \"]))\n",
        "conv_1d=layers.Conv1D(\n",
        "    filters=32,\n",
        "    kernel_size=4,\n",
        "    activation=\"relu\",\n",
        "    padding=\"valid\"\n",
        ")\n",
        "conv_1d_output = conv_1d(embedding_test)\n",
        "max_pool = layers.GlobalMaxPooling1D()\n",
        "max_pool_output = max_pool(conv_1d_output)\n",
        "\n",
        "embedding_test.shape , conv_1d_output.shape,max_pool_output.shape"
      ]
    },
    {
      "cell_type": "code",
      "execution_count": 253,
      "metadata": {
        "colab": {
          "base_uri": "https://localhost:8080/"
        },
        "id": "iqFKMzUOO6R0",
        "outputId": "cbbe3139-8bee-41de-ee0b-3667da916515"
      },
      "outputs": [
        {
          "data": {
            "text/plain": [
              "<tf.Tensor: shape=(1, 15, 128), dtype=float32, numpy=\n",
              "array([[[-0.06838921,  0.01172247, -0.0805803 , ..., -0.03393395,\n",
              "         -0.05229042, -0.04261648],\n",
              "        [ 0.04070647, -0.03676664, -0.03907634, ...,  0.02150134,\n",
              "          0.04390232,  0.05327279],\n",
              "        [ 0.00445029,  0.01281292, -0.03737241, ..., -0.06146802,\n",
              "         -0.00127469,  0.00914521],\n",
              "        ...,\n",
              "        [ 0.08172997,  0.0512636 ,  0.08261396, ...,  0.03371105,\n",
              "         -0.01946696, -0.05810486],\n",
              "        [ 0.08172997,  0.0512636 ,  0.08261396, ...,  0.03371105,\n",
              "         -0.01946696, -0.05810486],\n",
              "        [ 0.08172997,  0.0512636 ,  0.08261396, ...,  0.03371105,\n",
              "         -0.01946696, -0.05810486]]], dtype=float32)>"
            ]
          },
          "execution_count": 253,
          "metadata": {},
          "output_type": "execute_result"
        }
      ],
      "source": [
        "embedding_test"
      ]
    },
    {
      "cell_type": "code",
      "execution_count": 254,
      "metadata": {
        "colab": {
          "base_uri": "https://localhost:8080/"
        },
        "id": "quDs0NIsO6R0",
        "outputId": "9c296330-9a20-4bf7-cdd5-800e8bec38bf"
      },
      "outputs": [
        {
          "data": {
            "text/plain": [
              "<tf.Tensor: shape=(1, 12, 32), dtype=float32, numpy=\n",
              "array([[[6.91242740e-02, 0.00000000e+00, 1.65576849e-03, 0.00000000e+00,\n",
              "         4.05803695e-02, 8.91630799e-02, 5.01685217e-02, 0.00000000e+00,\n",
              "         0.00000000e+00, 3.02310139e-02, 5.66533431e-02, 0.00000000e+00,\n",
              "         0.00000000e+00, 6.33812845e-02, 0.00000000e+00, 0.00000000e+00,\n",
              "         1.26569229e-03, 3.29328738e-02, 0.00000000e+00, 1.49699044e-03,\n",
              "         2.24282388e-02, 0.00000000e+00, 0.00000000e+00, 5.83032852e-05,\n",
              "         0.00000000e+00, 0.00000000e+00, 0.00000000e+00, 0.00000000e+00,\n",
              "         0.00000000e+00, 5.65592200e-02, 0.00000000e+00, 4.61377390e-02],\n",
              "        [7.56910369e-02, 1.19564414e-01, 1.17378093e-01, 1.61448672e-01,\n",
              "         6.06544733e-01, 1.59013197e-02, 0.00000000e+00, 1.04103915e-01,\n",
              "         0.00000000e+00, 0.00000000e+00, 0.00000000e+00, 9.86728594e-02,\n",
              "         4.85243462e-02, 2.93032348e-01, 0.00000000e+00, 0.00000000e+00,\n",
              "         0.00000000e+00, 2.36891638e-02, 0.00000000e+00, 3.35332491e-02,\n",
              "         2.90792465e-01, 0.00000000e+00, 0.00000000e+00, 3.00998569e-01,\n",
              "         0.00000000e+00, 0.00000000e+00, 0.00000000e+00, 2.73734808e-01,\n",
              "         0.00000000e+00, 8.69589075e-02, 1.26626790e-01, 0.00000000e+00],\n",
              "        [0.00000000e+00, 1.11994036e-01, 1.51722103e-01, 0.00000000e+00,\n",
              "         0.00000000e+00, 1.42523214e-01, 0.00000000e+00, 0.00000000e+00,\n",
              "         0.00000000e+00, 3.78680751e-02, 0.00000000e+00, 1.24916032e-01,\n",
              "         9.55747664e-02, 1.00804292e-01, 0.00000000e+00, 0.00000000e+00,\n",
              "         2.72680093e-02, 2.01737341e-02, 0.00000000e+00, 0.00000000e+00,\n",
              "         7.01609850e-02, 0.00000000e+00, 5.35852835e-02, 0.00000000e+00,\n",
              "         0.00000000e+00, 5.44823147e-02, 0.00000000e+00, 1.70479342e-01,\n",
              "         0.00000000e+00, 0.00000000e+00, 1.94091335e-01, 0.00000000e+00],\n",
              "        [0.00000000e+00, 0.00000000e+00, 0.00000000e+00, 0.00000000e+00,\n",
              "         0.00000000e+00, 1.52389765e-01, 2.15294510e-02, 1.06352411e-01,\n",
              "         0.00000000e+00, 0.00000000e+00, 3.75354171e-01, 7.69119859e-02,\n",
              "         0.00000000e+00, 6.32800385e-02, 0.00000000e+00, 0.00000000e+00,\n",
              "         0.00000000e+00, 2.08664641e-01, 0.00000000e+00, 2.82980591e-01,\n",
              "         0.00000000e+00, 1.20024338e-01, 0.00000000e+00, 2.51322418e-01,\n",
              "         0.00000000e+00, 0.00000000e+00, 0.00000000e+00, 0.00000000e+00,\n",
              "         0.00000000e+00, 1.42438546e-01, 9.49359387e-02, 4.14852858e-01],\n",
              "        [0.00000000e+00, 3.30986738e-01, 0.00000000e+00, 0.00000000e+00,\n",
              "         0.00000000e+00, 2.51461208e-01, 5.64418361e-02, 1.88139141e-01,\n",
              "         0.00000000e+00, 0.00000000e+00, 1.57396719e-01, 2.53453285e-01,\n",
              "         0.00000000e+00, 5.87107182e-01, 0.00000000e+00, 4.61845994e-02,\n",
              "         0.00000000e+00, 0.00000000e+00, 1.63915679e-02, 2.49065667e-01,\n",
              "         1.46938518e-01, 0.00000000e+00, 1.77462325e-01, 0.00000000e+00,\n",
              "         0.00000000e+00, 0.00000000e+00, 0.00000000e+00, 0.00000000e+00,\n",
              "         0.00000000e+00, 1.30397514e-01, 0.00000000e+00, 1.20449066e-01],\n",
              "        [0.00000000e+00, 1.90881211e-02, 1.99234462e-03, 0.00000000e+00,\n",
              "         0.00000000e+00, 5.44381849e-02, 0.00000000e+00, 6.10770211e-02,\n",
              "         0.00000000e+00, 0.00000000e+00, 1.99228637e-02, 1.22567460e-01,\n",
              "         2.69501731e-02, 4.88488115e-02, 1.70243289e-02, 1.92440953e-02,\n",
              "         0.00000000e+00, 0.00000000e+00, 3.88563238e-02, 1.27828661e-02,\n",
              "         0.00000000e+00, 4.52363715e-02, 4.81936596e-02, 9.22877342e-02,\n",
              "         0.00000000e+00, 0.00000000e+00, 0.00000000e+00, 0.00000000e+00,\n",
              "         0.00000000e+00, 0.00000000e+00, 1.25254586e-01, 5.51906554e-03],\n",
              "        [0.00000000e+00, 1.90881211e-02, 1.99234462e-03, 0.00000000e+00,\n",
              "         0.00000000e+00, 5.44381849e-02, 0.00000000e+00, 6.10770211e-02,\n",
              "         0.00000000e+00, 0.00000000e+00, 1.99228637e-02, 1.22567460e-01,\n",
              "         2.69501731e-02, 4.88488115e-02, 1.70243289e-02, 1.92440953e-02,\n",
              "         0.00000000e+00, 0.00000000e+00, 3.88563238e-02, 1.27828661e-02,\n",
              "         0.00000000e+00, 4.52363715e-02, 4.81936596e-02, 9.22877342e-02,\n",
              "         0.00000000e+00, 0.00000000e+00, 0.00000000e+00, 0.00000000e+00,\n",
              "         0.00000000e+00, 0.00000000e+00, 1.25254586e-01, 5.51906554e-03],\n",
              "        [0.00000000e+00, 1.90881211e-02, 1.99234462e-03, 0.00000000e+00,\n",
              "         0.00000000e+00, 5.44381849e-02, 0.00000000e+00, 6.10770211e-02,\n",
              "         0.00000000e+00, 0.00000000e+00, 1.99228637e-02, 1.22567460e-01,\n",
              "         2.69501731e-02, 4.88488115e-02, 1.70243289e-02, 1.92440953e-02,\n",
              "         0.00000000e+00, 0.00000000e+00, 3.88563238e-02, 1.27828661e-02,\n",
              "         0.00000000e+00, 4.52363715e-02, 4.81936596e-02, 9.22877342e-02,\n",
              "         0.00000000e+00, 0.00000000e+00, 0.00000000e+00, 0.00000000e+00,\n",
              "         0.00000000e+00, 0.00000000e+00, 1.25254586e-01, 5.51906554e-03],\n",
              "        [0.00000000e+00, 1.90881211e-02, 1.99234462e-03, 0.00000000e+00,\n",
              "         0.00000000e+00, 5.44381849e-02, 0.00000000e+00, 6.10770211e-02,\n",
              "         0.00000000e+00, 0.00000000e+00, 1.99228637e-02, 1.22567460e-01,\n",
              "         2.69501731e-02, 4.88488115e-02, 1.70243289e-02, 1.92440953e-02,\n",
              "         0.00000000e+00, 0.00000000e+00, 3.88563238e-02, 1.27828661e-02,\n",
              "         0.00000000e+00, 4.52363715e-02, 4.81936596e-02, 9.22877342e-02,\n",
              "         0.00000000e+00, 0.00000000e+00, 0.00000000e+00, 0.00000000e+00,\n",
              "         0.00000000e+00, 0.00000000e+00, 1.25254586e-01, 5.51906554e-03],\n",
              "        [0.00000000e+00, 1.90881211e-02, 1.99234462e-03, 0.00000000e+00,\n",
              "         0.00000000e+00, 5.44381849e-02, 0.00000000e+00, 6.10770211e-02,\n",
              "         0.00000000e+00, 0.00000000e+00, 1.99228637e-02, 1.22567460e-01,\n",
              "         2.69501731e-02, 4.88488115e-02, 1.70243289e-02, 1.92440953e-02,\n",
              "         0.00000000e+00, 0.00000000e+00, 3.88563238e-02, 1.27828661e-02,\n",
              "         0.00000000e+00, 4.52363715e-02, 4.81936596e-02, 9.22877342e-02,\n",
              "         0.00000000e+00, 0.00000000e+00, 0.00000000e+00, 0.00000000e+00,\n",
              "         0.00000000e+00, 0.00000000e+00, 1.25254586e-01, 5.51906554e-03],\n",
              "        [0.00000000e+00, 1.90881211e-02, 1.99234462e-03, 0.00000000e+00,\n",
              "         0.00000000e+00, 5.44381849e-02, 0.00000000e+00, 6.10770211e-02,\n",
              "         0.00000000e+00, 0.00000000e+00, 1.99228637e-02, 1.22567460e-01,\n",
              "         2.69501731e-02, 4.88488115e-02, 1.70243289e-02, 1.92440953e-02,\n",
              "         0.00000000e+00, 0.00000000e+00, 3.88563238e-02, 1.27828661e-02,\n",
              "         0.00000000e+00, 4.52363715e-02, 4.81936596e-02, 9.22877342e-02,\n",
              "         0.00000000e+00, 0.00000000e+00, 0.00000000e+00, 0.00000000e+00,\n",
              "         0.00000000e+00, 0.00000000e+00, 1.25254586e-01, 5.51906554e-03],\n",
              "        [0.00000000e+00, 1.90881211e-02, 1.99234462e-03, 0.00000000e+00,\n",
              "         0.00000000e+00, 5.44381849e-02, 0.00000000e+00, 6.10770211e-02,\n",
              "         0.00000000e+00, 0.00000000e+00, 1.99228637e-02, 1.22567460e-01,\n",
              "         2.69501731e-02, 4.88488115e-02, 1.70243289e-02, 1.92440953e-02,\n",
              "         0.00000000e+00, 0.00000000e+00, 3.88563238e-02, 1.27828661e-02,\n",
              "         0.00000000e+00, 4.52363715e-02, 4.81936596e-02, 9.22877342e-02,\n",
              "         0.00000000e+00, 0.00000000e+00, 0.00000000e+00, 0.00000000e+00,\n",
              "         0.00000000e+00, 0.00000000e+00, 1.25254586e-01, 5.51906554e-03]]],\n",
              "      dtype=float32)>"
            ]
          },
          "execution_count": 254,
          "metadata": {},
          "output_type": "execute_result"
        }
      ],
      "source": [
        "conv_1d_output"
      ]
    },
    {
      "cell_type": "code",
      "execution_count": 255,
      "metadata": {
        "id": "yng05Nt3O6R1"
      },
      "outputs": [],
      "source": [
        "inputs = layers.Input(shape=(1,),dtype=tf.string)\n",
        "x=text_vectorizer(inputs)\n",
        "x=embeddings(x)\n",
        "x=layers.Conv1D(filters=32,\n",
        "                kernel_size=5,\n",
        "                strides=1,\n",
        "                activation=\"relu\",\n",
        "                padding=\"valid\")(x)\n",
        "x=layers.GlobalMaxPool1D()(x)\n",
        "outputs = layers.Dense(1,activation=\"sigmoid\")(x)\n",
        "model_5=tf.keras.Model(inputs,outputs,name=\"model_5_Conv1D\")"
      ]
    },
    {
      "cell_type": "code",
      "execution_count": 256,
      "metadata": {
        "id": "1XrkNBbFO6R1"
      },
      "outputs": [],
      "source": [
        "model_5.compile(loss='binary_crossentropy',\n",
        "                optimizer=tf.keras.optimizers.Adam(),\n",
        "                metrics=['accuracy'])"
      ]
    },
    {
      "cell_type": "code",
      "execution_count": 257,
      "metadata": {
        "colab": {
          "base_uri": "https://localhost:8080/"
        },
        "id": "6VneNncfO6R1",
        "outputId": "ce02ca35-9e59-47e4-da44-e55427adce01"
      },
      "outputs": [
        {
          "name": "stdout",
          "output_type": "stream",
          "text": [
            "Saving TensorBoard log files to: model_logs/model_5_Conv1D/20240912-110513\n",
            "Epoch 1/5\n",
            "\u001b[1m215/215\u001b[0m \u001b[32m━━━━━━━━━━━━━━━━━━━━\u001b[0m\u001b[37m\u001b[0m \u001b[1m3s\u001b[0m 7ms/step - accuracy: 0.9323 - loss: 0.2005 - val_accuracy: 0.7598 - val_loss: 0.8606\n",
            "Epoch 2/5\n",
            "\u001b[1m215/215\u001b[0m \u001b[32m━━━━━━━━━━━━━━━━━━━━\u001b[0m\u001b[37m\u001b[0m \u001b[1m2s\u001b[0m 6ms/step - accuracy: 0.9721 - loss: 0.0795 - val_accuracy: 0.7598 - val_loss: 1.0098\n",
            "Epoch 3/5\n",
            "\u001b[1m215/215\u001b[0m \u001b[32m━━━━━━━━━━━━━━━━━━━━\u001b[0m\u001b[37m\u001b[0m \u001b[1m1s\u001b[0m 6ms/step - accuracy: 0.9762 - loss: 0.0641 - val_accuracy: 0.7664 - val_loss: 1.1023\n",
            "Epoch 4/5\n",
            "\u001b[1m215/215\u001b[0m \u001b[32m━━━━━━━━━━━━━━━━━━━━\u001b[0m\u001b[37m\u001b[0m \u001b[1m1s\u001b[0m 6ms/step - accuracy: 0.9780 - loss: 0.0570 - val_accuracy: 0.7638 - val_loss: 1.1506\n",
            "Epoch 5/5\n",
            "\u001b[1m215/215\u001b[0m \u001b[32m━━━━━━━━━━━━━━━━━━━━\u001b[0m\u001b[37m\u001b[0m \u001b[1m3s\u001b[0m 6ms/step - accuracy: 0.9778 - loss: 0.0521 - val_accuracy: 0.7625 - val_loss: 1.1799\n"
          ]
        }
      ],
      "source": [
        "model_5_history = model_5.fit(train_sentences,train_labels,epochs=5,validation_data=(val_sentences,val_labels),callbacks=[create_tensorboard_callback(SAVE_DIR,\"model_5_Conv1D\")])\n"
      ]
    },
    {
      "cell_type": "code",
      "execution_count": 258,
      "metadata": {
        "colab": {
          "base_uri": "https://localhost:8080/"
        },
        "id": "3tKNz8gjO6R2",
        "outputId": "3d02af21-8c03-46bd-b454-6fcb1aab7ccd"
      },
      "outputs": [
        {
          "name": "stdout",
          "output_type": "stream",
          "text": [
            "\u001b[1m24/24\u001b[0m \u001b[32m━━━━━━━━━━━━━━━━━━━━\u001b[0m\u001b[37m\u001b[0m \u001b[1m0s\u001b[0m 8ms/step\n"
          ]
        }
      ],
      "source": [
        "model_5_pred_probs = model_5.predict(val_sentences)"
      ]
    },
    {
      "cell_type": "code",
      "execution_count": 259,
      "metadata": {
        "id": "uR5YDl-HO6R2"
      },
      "outputs": [],
      "source": [
        "model_5_preds=tf.squeeze(tf.round(model_5_pred_probs))"
      ]
    },
    {
      "cell_type": "code",
      "execution_count": 260,
      "metadata": {
        "id": "3XMxkOHOO6R2"
      },
      "outputs": [],
      "source": [
        "model_5_results = calculate_results(val_labels,model_5_preds)"
      ]
    },
    {
      "cell_type": "code",
      "execution_count": 261,
      "metadata": {
        "colab": {
          "base_uri": "https://localhost:8080/"
        },
        "id": "3pdynfxKO6R2",
        "outputId": "1e76bc5f-3191-4c89-e277-4dc1486ccf17"
      },
      "outputs": [
        {
          "data": {
            "text/plain": [
              "{'accuracy': 76.24671916010499,\n",
              " 'precision': 0.7622420629158274,\n",
              " 'recall': 0.7624671916010499,\n",
              " 'f1': 0.7615230580020793}"
            ]
          },
          "execution_count": 261,
          "metadata": {},
          "output_type": "execute_result"
        }
      ],
      "source": [
        "model_5_results"
      ]
    },
    {
      "cell_type": "code",
      "execution_count": 262,
      "metadata": {
        "colab": {
          "base_uri": "https://localhost:8080/"
        },
        "id": "qyn1z2zxUylp",
        "outputId": "e7e679cf-8cbf-4abb-f822-73f5f87be9e8"
      },
      "outputs": [
        {
          "name": "stdout",
          "output_type": "stream",
          "text": [
            "Requirement already satisfied: tensorflow-hub in /usr/local/lib/python3.10/dist-packages (0.16.1)\n",
            "Requirement already satisfied: numpy>=1.12.0 in /usr/local/lib/python3.10/dist-packages (from tensorflow-hub) (1.26.4)\n",
            "Requirement already satisfied: protobuf>=3.19.6 in /usr/local/lib/python3.10/dist-packages (from tensorflow-hub) (3.20.3)\n",
            "Requirement already satisfied: tf-keras>=2.14.1 in /usr/local/lib/python3.10/dist-packages (from tensorflow-hub) (2.17.0)\n",
            "Requirement already satisfied: tensorflow<2.18,>=2.17 in /usr/local/lib/python3.10/dist-packages (from tf-keras>=2.14.1->tensorflow-hub) (2.17.0)\n",
            "Requirement already satisfied: absl-py>=1.0.0 in /usr/local/lib/python3.10/dist-packages (from tensorflow<2.18,>=2.17->tf-keras>=2.14.1->tensorflow-hub) (1.4.0)\n",
            "Requirement already satisfied: astunparse>=1.6.0 in /usr/local/lib/python3.10/dist-packages (from tensorflow<2.18,>=2.17->tf-keras>=2.14.1->tensorflow-hub) (1.6.3)\n",
            "Requirement already satisfied: flatbuffers>=24.3.25 in /usr/local/lib/python3.10/dist-packages (from tensorflow<2.18,>=2.17->tf-keras>=2.14.1->tensorflow-hub) (24.3.25)\n",
            "Requirement already satisfied: gast!=0.5.0,!=0.5.1,!=0.5.2,>=0.2.1 in /usr/local/lib/python3.10/dist-packages (from tensorflow<2.18,>=2.17->tf-keras>=2.14.1->tensorflow-hub) (0.6.0)\n",
            "Requirement already satisfied: google-pasta>=0.1.1 in /usr/local/lib/python3.10/dist-packages (from tensorflow<2.18,>=2.17->tf-keras>=2.14.1->tensorflow-hub) (0.2.0)\n",
            "Requirement already satisfied: h5py>=3.10.0 in /usr/local/lib/python3.10/dist-packages (from tensorflow<2.18,>=2.17->tf-keras>=2.14.1->tensorflow-hub) (3.11.0)\n",
            "Requirement already satisfied: libclang>=13.0.0 in /usr/local/lib/python3.10/dist-packages (from tensorflow<2.18,>=2.17->tf-keras>=2.14.1->tensorflow-hub) (18.1.1)\n",
            "Requirement already satisfied: ml-dtypes<0.5.0,>=0.3.1 in /usr/local/lib/python3.10/dist-packages (from tensorflow<2.18,>=2.17->tf-keras>=2.14.1->tensorflow-hub) (0.4.0)\n",
            "Requirement already satisfied: opt-einsum>=2.3.2 in /usr/local/lib/python3.10/dist-packages (from tensorflow<2.18,>=2.17->tf-keras>=2.14.1->tensorflow-hub) (3.3.0)\n",
            "Requirement already satisfied: packaging in /usr/local/lib/python3.10/dist-packages (from tensorflow<2.18,>=2.17->tf-keras>=2.14.1->tensorflow-hub) (24.1)\n",
            "Requirement already satisfied: requests<3,>=2.21.0 in /usr/local/lib/python3.10/dist-packages (from tensorflow<2.18,>=2.17->tf-keras>=2.14.1->tensorflow-hub) (2.32.3)\n",
            "Requirement already satisfied: setuptools in /usr/local/lib/python3.10/dist-packages (from tensorflow<2.18,>=2.17->tf-keras>=2.14.1->tensorflow-hub) (71.0.4)\n",
            "Requirement already satisfied: six>=1.12.0 in /usr/local/lib/python3.10/dist-packages (from tensorflow<2.18,>=2.17->tf-keras>=2.14.1->tensorflow-hub) (1.16.0)\n",
            "Requirement already satisfied: termcolor>=1.1.0 in /usr/local/lib/python3.10/dist-packages (from tensorflow<2.18,>=2.17->tf-keras>=2.14.1->tensorflow-hub) (2.4.0)\n",
            "Requirement already satisfied: typing-extensions>=3.6.6 in /usr/local/lib/python3.10/dist-packages (from tensorflow<2.18,>=2.17->tf-keras>=2.14.1->tensorflow-hub) (4.12.2)\n",
            "Requirement already satisfied: wrapt>=1.11.0 in /usr/local/lib/python3.10/dist-packages (from tensorflow<2.18,>=2.17->tf-keras>=2.14.1->tensorflow-hub) (1.16.0)\n",
            "Requirement already satisfied: grpcio<2.0,>=1.24.3 in /usr/local/lib/python3.10/dist-packages (from tensorflow<2.18,>=2.17->tf-keras>=2.14.1->tensorflow-hub) (1.64.1)\n",
            "Requirement already satisfied: tensorboard<2.18,>=2.17 in /usr/local/lib/python3.10/dist-packages (from tensorflow<2.18,>=2.17->tf-keras>=2.14.1->tensorflow-hub) (2.17.0)\n",
            "Requirement already satisfied: keras>=3.2.0 in /usr/local/lib/python3.10/dist-packages (from tensorflow<2.18,>=2.17->tf-keras>=2.14.1->tensorflow-hub) (3.4.1)\n",
            "Requirement already satisfied: tensorflow-io-gcs-filesystem>=0.23.1 in /usr/local/lib/python3.10/dist-packages (from tensorflow<2.18,>=2.17->tf-keras>=2.14.1->tensorflow-hub) (0.37.1)\n",
            "Requirement already satisfied: wheel<1.0,>=0.23.0 in /usr/local/lib/python3.10/dist-packages (from astunparse>=1.6.0->tensorflow<2.18,>=2.17->tf-keras>=2.14.1->tensorflow-hub) (0.44.0)\n",
            "Requirement already satisfied: rich in /usr/local/lib/python3.10/dist-packages (from keras>=3.2.0->tensorflow<2.18,>=2.17->tf-keras>=2.14.1->tensorflow-hub) (13.8.0)\n",
            "Requirement already satisfied: namex in /usr/local/lib/python3.10/dist-packages (from keras>=3.2.0->tensorflow<2.18,>=2.17->tf-keras>=2.14.1->tensorflow-hub) (0.0.8)\n",
            "Requirement already satisfied: optree in /usr/local/lib/python3.10/dist-packages (from keras>=3.2.0->tensorflow<2.18,>=2.17->tf-keras>=2.14.1->tensorflow-hub) (0.12.1)\n",
            "Requirement already satisfied: charset-normalizer<4,>=2 in /usr/local/lib/python3.10/dist-packages (from requests<3,>=2.21.0->tensorflow<2.18,>=2.17->tf-keras>=2.14.1->tensorflow-hub) (3.3.2)\n",
            "Requirement already satisfied: idna<4,>=2.5 in /usr/local/lib/python3.10/dist-packages (from requests<3,>=2.21.0->tensorflow<2.18,>=2.17->tf-keras>=2.14.1->tensorflow-hub) (3.8)\n",
            "Requirement already satisfied: urllib3<3,>=1.21.1 in /usr/local/lib/python3.10/dist-packages (from requests<3,>=2.21.0->tensorflow<2.18,>=2.17->tf-keras>=2.14.1->tensorflow-hub) (2.0.7)\n",
            "Requirement already satisfied: certifi>=2017.4.17 in /usr/local/lib/python3.10/dist-packages (from requests<3,>=2.21.0->tensorflow<2.18,>=2.17->tf-keras>=2.14.1->tensorflow-hub) (2024.8.30)\n",
            "Requirement already satisfied: markdown>=2.6.8 in /usr/local/lib/python3.10/dist-packages (from tensorboard<2.18,>=2.17->tensorflow<2.18,>=2.17->tf-keras>=2.14.1->tensorflow-hub) (3.7)\n",
            "Requirement already satisfied: tensorboard-data-server<0.8.0,>=0.7.0 in /usr/local/lib/python3.10/dist-packages (from tensorboard<2.18,>=2.17->tensorflow<2.18,>=2.17->tf-keras>=2.14.1->tensorflow-hub) (0.7.2)\n",
            "Requirement already satisfied: werkzeug>=1.0.1 in /usr/local/lib/python3.10/dist-packages (from tensorboard<2.18,>=2.17->tensorflow<2.18,>=2.17->tf-keras>=2.14.1->tensorflow-hub) (3.0.4)\n",
            "Requirement already satisfied: MarkupSafe>=2.1.1 in /usr/local/lib/python3.10/dist-packages (from werkzeug>=1.0.1->tensorboard<2.18,>=2.17->tensorflow<2.18,>=2.17->tf-keras>=2.14.1->tensorflow-hub) (2.1.5)\n",
            "Requirement already satisfied: markdown-it-py>=2.2.0 in /usr/local/lib/python3.10/dist-packages (from rich->keras>=3.2.0->tensorflow<2.18,>=2.17->tf-keras>=2.14.1->tensorflow-hub) (3.0.0)\n",
            "Requirement already satisfied: pygments<3.0.0,>=2.13.0 in /usr/local/lib/python3.10/dist-packages (from rich->keras>=3.2.0->tensorflow<2.18,>=2.17->tf-keras>=2.14.1->tensorflow-hub) (2.16.1)\n",
            "Requirement already satisfied: mdurl~=0.1 in /usr/local/lib/python3.10/dist-packages (from markdown-it-py>=2.2.0->rich->keras>=3.2.0->tensorflow<2.18,>=2.17->tf-keras>=2.14.1->tensorflow-hub) (0.1.2)\n"
          ]
        }
      ],
      "source": [
        "!pip install tensorflow-hub"
      ]
    },
    {
      "cell_type": "code",
      "execution_count": 263,
      "metadata": {
        "colab": {
          "base_uri": "https://localhost:8080/"
        },
        "id": "3iKXOITVO6R3",
        "outputId": "d7e0f719-1131-48a2-a587-d50a518061c1"
      },
      "outputs": [
        {
          "name": "stdout",
          "output_type": "stream",
          "text": [
            "tf.Tensor(\n",
            "[-0.02607423 -0.08460002 -0.0267866   0.05678422  0.06197047  0.03822601\n",
            "  0.02011493  0.02740875  0.0869832   0.03079181  0.04104118  0.02551838\n",
            "  0.00096517  0.05892793  0.0400954   0.0467089  -0.03312796  0.04070416\n",
            " -0.01199296 -0.04761709 -0.00829665  0.07054674  0.00484352  0.08098248\n",
            " -0.05701773 -0.06435513  0.06971473 -0.06988385  0.02646063 -0.02352206\n",
            "  0.05523751  0.04913638  0.05698972 -0.06107195  0.03608511  0.02324464\n",
            "  0.0560175  -0.01095518  0.04213085 -0.01769542  0.00712433  0.02047031\n",
            " -0.0710126  -0.08455775  0.04360581  0.04793974 -0.0901802  -0.06873437\n",
            "  0.01279598  0.01624986], shape=(50,), dtype=float32)\n"
          ]
        }
      ],
      "source": [
        "import  tensorflow_hub as hub\n",
        "embed=hub.load('https://tfhub.dev/google/universal-sentence-encoder/4')\n",
        "embed_samples=embed([sample_sentence,\"When you can the universal sentence encoder on a sentence ,  it turns it into numbers.\"])\n",
        "\n",
        "print(embed_samples[0][:50])\n"
      ]
    },
    {
      "cell_type": "code",
      "execution_count": 264,
      "metadata": {
        "colab": {
          "base_uri": "https://localhost:8080/"
        },
        "id": "dl8c6PNUO6R3",
        "outputId": "e85715b9-6cec-4e6d-860f-6bb7dacbf348"
      },
      "outputs": [
        {
          "data": {
            "text/plain": [
              "TensorShape([512])"
            ]
          },
          "execution_count": 264,
          "metadata": {},
          "output_type": "execute_result"
        }
      ],
      "source": [
        "embed_samples[0].shape"
      ]
    },
    {
      "cell_type": "code",
      "execution_count": 265,
      "metadata": {
        "id": "wJTSiW_NQcr8"
      },
      "outputs": [],
      "source": [
        "sentence_encoder_layer = hub.KerasLayer(\"https://tfhub.dev/google/universal-sentence-encoder/4\",\n",
        "                                        input_shape=[],\n",
        "                                        dtype=tf.string,\n",
        "                                        trainable=False,\n",
        "                                        name=\"USE\")\n",
        "\n"
      ]
    },
    {
      "cell_type": "code",
      "execution_count": 266,
      "metadata": {
        "id": "G6-5ZYUhR-hC"
      },
      "outputs": [],
      "source": [
        "from tensorflow import keras"
      ]
    },
    {
      "cell_type": "code",
      "execution_count": 267,
      "metadata": {
        "colab": {
          "base_uri": "https://localhost:8080/"
        },
        "id": "PrGi8UKBSvJ8",
        "outputId": "3f7c3e23-f53a-4556-cdf6-bb0757a3517e"
      },
      "outputs": [
        {
          "data": {
            "text/plain": [
              "<tensorflow_hub.keras_layer.KerasLayer at 0x7bffb06c1cc0>"
            ]
          },
          "execution_count": 267,
          "metadata": {},
          "output_type": "execute_result"
        }
      ],
      "source": [
        "sentence_encoder_layer"
      ]
    },
    {
      "cell_type": "code",
      "execution_count": 268,
      "metadata": {
        "colab": {
          "base_uri": "https://localhost:8080/",
          "height": 35
        },
        "id": "jMQT5J9AVFmr",
        "outputId": "2c104a7b-d179-4831-d31e-52edccbb2330"
      },
      "outputs": [
        {
          "data": {
            "application/vnd.google.colaboratory.intrinsic+json": {
              "type": "string"
            },
            "text/plain": [
              "'2.17.0'"
            ]
          },
          "execution_count": 268,
          "metadata": {},
          "output_type": "execute_result"
        }
      ],
      "source": [
        "tf.__version__"
      ]
    },
    {
      "cell_type": "code",
      "execution_count": 269,
      "metadata": {
        "colab": {
          "base_uri": "https://localhost:8080/"
        },
        "id": "sUFjx3ZcVMq2",
        "outputId": "c5c088be-5b04-4f28-be8a-fb9350dc2bb5"
      },
      "outputs": [
        {
          "name": "stdout",
          "output_type": "stream",
          "text": [
            "Requirement already satisfied: tensorflow-hub in /usr/local/lib/python3.10/dist-packages (0.16.1)\n",
            "Requirement already satisfied: numpy>=1.12.0 in /usr/local/lib/python3.10/dist-packages (from tensorflow-hub) (1.26.4)\n",
            "Requirement already satisfied: protobuf>=3.19.6 in /usr/local/lib/python3.10/dist-packages (from tensorflow-hub) (3.20.3)\n",
            "Requirement already satisfied: tf-keras>=2.14.1 in /usr/local/lib/python3.10/dist-packages (from tensorflow-hub) (2.17.0)\n",
            "Requirement already satisfied: tensorflow<2.18,>=2.17 in /usr/local/lib/python3.10/dist-packages (from tf-keras>=2.14.1->tensorflow-hub) (2.17.0)\n",
            "Requirement already satisfied: absl-py>=1.0.0 in /usr/local/lib/python3.10/dist-packages (from tensorflow<2.18,>=2.17->tf-keras>=2.14.1->tensorflow-hub) (1.4.0)\n",
            "Requirement already satisfied: astunparse>=1.6.0 in /usr/local/lib/python3.10/dist-packages (from tensorflow<2.18,>=2.17->tf-keras>=2.14.1->tensorflow-hub) (1.6.3)\n",
            "Requirement already satisfied: flatbuffers>=24.3.25 in /usr/local/lib/python3.10/dist-packages (from tensorflow<2.18,>=2.17->tf-keras>=2.14.1->tensorflow-hub) (24.3.25)\n",
            "Requirement already satisfied: gast!=0.5.0,!=0.5.1,!=0.5.2,>=0.2.1 in /usr/local/lib/python3.10/dist-packages (from tensorflow<2.18,>=2.17->tf-keras>=2.14.1->tensorflow-hub) (0.6.0)\n",
            "Requirement already satisfied: google-pasta>=0.1.1 in /usr/local/lib/python3.10/dist-packages (from tensorflow<2.18,>=2.17->tf-keras>=2.14.1->tensorflow-hub) (0.2.0)\n",
            "Requirement already satisfied: h5py>=3.10.0 in /usr/local/lib/python3.10/dist-packages (from tensorflow<2.18,>=2.17->tf-keras>=2.14.1->tensorflow-hub) (3.11.0)\n",
            "Requirement already satisfied: libclang>=13.0.0 in /usr/local/lib/python3.10/dist-packages (from tensorflow<2.18,>=2.17->tf-keras>=2.14.1->tensorflow-hub) (18.1.1)\n",
            "Requirement already satisfied: ml-dtypes<0.5.0,>=0.3.1 in /usr/local/lib/python3.10/dist-packages (from tensorflow<2.18,>=2.17->tf-keras>=2.14.1->tensorflow-hub) (0.4.0)\n",
            "Requirement already satisfied: opt-einsum>=2.3.2 in /usr/local/lib/python3.10/dist-packages (from tensorflow<2.18,>=2.17->tf-keras>=2.14.1->tensorflow-hub) (3.3.0)\n",
            "Requirement already satisfied: packaging in /usr/local/lib/python3.10/dist-packages (from tensorflow<2.18,>=2.17->tf-keras>=2.14.1->tensorflow-hub) (24.1)\n",
            "Requirement already satisfied: requests<3,>=2.21.0 in /usr/local/lib/python3.10/dist-packages (from tensorflow<2.18,>=2.17->tf-keras>=2.14.1->tensorflow-hub) (2.32.3)\n",
            "Requirement already satisfied: setuptools in /usr/local/lib/python3.10/dist-packages (from tensorflow<2.18,>=2.17->tf-keras>=2.14.1->tensorflow-hub) (71.0.4)\n",
            "Requirement already satisfied: six>=1.12.0 in /usr/local/lib/python3.10/dist-packages (from tensorflow<2.18,>=2.17->tf-keras>=2.14.1->tensorflow-hub) (1.16.0)\n",
            "Requirement already satisfied: termcolor>=1.1.0 in /usr/local/lib/python3.10/dist-packages (from tensorflow<2.18,>=2.17->tf-keras>=2.14.1->tensorflow-hub) (2.4.0)\n",
            "Requirement already satisfied: typing-extensions>=3.6.6 in /usr/local/lib/python3.10/dist-packages (from tensorflow<2.18,>=2.17->tf-keras>=2.14.1->tensorflow-hub) (4.12.2)\n",
            "Requirement already satisfied: wrapt>=1.11.0 in /usr/local/lib/python3.10/dist-packages (from tensorflow<2.18,>=2.17->tf-keras>=2.14.1->tensorflow-hub) (1.16.0)\n",
            "Requirement already satisfied: grpcio<2.0,>=1.24.3 in /usr/local/lib/python3.10/dist-packages (from tensorflow<2.18,>=2.17->tf-keras>=2.14.1->tensorflow-hub) (1.64.1)\n",
            "Requirement already satisfied: tensorboard<2.18,>=2.17 in /usr/local/lib/python3.10/dist-packages (from tensorflow<2.18,>=2.17->tf-keras>=2.14.1->tensorflow-hub) (2.17.0)\n",
            "Requirement already satisfied: keras>=3.2.0 in /usr/local/lib/python3.10/dist-packages (from tensorflow<2.18,>=2.17->tf-keras>=2.14.1->tensorflow-hub) (3.4.1)\n",
            "Requirement already satisfied: tensorflow-io-gcs-filesystem>=0.23.1 in /usr/local/lib/python3.10/dist-packages (from tensorflow<2.18,>=2.17->tf-keras>=2.14.1->tensorflow-hub) (0.37.1)\n",
            "Requirement already satisfied: wheel<1.0,>=0.23.0 in /usr/local/lib/python3.10/dist-packages (from astunparse>=1.6.0->tensorflow<2.18,>=2.17->tf-keras>=2.14.1->tensorflow-hub) (0.44.0)\n",
            "Requirement already satisfied: rich in /usr/local/lib/python3.10/dist-packages (from keras>=3.2.0->tensorflow<2.18,>=2.17->tf-keras>=2.14.1->tensorflow-hub) (13.8.0)\n",
            "Requirement already satisfied: namex in /usr/local/lib/python3.10/dist-packages (from keras>=3.2.0->tensorflow<2.18,>=2.17->tf-keras>=2.14.1->tensorflow-hub) (0.0.8)\n",
            "Requirement already satisfied: optree in /usr/local/lib/python3.10/dist-packages (from keras>=3.2.0->tensorflow<2.18,>=2.17->tf-keras>=2.14.1->tensorflow-hub) (0.12.1)\n",
            "Requirement already satisfied: charset-normalizer<4,>=2 in /usr/local/lib/python3.10/dist-packages (from requests<3,>=2.21.0->tensorflow<2.18,>=2.17->tf-keras>=2.14.1->tensorflow-hub) (3.3.2)\n",
            "Requirement already satisfied: idna<4,>=2.5 in /usr/local/lib/python3.10/dist-packages (from requests<3,>=2.21.0->tensorflow<2.18,>=2.17->tf-keras>=2.14.1->tensorflow-hub) (3.8)\n",
            "Requirement already satisfied: urllib3<3,>=1.21.1 in /usr/local/lib/python3.10/dist-packages (from requests<3,>=2.21.0->tensorflow<2.18,>=2.17->tf-keras>=2.14.1->tensorflow-hub) (2.0.7)\n",
            "Requirement already satisfied: certifi>=2017.4.17 in /usr/local/lib/python3.10/dist-packages (from requests<3,>=2.21.0->tensorflow<2.18,>=2.17->tf-keras>=2.14.1->tensorflow-hub) (2024.8.30)\n",
            "Requirement already satisfied: markdown>=2.6.8 in /usr/local/lib/python3.10/dist-packages (from tensorboard<2.18,>=2.17->tensorflow<2.18,>=2.17->tf-keras>=2.14.1->tensorflow-hub) (3.7)\n",
            "Requirement already satisfied: tensorboard-data-server<0.8.0,>=0.7.0 in /usr/local/lib/python3.10/dist-packages (from tensorboard<2.18,>=2.17->tensorflow<2.18,>=2.17->tf-keras>=2.14.1->tensorflow-hub) (0.7.2)\n",
            "Requirement already satisfied: werkzeug>=1.0.1 in /usr/local/lib/python3.10/dist-packages (from tensorboard<2.18,>=2.17->tensorflow<2.18,>=2.17->tf-keras>=2.14.1->tensorflow-hub) (3.0.4)\n",
            "Requirement already satisfied: MarkupSafe>=2.1.1 in /usr/local/lib/python3.10/dist-packages (from werkzeug>=1.0.1->tensorboard<2.18,>=2.17->tensorflow<2.18,>=2.17->tf-keras>=2.14.1->tensorflow-hub) (2.1.5)\n",
            "Requirement already satisfied: markdown-it-py>=2.2.0 in /usr/local/lib/python3.10/dist-packages (from rich->keras>=3.2.0->tensorflow<2.18,>=2.17->tf-keras>=2.14.1->tensorflow-hub) (3.0.0)\n",
            "Requirement already satisfied: pygments<3.0.0,>=2.13.0 in /usr/local/lib/python3.10/dist-packages (from rich->keras>=3.2.0->tensorflow<2.18,>=2.17->tf-keras>=2.14.1->tensorflow-hub) (2.16.1)\n",
            "Requirement already satisfied: mdurl~=0.1 in /usr/local/lib/python3.10/dist-packages (from markdown-it-py>=2.2.0->rich->keras>=3.2.0->tensorflow<2.18,>=2.17->tf-keras>=2.14.1->tensorflow-hub) (0.1.2)\n"
          ]
        }
      ],
      "source": [
        "!pip install --upgrade tensorflow-hub\n"
      ]
    },
    {
      "cell_type": "code",
      "execution_count": 308,
      "metadata": {
        "id": "uHB02n1ORsah"
      },
      "outputs": [],
      "source": [
        "version_fn = getattr(tf.keras, \"version\", None)\n",
        "if version_fn and version_fn().startswith(\"3.\"):\n",
        "  import tf_keras as keras\n",
        "else:\n",
        "  keras = tf.keras\n",
        "\n"
      ]
    },
    {
      "cell_type": "code",
      "execution_count": 309,
      "metadata": {
        "id": "S8XCRt8bWY8j"
      },
      "outputs": [],
      "source": [
        "model_6 = keras.Sequential([\n",
        "    sentence_encoder_layer,\n",
        "   # take in sentences and then encode them into an embedding\n",
        "  keras.layers.Dense(64, activation=\"relu\"),\n",
        "  keras.layers.Dense(1, activation=\"sigmoid\",name=\"output_layer\")\n",
        "], name=\"model_6_USE\")\n",
        "\n",
        "\n",
        "# Compile model\n"
      ]
    },
    {
      "cell_type": "code",
      "execution_count": 310,
      "metadata": {
        "colab": {
          "base_uri": "https://localhost:8080/"
        },
        "id": "aH7-vkn5Whb_",
        "outputId": "4dc04060-11d3-409f-9e12-917bac69c08b"
      },
      "outputs": [
        {
          "name": "stdout",
          "output_type": "stream",
          "text": [
            "Model: \"model_6_USE\"\n",
            "_________________________________________________________________\n",
            " Layer (type)                Output Shape              Param #   \n",
            "=================================================================\n",
            " USE (KerasLayer)            (None, 512)               256797824 \n",
            "                                                                 \n",
            " dense_5 (Dense)             (None, 64)                32832     \n",
            "                                                                 \n",
            " output_layer (Dense)        (None, 1)                 65        \n",
            "                                                                 \n",
            "=================================================================\n",
            "Total params: 256830721 (979.73 MB)\n",
            "Trainable params: 32897 (128.50 KB)\n",
            "Non-trainable params: 256797824 (979.61 MB)\n",
            "_________________________________________________________________\n"
          ]
        }
      ],
      "source": [
        "model_6.compile(loss=\"binary_crossentropy\",\n",
        "                optimizer=keras.optimizers.Adam(),\n",
        "                metrics=[\"accuracy\"])\n",
        "\n",
        "\n",
        "model_6.summary()"
      ]
    },
    {
      "cell_type": "code",
      "execution_count": 310,
      "metadata": {
        "id": "Czygugg-X9_D"
      },
      "outputs": [],
      "source": []
    },
    {
      "cell_type": "code",
      "execution_count": 311,
      "metadata": {
        "colab": {
          "base_uri": "https://localhost:8080/"
        },
        "id": "MLvcMmSCWrT6",
        "outputId": "95c2ff79-4f10-480c-c2a4-49d51e7247e1"
      },
      "outputs": [
        {
          "name": "stdout",
          "output_type": "stream",
          "text": [
            "Epoch 1/5\n",
            "215/215 [==============================] - 4s 13ms/step - loss: 0.5050 - accuracy: 0.7847 - val_loss: 0.4498 - val_accuracy: 0.7979\n",
            "Epoch 2/5\n",
            "215/215 [==============================] - 2s 11ms/step - loss: 0.4159 - accuracy: 0.8145 - val_loss: 0.4383 - val_accuracy: 0.8110\n",
            "Epoch 3/5\n",
            "215/215 [==============================] - 3s 16ms/step - loss: 0.4011 - accuracy: 0.8215 - val_loss: 0.4337 - val_accuracy: 0.8123\n",
            "Epoch 4/5\n",
            "215/215 [==============================] - 2s 11ms/step - loss: 0.3937 - accuracy: 0.8266 - val_loss: 0.4283 - val_accuracy: 0.8110\n",
            "Epoch 5/5\n",
            "215/215 [==============================] - 2s 11ms/step - loss: 0.3870 - accuracy: 0.8286 - val_loss: 0.4299 - val_accuracy: 0.8123\n"
          ]
        }
      ],
      "source": [
        "model_6_history = model_6.fit(train_sentences,train_labels,epochs=5,validation_data=(val_sentences,val_labels))"
      ]
    },
    {
      "cell_type": "code",
      "execution_count": 312,
      "metadata": {
        "colab": {
          "base_uri": "https://localhost:8080/"
        },
        "id": "5KcLEU2eX2ow",
        "outputId": "ce9b680a-2567-4495-e699-46314ef144ce"
      },
      "outputs": [
        {
          "name": "stdout",
          "output_type": "stream",
          "text": [
            "24/24 [==============================] - 1s 10ms/step\n"
          ]
        }
      ],
      "source": [
        "model_6_pred_probs = model_6.predict(val_sentences)"
      ]
    },
    {
      "cell_type": "code",
      "execution_count": 313,
      "metadata": {
        "id": "vB-hqHZGYlG2"
      },
      "outputs": [],
      "source": [
        "model_6_preds = tf.squeeze(tf.round(model_6_pred_probs))"
      ]
    },
    {
      "cell_type": "code",
      "execution_count": 314,
      "metadata": {
        "id": "I5hTDBoHYrU6"
      },
      "outputs": [],
      "source": [
        "model_6_results = calculate_results(val_labels,model_6_preds)"
      ]
    },
    {
      "cell_type": "code",
      "execution_count": 315,
      "metadata": {
        "colab": {
          "base_uri": "https://localhost:8080/"
        },
        "id": "RSokaLr6YuTk",
        "outputId": "d683555c-711b-49ed-b2ba-84a884487bfd"
      },
      "outputs": [
        {
          "data": {
            "text/plain": [
              "{'accuracy': 81.23359580052494,\n",
              " 'precision': 0.8148798668657973,\n",
              " 'recall': 0.8123359580052494,\n",
              " 'f1': 0.810686575717776}"
            ]
          },
          "execution_count": 315,
          "metadata": {},
          "output_type": "execute_result"
        }
      ],
      "source": [
        "model_6_results"
      ]
    },
    {
      "cell_type": "code",
      "execution_count": 316,
      "metadata": {
        "colab": {
          "base_uri": "https://localhost:8080/"
        },
        "id": "TLagAE4KYxkr",
        "outputId": "f47a9b1e-632c-4812-ec80-535573cb2130"
      },
      "outputs": [
        {
          "name": "stdout",
          "output_type": "stream",
          "text": [
            "Model: \"model_6_USE\"\n",
            "_________________________________________________________________\n",
            " Layer (type)                Output Shape              Param #   \n",
            "=================================================================\n",
            " USE (KerasLayer)            (None, 512)               256797824 \n",
            "                                                                 \n",
            " dense_5 (Dense)             (None, 64)                32832     \n",
            "                                                                 \n",
            " output_layer (Dense)        (None, 1)                 65        \n",
            "                                                                 \n",
            "=================================================================\n",
            "Total params: 256830721 (979.73 MB)\n",
            "Trainable params: 32897 (128.50 KB)\n",
            "Non-trainable params: 256797824 (979.61 MB)\n",
            "_________________________________________________________________\n"
          ]
        }
      ],
      "source": [
        "model_6.summary()"
      ]
    },
    {
      "cell_type": "code",
      "execution_count": 317,
      "metadata": {
        "colab": {
          "base_uri": "https://localhost:8080/"
        },
        "id": "yhePNAAvd_O-",
        "outputId": "646fef99-632d-4440-d3b7-eb6415594c62"
      },
      "outputs": [
        {
          "data": {
            "text/plain": [
              "{'accuracy': 79.26509186351706,\n",
              " 'precision': 0.8111390004213173,\n",
              " 'recall': 0.7926509186351706,\n",
              " 'f1': 0.7862189758049549}"
            ]
          },
          "execution_count": 317,
          "metadata": {},
          "output_type": "execute_result"
        }
      ],
      "source": [
        "baseline_results"
      ]
    },
    {
      "cell_type": "code",
      "execution_count": 318,
      "metadata": {
        "colab": {
          "base_uri": "https://localhost:8080/"
        },
        "id": "92qGj0G1fUzg",
        "outputId": "697734ef-f7c2-4e14-a532-8fa0189fe65d"
      },
      "outputs": [
        {
          "data": {
            "text/plain": [
              "7613"
            ]
          },
          "execution_count": 318,
          "metadata": {},
          "output_type": "execute_result"
        }
      ],
      "source": [
        "len(train_df_shuffled)"
      ]
    },
    {
      "cell_type": "code",
      "execution_count": 319,
      "metadata": {
        "id": "IYoGCp_Vf2bH"
      },
      "outputs": [],
      "source": [
        "train_10_percent = train_df_shuffled[[\"text\",\"target\"]].sample(frac=.1,random_state=42)"
      ]
    },
    {
      "cell_type": "code",
      "execution_count": 320,
      "metadata": {
        "id": "rE3OOYnZfWTe"
      },
      "outputs": [],
      "source": [
        "train_sentences_10_percent = train_10_percent[\"text\"].to_list()\n",
        "train_labels_10_percent=train_10_percent[\"target\"].to_list()"
      ]
    },
    {
      "cell_type": "code",
      "execution_count": 321,
      "metadata": {
        "colab": {
          "base_uri": "https://localhost:8080/"
        },
        "collapsed": true,
        "id": "ZV_XS-JrgKTi",
        "outputId": "f883c7af-1109-47b2-fa10-1818c3bad0af"
      },
      "outputs": [
        {
          "data": {
            "text/plain": [
              "(761, 761)"
            ]
          },
          "execution_count": 321,
          "metadata": {},
          "output_type": "execute_result"
        }
      ],
      "source": [
        "len(train_sentences_10_percent),len(train_labels_10_percent)"
      ]
    },
    {
      "cell_type": "code",
      "execution_count": 322,
      "metadata": {
        "id": "el1SRoofgNlG"
      },
      "outputs": [],
      "source": [
        "# model_7 = keras.Sequential([\n",
        "#     sentence_encoder_layer,\n",
        "#    # take in sentences and then encode them into an embedding\n",
        "#   keras.layers.Dense(64, activation=\"relu\"),\n",
        "#   keras.layers.Dense(1, activation=\"sigmoid\",name=\"output_layer\")\n",
        "# ], name=\"model_7_USE\")\n",
        "\n",
        "\n"
      ]
    },
    {
      "cell_type": "code",
      "execution_count": 323,
      "metadata": {
        "id": "Cmf8X5OfiE5W"
      },
      "outputs": [],
      "source": [
        "# model_7.compile(loss=\"binary_crossentropy\",\n",
        "#                 optimizer=keras.optimizers.Adam(),\n",
        "#                 metrics=[\"accuracy\"])\n",
        "\n",
        "\n",
        "# model_7.summary()"
      ]
    },
    {
      "cell_type": "code",
      "execution_count": 324,
      "metadata": {
        "id": "7HLeaNBgiIT2"
      },
      "outputs": [],
      "source": [
        "# model_7_history = model_7.fit(train_sentences_10_percent,train_labels_10_percent,epochs=5,validation_data=(val_sentences,val_labels))"
      ]
    },
    {
      "cell_type": "code",
      "execution_count": 325,
      "metadata": {
        "id": "dYAsk6wFiNxk"
      },
      "outputs": [],
      "source": [
        "# model_7_pred_probs=model_7.predict(val_sentences)"
      ]
    },
    {
      "cell_type": "code",
      "execution_count": 326,
      "metadata": {
        "id": "rQu7tJLDiYmr"
      },
      "outputs": [],
      "source": [
        "# model_7_preds=tf.squeeze(tf.round(model_7_pred_probs))"
      ]
    },
    {
      "cell_type": "code",
      "execution_count": 327,
      "metadata": {
        "id": "ftQN6nYqia3O"
      },
      "outputs": [],
      "source": [
        "# model_7_results=calculate_results(val_labels,model_7_preds)"
      ]
    },
    {
      "cell_type": "code",
      "execution_count": 328,
      "metadata": {
        "id": "3CuJESnYijIp"
      },
      "outputs": [],
      "source": [
        "# model_6_results"
      ]
    },
    {
      "cell_type": "code",
      "execution_count": 329,
      "metadata": {
        "id": "xsf8Kcheid7a"
      },
      "outputs": [],
      "source": [
        "# model_7_results\n"
      ]
    },
    {
      "cell_type": "code",
      "execution_count": 330,
      "metadata": {
        "id": "h7q0ekUMifWx"
      },
      "outputs": [],
      "source": [
        "train_10_percent_split = int(0.1 * len(train_sentences))\n",
        "train_sentences_10_percent=train_sentences[:train_10_percent_split]\n",
        "train_labels_10_percent = train_labels[:train_10_percent_split]"
      ]
    },
    {
      "cell_type": "code",
      "execution_count": 331,
      "metadata": {
        "colab": {
          "base_uri": "https://localhost:8080/"
        },
        "id": "IzqRaFH-xQ6j",
        "outputId": "027c410e-cc13-4714-8239-fdc10fc4ee50"
      },
      "outputs": [
        {
          "data": {
            "text/plain": [
              "(685, 685)"
            ]
          },
          "execution_count": 331,
          "metadata": {},
          "output_type": "execute_result"
        }
      ],
      "source": [
        "len(train_sentences_10_percent),len(train_labels_10_percent)"
      ]
    },
    {
      "cell_type": "code",
      "execution_count": 332,
      "metadata": {
        "colab": {
          "base_uri": "https://localhost:8080/",
          "height": 147
        },
        "id": "-fPWSrPykYyy",
        "outputId": "17fb1523-535f-4986-aba2-f559ff6d6dd0"
      },
      "outputs": [
        {
          "data": {
            "text/html": [
              "<div>\n",
              "<style scoped>\n",
              "    .dataframe tbody tr th:only-of-type {\n",
              "        vertical-align: middle;\n",
              "    }\n",
              "\n",
              "    .dataframe tbody tr th {\n",
              "        vertical-align: top;\n",
              "    }\n",
              "\n",
              "    .dataframe thead th {\n",
              "        text-align: right;\n",
              "    }\n",
              "</style>\n",
              "<table border=\"1\" class=\"dataframe\">\n",
              "  <thead>\n",
              "    <tr style=\"text-align: right;\">\n",
              "      <th></th>\n",
              "      <th>count</th>\n",
              "    </tr>\n",
              "  </thead>\n",
              "  <tbody>\n",
              "    <tr>\n",
              "      <th>0</th>\n",
              "      <td>406</td>\n",
              "    </tr>\n",
              "    <tr>\n",
              "      <th>1</th>\n",
              "      <td>279</td>\n",
              "    </tr>\n",
              "  </tbody>\n",
              "</table>\n",
              "</div><br><label><b>dtype:</b> int64</label>"
            ],
            "text/plain": [
              "0    406\n",
              "1    279\n",
              "Name: count, dtype: int64"
            ]
          },
          "execution_count": 332,
          "metadata": {},
          "output_type": "execute_result"
        }
      ],
      "source": [
        "pd.Series(np.array(train_labels_10_percent)).value_counts()"
      ]
    },
    {
      "cell_type": "code",
      "execution_count": 333,
      "metadata": {
        "colab": {
          "base_uri": "https://localhost:8080/",
          "height": 178
        },
        "id": "e041_BBjkvpc",
        "outputId": "d8c9e064-1a4f-4b8a-d7ba-405d9112f9be"
      },
      "outputs": [
        {
          "data": {
            "text/html": [
              "<div>\n",
              "<style scoped>\n",
              "    .dataframe tbody tr th:only-of-type {\n",
              "        vertical-align: middle;\n",
              "    }\n",
              "\n",
              "    .dataframe tbody tr th {\n",
              "        vertical-align: top;\n",
              "    }\n",
              "\n",
              "    .dataframe thead th {\n",
              "        text-align: right;\n",
              "    }\n",
              "</style>\n",
              "<table border=\"1\" class=\"dataframe\">\n",
              "  <thead>\n",
              "    <tr style=\"text-align: right;\">\n",
              "      <th></th>\n",
              "      <th>count</th>\n",
              "    </tr>\n",
              "    <tr>\n",
              "      <th>target</th>\n",
              "      <th></th>\n",
              "    </tr>\n",
              "  </thead>\n",
              "  <tbody>\n",
              "    <tr>\n",
              "      <th>0</th>\n",
              "      <td>4342</td>\n",
              "    </tr>\n",
              "    <tr>\n",
              "      <th>1</th>\n",
              "      <td>3271</td>\n",
              "    </tr>\n",
              "  </tbody>\n",
              "</table>\n",
              "</div><br><label><b>dtype:</b> int64</label>"
            ],
            "text/plain": [
              "target\n",
              "0    4342\n",
              "1    3271\n",
              "Name: count, dtype: int64"
            ]
          },
          "execution_count": 333,
          "metadata": {},
          "output_type": "execute_result"
        }
      ],
      "source": [
        "train_df_shuffled[\"target\"].value_counts()"
      ]
    },
    {
      "cell_type": "code",
      "execution_count": 334,
      "metadata": {
        "colab": {
          "base_uri": "https://localhost:8080/"
        },
        "id": "itTvua1dvpq2",
        "outputId": "01d77248-a6f4-475a-8b60-71c775c64c5a"
      },
      "outputs": [
        {
          "name": "stdout",
          "output_type": "stream",
          "text": [
            "Model: \"model_7_USE\"\n",
            "_________________________________________________________________\n",
            " Layer (type)                Output Shape              Param #   \n",
            "=================================================================\n",
            " USE (KerasLayer)            (None, 512)               256797824 \n",
            "                                                                 \n",
            " dense_6 (Dense)             (None, 64)                32832     \n",
            "                                                                 \n",
            " output_layer (Dense)        (None, 1)                 65        \n",
            "                                                                 \n",
            "=================================================================\n",
            "Total params: 256830721 (979.73 MB)\n",
            "Trainable params: 32897 (128.50 KB)\n",
            "Non-trainable params: 256797824 (979.61 MB)\n",
            "_________________________________________________________________\n"
          ]
        }
      ],
      "source": [
        "model_7 = keras.Sequential([\n",
        "    sentence_encoder_layer,\n",
        "   # take in sentences and then encode them into an embedding\n",
        "  keras.layers.Dense(64, activation=\"relu\"),\n",
        "  keras.layers.Dense(1, activation=\"sigmoid\",name=\"output_layer\")\n",
        "], name=\"model_7_USE\")\n",
        "\n",
        "model_7.compile(loss=\"binary_crossentropy\",\n",
        "                optimizer=keras.optimizers.Adam(),\n",
        "                metrics=[\"accuracy\"])\n",
        "\n",
        "\n",
        "model_7.summary()\n"
      ]
    },
    {
      "cell_type": "code",
      "execution_count": 335,
      "metadata": {
        "colab": {
          "base_uri": "https://localhost:8080/"
        },
        "id": "wUREnLm1w7HX",
        "outputId": "4ebf155c-8f01-4bfe-ce0a-03e93cc7d55e"
      },
      "outputs": [
        {
          "data": {
            "text/plain": [
              "<tf.Tensor: shape=(685,), dtype=string, numpy=\n",
              "array([b'@mogacola @zamtriossu i screamed after hitting tweet',\n",
              "       b'Imagine getting flattened by Kurt Zouma',\n",
              "       b'@Gurmeetramrahim #MSGDoing111WelfareWorks Green S welfare force ke appx 65000 members har time disaster victim ki help ke liye tyar hai....',\n",
              "       b\"@shakjn @C7 @Magnums im shaking in fear he's gonna hack the planet\",\n",
              "       b'Somehow find you and I collide http://t.co/Ee8RpOahPk',\n",
              "       b'@EvaHanderek @MarleyKnysh great times until the bus driver held us hostage in the mall parking lot lmfao',\n",
              "       b'destroy the free fandom honestly',\n",
              "       b'Weapons stolen from National Guard Armory in New Albany still missing #Gunsense http://t.co/lKNU8902JE',\n",
              "       b'@wfaaweather Pete when will the heat wave pass? Is it really going to be mid month? Frisco Boy Scouts have a canoe trip in Okla.',\n",
              "       b'Patient-reported outcomes in long-term survivors of metastatic colorectal cancer - British Journal of Surgery http://t.co/5Yl4DC1Tqt',\n",
              "       b'Lava Dragon Breeder! I just bred a Lava Dragon in DragonVale! Visit my park to check it out! http://t.co/QGum9xHEOs',\n",
              "       b'@BehindAShield @Wars_Goddess Sweet Lord.  (I collapse as my knees buckle)',\n",
              "       b'Several wild fires have burned a lot of land in California. Here is one of the larger fires. http://t.co/2M1gNeaiFl http://t.co/UQh85MiP0v',\n",
              "       b\"1st wk of Rainier Diet and my street Seward Park Ave is inundated w/ bypass traffic so @seattledot what's your plan? @seattletimes\",\n",
              "       b'Madhya Pradesh Train Derailment: Village Youth Saved Many Lives',\n",
              "       b'Fair enough we have two of the best attacking wingers in the Prem in Hazard and Willian who will basically start every game 100%',\n",
              "       b\"@AlexeiVolkov1 @McFaul\\nAnd in an equal spirit I leave you to Roskomnadzor and to ridiculously politicized destruction of 'illegal food.'\",\n",
              "       b'SOOOO PUMPED FOR ABLAZE ???? @southridgelife',\n",
              "       b'Ready for this storm',\n",
              "       b'WHEN U BOMBED AND U TRY 2 GET HOME FOR CURFEW http://t.co/oi6CmAGASi',\n",
              "       b\"Don't get burned twice by the same flame.\",\n",
              "       b'@Blizzard_draco GIVE ME FREE ART KAMON',\n",
              "       b'@HoneyBunzGem @primalkitchen I feel like me doing a pull-up is one of the stages of the Apocalypse.',\n",
              "       b'Louis Vuitton Monogram Sophie Limited Edition Clutch Cross body Bag - Full read by eBay http://t.co/GGgFVO5Pb4 http://t.co/NlFr8t3xqm',\n",
              "       b'Magnetic and electrostatic nuclear fusion reactor http://t.co/eM5oPyTBpg',\n",
              "       b'Investigators have said a Virgin Galactic spaceship crash was caused by structural failure after the co-pilot ... http://t.co/imAWVMzs3A',\n",
              "       b'@freddiedeboer @Thucydiplease then you have rise of Coates Charleston massacre Walter Scott and black twitter more broadly as well.',\n",
              "       b'Fear has a way of making us see danger where there is none. Contemplating the logic behind the situation and find the courage to engage it',\n",
              "       b'Police: Gunman reported dead at Nashville area theater: A suspect who carried a gun and a hatchet at the Carmi... http://t.co/kqvN1uTpMM',\n",
              "       b'@b24fowler I see that! Crazy how this line blew up.',\n",
              "       b'I think that none of us know the impact we have on the lives of those around us. Even the slightest stirring can create a violent storm.',\n",
              "       b'@thetimepast @saalon I have childhood trauma more resolved than theirs. Actual trauma. Fricken babies.',\n",
              "       b\"@_chelsdelong12 @kendra_leigh13 I'll crash it\",\n",
              "       b\"@KatRamsland Yes I'm a bleeding heart liberal.\",\n",
              "       b\"If you're reading this go accidentally fall off a cliff mate\",\n",
              "       b'A [small] flood with big\\xc3\\xa5\\xc3\\x8aconsequences https://t.co/CVPdVHxd1R http://t.co/FDMXP4FcMo',\n",
              "       b'#tubestrike derailed you? Our #robertwelch cutlery offers will get you back on track http://t.co/bQ8Kyi7Gng http://t.co/GNZwxQktAm',\n",
              "       b'cPanel Crash Course http://t.co/bIRKbje23e #course http://t.co/buZWJmW49e',\n",
              "       b'Enugu Government to demolish illegal structures at International Conference Centre http://t.co/ouYLwuIXcs',\n",
              "       b'According to a 2011 Gallup poll the more money you have the more likely you are to suffer from time famine.? Ari\\xc2\\x89\\xc3\\x9b_ http://t.co/QdmVTJ4lZJ',\n",
              "       b'People are finally panicking about cable TV http://t.co/lCnW4EAD8v',\n",
              "       b'How a little studio in the middle of nowhere is becoming the epicentre of communication. http://t.co/iCRgseAGYA http://t.co/KpvYmHM2uB',\n",
              "       b'@david_hurn @ToKTeacher Why is there something in place to prevent skynet? Because perhaps there should be! http://t.co/73Umw2iGRZ',\n",
              "       b'Fire hazard associated with installation of non-compliant external cladding on high-rise buildings - Insurance - Aust http://t.co/wFsEaOBATo',\n",
              "       b\"What's up man?\",\n",
              "       b'RT alisonannyoung: EXCLUSIVE: FedEx no longer to transport research specimens of bioterror pathogens in wake of anthrax lab mishaps \\xc2\\x89\\xc3\\x9b_',\n",
              "       b\"Aannnnd - 'Reddit Will Now Quarantine Offensive Content' https://t.co/P1JluRGWBu\",\n",
              "       b'...//..// whao.. 12000 Nigerian refugees repatriated from Cameroon http://t.co/baE0Ap4G9Y',\n",
              "       b'All of this energy',\n",
              "       b'California School Bus Hijacker Parole Stands http://t.co/kPIVXGjNqt #sacramento',\n",
              "       b'The RCMP are reporting fatalities and serious injuries as a result of the collision on the TCH near Whitbourne.',\n",
              "       b'Aug. 5: The Fort Calhoun Nuclear Station is at 100% capacity today according to the NRC: http://t.co/pztbQImpuW',\n",
              "       b'the MOFO in DC will leave our military unarmed to be gunned down by terrorist &amp; a lot worseits not their sorry asses',\n",
              "       b'@NRO Except when ordered not to carry unauthorized weapons while on duty or in military uniforms. THATS THE RULE FOOL',\n",
              "       b\"@sarahmcpants @JustJon I'll give him a titty twister\",\n",
              "       b'Wildfire near Columbia River town is 50 percent contained http://t.co/gzGpWSqyMW #FireNews #WA http://t.co/ay49MTYyL8',\n",
              "       b'70 Years After Atomic Bombs Japan Still Struggles With War Past: The anniversary of the devastation wrought b... http://t.co/aG65u29SGo',\n",
              "       b'Sprinklers: FAQ About Lawn Inundation Systems Answered eBb',\n",
              "       b'The bomb was so appropriate ?? seen as my family and most Jamaicans love shout bullets !',\n",
              "       b'The Opposite of Love is Fear Here\\xc2\\x89\\xc3\\x9b\\xc2\\xaas Why\\nhttp://t.co/r5bXZzhXkm',\n",
              "       b'Last Chance Animal Rescue has 3 new posts. http://t.co/f1tcbg1MKi #animalrescue | https://t.co/Is2iDC3UBJ',\n",
              "       b\"@MythGriy they can't detonate unless they touch the ground\",\n",
              "       b'@Miss_HoMaStToPa cause were on fire we are on fire were on fire now.. Yeah were on fire we are on fire were on fire nowwwwww',\n",
              "       b'@CarsonRex @SpaceAngelSeven Check out this #rockin preview of @ClaytonBryant Danger Zone Coming soon! https://t.co/P0fiZxmN5r #ArtistsUnited',\n",
              "       b'#flood #disaster Bengal floods: CM Mamata Banerjee blames DVC BJP claims state failed to use ... - Economic T... http://t.co/BOZlwr716Z',\n",
              "       b\"Why put out a fire that's still burning?\",\n",
              "       b'Any new games coming soon @BreachGamingORG ?',\n",
              "       b'Cleveland Heights Shaker Heights fight blight: The House Next Door http://t.co/wYOKt0ftRw',\n",
              "       b'City of Calgary activates Municipal Emergency Plan - 660 NEWS http://t.co/KFBjVJiVQB http://t.co/BN7Xpzqdm0',\n",
              "       b'Governor Allows Parole for School Bus Hijacker http://t.co/liKWQhSHHX via @nbcnews I remember this crime sent chills through parents',\n",
              "       b'@MissJadeBrown tells of the tragic mid-morning collision which claimed the life of a young man riding a motorcycle. https://t.co/rPDA60Aoni',\n",
              "       b'Lightning strike in the distance via /r/pics http://t.co/iDmhSwewQw #pics http://t.co/wwxcOB52zI',\n",
              "       b\"@RockBottomRadFM As a kid I remember hearing rules about 30 to 90 days wo a defense and you're stripped. Brock obliterated that\",\n",
              "       b\"Following a catastrophic injury acute medical care takes precedent.  PTSD often follows in it's wake undetected... http://t.co/BZkqpl6R0a\",\n",
              "       b'@mwnhappy this message will self detonate in 5 4 3 2...',\n",
              "       b\"LIKE I SWEAR THE SECRET WE'LL UNCOVER IS THE OLD GODS IN A SLUMBER. I THINK THERES GONNA BE ANOTHER BLIGHT\",\n",
              "       b'Gets on battlefield 3 screams into Mic at cunts',\n",
              "       b'@NEPD_Loyko Texans hope you are wrong. Radio in Houston have him as starter after Foster injury',\n",
              "       b'this storm????',\n",
              "       b'Cyclone Komen devastates families in Myanmar this week. We need to help them today: http://t.co/fCujsIOyQO',\n",
              "       b'Worked at a fast food joint. Poured burnt hot oil down the sink. It hit the water in the trap and exploded.  @FallonTonight #WORSTSUMMERJOB',\n",
              "       b\"'The harder the conflict the more glorious the triumph.' Thomas Paine\",\n",
              "       b\"Ukraine argues for US weapons during Pelosi's visit to Kiev http://t.co/jnN0kRNXvY http://t.co/5LOiWuyv5r\",\n",
              "       b\"For those that were interested in the gun powder art discussed at the end of 'Introduction to Theological Aesthetic' http://t.co/BZ3iR4GMWj\",\n",
              "       b'Mourning notices for stabbing arson victims stir \\xc2\\x89\\xc3\\x9b\\xc3\\xb7politics of grief\\xc2\\x89\\xc3\\x9b\\xc2\\xaa in Israel: Posters for Shira Banki and A... http://t.co/3GZ5zQQTHe',\n",
              "       b'On anniversary of Hiroshima bombing illustrated timeline of bombings. Eyewitness account particularly horrifying http://t.co/GZIb0mAwmn',\n",
              "       b'4 equipment ego break upon dig your family internet hoke excepting versus a sinking term: dfLJEV',\n",
              "       b'@i_electroCute your turn ??',\n",
              "       b'@IcyMagistrate \\xc2\\x89\\xc3\\x9b\\xc3\\x93her upper arm\\xc2\\x89\\xc3\\x9b\\xc3\\x92 those /friggin/ icicle projectiles\\xc2\\x89\\xc3\\x9b\\xc3\\x92 and leg from various other wounds the girl looks like a miniature more\\xc2\\x89\\xc3\\x9b\\xc3\\x93',\n",
              "       b'Smoke the Weed - Snoop Lion Ft. Collie Buddz',\n",
              "       b'The things we fear most in organizations--fluctuations disturbances imbalances--are the primary sources of creativity. - Margaret Wheatley',\n",
              "       b'Malaysia confirms plane debris washed up on Reunion Island is from Flight MH370 http://t.co/YS3WALzvjg',\n",
              "       b'The possible new jerseys for the Avalanche next year. ???? http://t.co/nruzhR5XQu',\n",
              "       b'Smoke with me baby and lay with me baby and laugh with me baby I just want the simple things',\n",
              "       b\"Pakistan says army helicopter has crashed in country's restive northwest killing at least 8 http://t.co/QV1RMZI3J1\",\n",
              "       b'City of Calgary activates municipal emergency plan as more thunderstorms approach http://t.co/8iHucO4GLW',\n",
              "       b'@RickyBonesSXM fuck u2 specially there new Shit. First they hijack itunes now all sirius chan. fuck off already haha just sayin',\n",
              "       b\"i'm sorry i'm so wild in 1d shows like in my wwa show niall started singing steal my girl I literally screamed shut the fuck up\",\n",
              "       b'Pandemonium In Aba As Woman Delivers Baby Without Face (Photos) - http://t.co/c5u9qsySeJ',\n",
              "       b\"@LongBreastYat Yeah I don't think he's elite either I think Hazard is the better player too. But not by much\",\n",
              "       b'Militants attack police post in Udhampur; 2 SPOs injured | LiveMint http://t.co/Rptouz2iJs | http://t.co/69mLhfefhr #AllTheNews',\n",
              "       b'driving the avalanche after having my car for a week is like driving a tank',\n",
              "       b'Hello natural hazards/disaster recovery &amp; emergency management ppl can u recommend good hashtags to follow OR send me links of good reads?',\n",
              "       b'Top insurer blasts lack of Australian Govt action on disaster mitigation http://t.co/sDgOUtWNtb via @smh',\n",
              "       b'Death certificates safes weapons and Teslas: DEF CON 23 #Security http://t.co/KMDQm3NlnS',\n",
              "       b'Updated to Windows 10 now I get this error http://t.co/kHSBZKfd6O',\n",
              "       b'@aelinrhee a group of mascara smeared girls rioting will be horrific I think',\n",
              "       b'A new favorite: Trivium - Detonation by @rrusa https://t.co/cubdNsNuvt on #SoundCloud',\n",
              "       b'Detonation into the realistic assets entering india: koZ http://t.co/9ZRQMd8nGZ',\n",
              "       b'Japan on Thursday marks the 70th anniversary of the atomic bombing of Hiroshima with the most senior official from Washington ever schedule\\xc2\\x89\\xc3\\x9b_',\n",
              "       b\"A protest rally at Stone Mountain? Atleast they're not burning down buildings and looting store like some individuals do when they 'protest'\",\n",
              "       b'Egyptian Militants Tied to ISIS Threaten to Kill Croatian Hostage (New York Times) http://t.co/GTXndnJRrl (1717 GMT)',\n",
              "       b'#pakistan#news# PAKPATTAN City News: Man electrocuted From Our Correspondent PAKPATTAN: A man was electrocuted... http://t.co/frpbNhVPyI',\n",
              "       b'Danger of union bears http://t.co/lhdcpNZx6A',\n",
              "       b'Bayelsa poll: Tension in Bayelsa as Patience Jonathan plans to hijack APC PDP: Plans by former First Lady and... http://t.co/86RSYy2tng',\n",
              "       b'@AWickedAssassin want to burst into flames! *Anna hugged him tightly*',\n",
              "       b'I should probably stay away from hot glue guns.. I burned one finger pretty bad',\n",
              "       b'$1 million bail for man accused of #shooting at Fife #police - Aug 5 @ 8:16 PM ET http://t.co/hu5CXqnoBf',\n",
              "       b'Flood: Two people dead 60 houses destroyed in Kaduna: Two people have been reportedly killed and 60 houses ut... http://t.co/JixScpMdUD',\n",
              "       b'@adorableappple No reported flooding po in the area. Ten-4. #mmda',\n",
              "       b\"You've 100% fucked up when Paul says your cake looks like a 'mudslide' and tastes like 'rubber'\",\n",
              "       b'@Blazing_Ben @PattyDs50 @gwfrazee @JoshuaAssaraf Not really. Sadly I have come to expect that from Obama.',\n",
              "       b'Well so much for outdoor postering @calgaryfringe #mothernature #hailstorm #rain #yycfringe #KILLHARD',\n",
              "       b'@tyleroakley IM SCREAMING',\n",
              "       b'MY GIRL GOT A GIRLFRIEND CHEVY BLUE LIKE WHIRLWIND.',\n",
              "       b'@Collapsed thank u',\n",
              "       b'Rainstorm Destroys 600 Houses in Yobe State http://t.co/nU0D3uANNZ',\n",
              "       b\"Ginga thinks he can defeat me? Not with my L-Drago Destroy he can't!\",\n",
              "       b\"'Er indoors will be devastated. RIP Arfur. #GeorgeCole\",\n",
              "       b'Pakistan Supreme Court OKs Military Courts to Try Civilians: The Supreme Court ruling would empower the milita... http://t.co/v0nf1Uc1OW',\n",
              "       b'What a goooooooaaaaaal!!!!!!',\n",
              "       b'@XHNews We need these plants in the pacific during the cyclone seasons it would help',\n",
              "       b'IS THE UPDATE RLY LIFE NOW IS IT IS It/Screams \\nvibrates i cant handle',\n",
              "       b'A new favorite: Desolate 2 by r3do https://t.co/HDv3ZirBCi on #SoundCloud',\n",
              "       b\"The Prophet (peace be upon him) said 'Save yourself from Hellfire even if it is by giving half a date in charity.'\",\n",
              "       b'Maxsys is hiring a #Demolition #Workers apply now! #Halifax #jobs http://t.co/QTIZcBWw7G',\n",
              "       b'@RaidersReporter @957thegame together we can destroy the Emperor and rule the galaxy Father and Son!',\n",
              "       b'Motors Hot Deals #452 &gt;&gt; http://t.co/ED32PBviO7 10x 27W 12V 24V LED Work Light FLOOD Lamp Tractor Truck SUV UTV A\\xc2\\x89\\xc3\\x9b_ http://t.co/IfM6v6480P',\n",
              "       b'Transportation panel showing a video of a pileup of 18-wheelers in a snowstorm in WY. Crash crash crash \\xc2\\x89\\xc3\\x9b\\xc3\\x8fMake it stop!\\xc2\\x89\\xc3\\x9b\\xc2\\x9d #AMSsummer',\n",
              "       b'Christian Attacked by Muslims at the Temple Mount after Waving Israeli Flag via Pamela Geller - ... http://t.co/e4YDbM4Dx6',\n",
              "       b'@ThatWitchEm @EmmaChosenOne @JessieNovoaRP @Jessie_Novoa_ @Liana_Novoa why you screamed',\n",
              "       b'It may seem like our fire has been a little burnt out....',\n",
              "       b'Womem Crush Wednesday ?????????????????? @mommyisbomb',\n",
              "       b'Because you watched: Honey I Blew up the Economy\\n\\nWe Recommend : The Conservative Shoppe of Horrors\\n\\n#HarperANetflixShow #elxn42 #stopharper',\n",
              "       b'Something Catastrophic Is Coming: Should We Tune Out? http://t.co/a8jZ5A26wi',\n",
              "       b\"Ever since Kelly's burned I keep having dreams about being inside burning buildings ??\",\n",
              "       b'The shooting or the airplane accident  https://t.co/iECc1JDOub',\n",
              "       b'We happily support mydrought  a project bringing awareness to the LA drought. Track your water\\xc2\\x89\\xc3\\x9b_ https://t.co/2ZvhX41I9v',\n",
              "       b'A blizzard would be clutch asf ??',\n",
              "       b\"'Nuclear reactor is like a woman. You just have to read the manual and press the right button.'\",\n",
              "       b\"VIDEO: 'We're picking up bodies from water': Rescuers are searching for hundreds of migrants in the Mediterran... http://t.co/yvO6q6W442\",\n",
              "       b'News: FedEx no longer to transport bioterror germs in wake of anthrax lab mishaps http://t.co/xteZGjfs8A',\n",
              "       b'@chojo everyone hail to the pumpkin king!!!!',\n",
              "       b'Twitter is just here to destroy your childhood',\n",
              "       b'Physical sense helps preserve memories of 2011 triple disaster (8/4 AJW) http://t.co/X5jGKjV6Ma #jishin_e #nuclear #Minamisoma',\n",
              "       b\"I just watched emmerdale nd I don't know who most of them are but a slightly attractive man named Ross just got beat up nd now he's dead\",\n",
              "       b'#TweetLikeItsSeptember11th2001 Those two buildings are on fire',\n",
              "       b'Happy boy to mass murderer http://t.co/xPddWH5teM',\n",
              "       b'I slammed my phone to the ground and then screamed ahahahga',\n",
              "       b'http://t.co/eHKLp12yiP Paci?c Media Centre | articles: AUSTRALIA: RSF protests over new security gag over reporting on...',\n",
              "       b'@TheNissonian @RejectdCartoons nissan are you ok do you need medical assistance i can call an ambulance if you need me to',\n",
              "       b'GNS sees unnecessary deaths resulting from earthquake strengthening legislation http://t.co/4rYZMzSgDW ($)',\n",
              "       b'@SnowyWolf5 @TheGreenParty Besides would you rather shut down a whole nuclear reactor for maintenance or a wind turbine at a time?',\n",
              "       b\"There has not been 1 real tear out of #Shelli 's eyes this entire episode. #bb17\",\n",
              "       b'Government under pressure to abandon plans to construct UK\\xc2\\x89\\xc3\\x9b\\xc2\\xaas first nuclear reactor for more than 20 year     http://t.co/E9d9Lk5Fdw',\n",
              "       b\"Imagine a school where suicide bombing Is being taught the teachers would say to the students...\\n\\n'Please pay... http://t.co/zfiVVxYDZY\",\n",
              "       b'So these savages leaked Thomas Brady gangstermail account and wonder why he was quick to fatality his Samsung mobile? B real son.',\n",
              "       b'Some people are really natural disaster too',\n",
              "       b'He is justifying why this quarrel would one day end in d obliteration of what remains as the state of Pakistan. https://t.co/z8Ij8KTkyk',\n",
              "       b'Which is true to an extent. The obliteration of white privilege would reduce unfair favoritism.',\n",
              "       b'#Kurds trampling on Turkmen flag later set it ablaze while others vandalized offices of Turkmen Front in #Diyala http://t.co/4IzFdYC3cg',\n",
              "       b'India shud not give any evidence 2 pak.They will share with terrorists &amp; use for next attack.Share with oth contries https://t.co/qioPbTIUVu',\n",
              "       b'Truth...\\nhttps://t.co/k44tL3rfMy\\n#News\\n#BBC\\n#CNN\\n#Islam\\n#Truth\\n#god\\n#ISIS\\n#terrorism\\n#Quran\\n#Lies http://t.co/ipT0hoNoTI',\n",
              "       b\"'I did another one I did another one. You still ain't done shit about the other one.' Nigga body bagging Meek.\",\n",
              "       b'Meek Mill Begging Nicki Minaj To Let Him Obliterate... #ovofest #nowplaying http://t.co/XOmI4ZQzgp http://t.co/0m1TW3DaTd',\n",
              "       b'@eileenmfl are you serious?',\n",
              "       b\"Slightly doesn't help that he has Suh and Wake in practice. But think he will get there. A lot of weapons! #FinsUp \\nhttp://t.co/i1EeUxxZ3A\",\n",
              "       b\"Retweeted Sarah Silverman (@SarahKSilverman):\\n\\nSoundtrack of my walk starts w Tracey Ullman They Don't Know.  perfect\",\n",
              "       b'#Bestnaijamade: 16yr old PKK suicide bomber who detonated bomb in ... http://t.co/KSAwlYuX02 bestnaijamade bestnaijamade bestnaijamade be\\xc2\\x89\\xc3\\x9b_',\n",
              "       b'Inciweb OR Update:  Rogue River-Siskiyou National Forest Fires  8/5/15 12:00 PM (Rogue River-Siskiyou NF Area\\xc2\\x89\\xc3\\x9b_ http://t.co/LkwxU8QV7n',\n",
              "       b'#aerospace #exec Plane debris is from missing MH370 - Part of the aircraft wing found on Reunion Island is from th... http://t.co/S2wm8lh7oO',\n",
              "       b'AUTH LOUIS VUITTON BROWN SAUMUR 35 CROSS BODY SHOULDER BAG MONOGRAM 7.23 419-3 - Full read\\xc2\\x89\\xc3\\x9b_ http://t.co/HCDiwE5flc http://t.co/zLvEbEoavG',\n",
              "       b\"The Prophet (peace be upon him) said 'Save yourself from Hellfire even if it is by giving half a date in charity.'\",\n",
              "       b\"In @edfringe? We highly recommend @M00NF00L #Titania @Summerhallery A whirlwind reimagining /Shakespeare's Midsummer https://t.co/iIAIGZkbnJ\",\n",
              "       b'Check out this amazing footage of lightning filmed while lifting off from Chicago... http://t.co/AOg5chjmVs http://t.co/cLN2SXzY1Z',\n",
              "       b'Hiroshima and Nagasaki I remember all those killed in alleged US war crimes using nuclear weapons https://t.co/NDxrK2NCLN #USWarCrimes',\n",
              "       b'#NoChillLukeHammings\\nIM SCREAMING',\n",
              "       b'Today\\xc2\\x89\\xc3\\x9b\\xc2\\xaas storm will pass; let tomorrow\\xc2\\x89\\xc3\\x9b\\xc2\\xaas light greet you with a kiss. Bask in this loving warmth; let your soul return to bliss.',\n",
              "       b'Nazi Mass Murderer Became Chairman At Vaccine Drug Company In... http://t.co/x713OMh6Ai',\n",
              "       b'\\xc2\\x89\\xc3\\x9b\\xc3\\x8f@dylanmcclure55: Working at zumiez is the http://t.co/zW5jp46v5k\\xc2\\x89\\xc3\\x9b\\xc2\\x9d which location??',\n",
              "       b'IS claims suicide bombing against Saudi police: RIYADH (AFP) - An Islamic State group suicide bomber on Thursd... http://t.co/IBypE1kaz5',\n",
              "       b'70 years ago the first atomic attack flattened #Hiroshima 3 days later it was #Nagasaki both war crimes to put Moscow in its place',\n",
              "       b'Every time I feel a new pain or strain in my body I panic because I need it for my career ??',\n",
              "       b'Aftershock https://t.co/jV8ppKhJY7',\n",
              "       b'Ignition Knock (Detonation) Sensor-KNOCK SENSOR Delphi AS10004 http://t.co/LMrKgPOrcF http://t.co/6WAdNmsTOv',\n",
              "       b'Morganite Gemstone White Fire Opal 925 Sterling Silver Ring Size 6 R1354 http://t.co/hHpVSAtQXN http://t.co/D12r8XpShy',\n",
              "       b'Fairfax investigating firefighter over Facebook post saying police should be put in \\xc2\\x89\\xc3\\x9b\\xc3\\xb7body bags\\xc2\\x89\\xc3\\x9b\\xc2\\xaa - The Washington Post http://t.co/jAxHzjCCd4',\n",
              "       b'US Energy Department Offers $40Mln for New Nuclear Reactor Designs / Sputnik International http://t.co/0DxVZ7fDh3',\n",
              "       b\"'Cause you play me like a symphony play me till your fingers bleed. I'm your greatest masterpiece. You ruin me??\",\n",
              "       b'Tomorrow kick off your weekend with drinks &amp; entertainment @AliveAfter5 http://t.co/sC4TWJkxr1 http://t.co/yN6DuOtimr',\n",
              "       b'@randerson62 Watching news of wild fires and hope all is ok.',\n",
              "       b'Plains All American Pipeline company may have spilled 40% more crude oil than previously estimated #KSBYNews @lilitan http://t.co/PegibIqk2w',\n",
              "       b'@DorisMatsui thank you for supporting the President. The #IranDeal takes nuclear weapons out of the hands of Iran and keeps everyone safer.',\n",
              "       b\"If this ATL to San Fran flight goes down in a  desolate square state it's been real Twitter.\",\n",
              "       b\"@eunice_njoki aiii she needs to chill and answer calmly its not like she's being attacked\",\n",
              "       b\"'I'm there!' Bride &amp; Groom on mountain cliff edge. Ha Ha just kidding. I WILL NOT EVER be there. Ha Ha - http://t.co/Io9ry1akON\",\n",
              "       b\"When the waves are flooding the shore\\nAnd I can't find my way home anymore\\nThat's when I look at you http://t.co/TDAKtGlU5p\",\n",
              "       b'I was taught at school in the 1970s that piracy slavery and suicide-bombing were purely historical. No one then expected them to re-occur',\n",
              "       b'Reddit Will Now Quarantine Offensive Content http://t.co/LTmgdP6Jaf',\n",
              "       b'Lizard Wizard in a Blizzard #LWB http://t.co/MgR809yc5a',\n",
              "       b'Kendall Jenner and Nick Jonas Are Dating and the World Might Quite Literally Explode http://t.co/pfvzVPxQGr',\n",
              "       b\"@noahshack he's hot &amp; he can sing I'm screaming??????\",\n",
              "       b'The Latest: More Homes Razed by Northern California Wildfire - ABC News http://t.co/x1xj0XVTj7',\n",
              "       b'@Jolly_Jinu you said they are terrorist because of #Babri so was it ok? If you demolish my house todayhave i right to take revenge?',\n",
              "       b'@FAIRx818x @PlayOverwatch @BlizzardCS please blizzard we love you',\n",
              "       b'Washington Post - 4 dead dozens injured in Gaza blast near house leveled in summer war http://t.co/VjXa13n8Ap',\n",
              "       b\"I liked a @YouTube video http://t.co/5fR41TPzte Thorin's Thoughts - Riot and Sandbox Mode (LoL)\",\n",
              "       b'@sholt87 @MtGrotto @Eco11C @carlsbadbugkil1 Saved us?Bush lowered tax rate for wealthy n economy collapsed w/Middle Class 401ks destroyed.',\n",
              "       b'Drones Under Fire: Officials Offer $75000 Reward Leading To Pilots Who Flew Over Wildfire http://t.co/d2vEppeh8S #photography #arts',\n",
              "       b'Brunette teen Giselle Locke teases at home http://t.co/qew4c5M1xd View and download video',\n",
              "       b\"When you're 5 hours late for curfew and have to pray your dog doesn't bark when unlocking the door\",\n",
              "       b'Oh and fuck Bill Clinton for bombing us and fuck NATO.',\n",
              "       b'I liked a @YouTube video from @dannyonpc http://t.co/AD38KWoGlh Battlefield Hardline - 11 NEW WEAPONS - New map - Throwingknifes!',\n",
              "       b'Aquarium Ornament Wreck Sailing Boat Sunk Ship Destroyer Fish Tank Cave Decor - Full read \\xc2\\x89\\xc3\\x9b_ http://t.co/nosA8JJjiN http://t.co/WUKvdavUJu',\n",
              "       b\"It's 'Run From Sirens' by 'Half Hour Hotel' @halfhourhotel @Edgarsgift. 'Premium Promotion' OFFER http://t.co/zRN30A78ir\",\n",
              "       b'#Flashflood causes #landslide in Gilgit #Pakistan Damage to 20 homes farmland roads and bridges #365disasters  http://t.co/911F3IXRH0',\n",
              "       b'@Jake_ADavis @FaTality_US we are cuddling right now so.. ??',\n",
              "       b'@Stretcher @witter @Rexyy @Towel show me a picture of it',\n",
              "       b'The Latest: More homes razed by Northern California wildfire - http://t.co/IrqUjaEsck http://t.co/qDwEknRMi9',\n",
              "       b\"#Seattle's deadliest red light runner intersections revealed\\n http://t.co/gHk9Xup6E0\",\n",
              "       b\"Pakistan's Supreme Court rules to allow military trials for suspects in terrorism cases http://t.co/ajpbdCalew\",\n",
              "       b'Colorado movie massacre trial jurors reach verdict on mitigating factors http://t.co/75VLsw85GI http://t.co/txY3US2Ejs',\n",
              "       b'anxiety attack ??',\n",
              "       b'She screamed when she got the microchip needle. Tbh I would have cried too the needle was massive ya haram',\n",
              "       b'Reasons I should have gone to Warped today: tony played issues showed up sleeping w sirens played attila is there issues issues issues',\n",
              "       b'So the Ahamedis think the Messiah had already come 125 years ago? Where is Armageddon? Where is the Dajaal? Where is Gog &amp; Magog?!',\n",
              "       b\"Families to sue over Legionnaires: More than 40 families affected by the fatal outbreak of Legionnaires' disea... http://t.co/ZA4AXFJSVB\",\n",
              "       b'Pic of 16yr old PKK suicide bomber who detonated bomb in Turkey Army trench released http://t.co/aaWZXykLES http://t.co/RsMvgDxRiv',\n",
              "       b\"@lovemywife1983 @FoxNews like shedid on 9/11 4the public facts I am not a journalist the Bush's washard on stopping more than just terrorist\",\n",
              "       b\"DRob collided into Dan Hughes while she was going after the ball. Looks like he hurt his back as he fell back on the chair. Hope he's ok!\",\n",
              "       b'@PyramidHead76 one good thing came out of watching the film.  Was too traumatised to watch show so started Halt &amp; Catch Fire on Amazon. :D',\n",
              "       b\"@AndyGilder Channel 5 have been doing the same for the RSPCA with Dog Rescuers.....'The Infomercial' has crept in the back door.\",\n",
              "       b'My last two weather pics from the storm on August 2nd. People packed up real fast after the temp dropped and winds picked up.',\n",
              "       b'Three beached whales rescued in Kerry - http://t.co/rQbsPUCjDF',\n",
              "       b'#golf McIlroy fuels PGA speculation after video: Injured world number one Rory McIlroy fueled speculatio... http://t.co/dCyYJVmXHR #news',\n",
              "       b'Whirlwind Head Scissor on @alexhammerstone @kttape ktfounder #RemyMarcel #FroFroFro\\xc2\\x89\\xc3\\x9b_ https://t.co/B19z8Vi3td',\n",
              "       b'Steve Buscemi was a firefightr B4 fame &amp; workd 12hr shifts diggin thru WTC rubble lookg 4 survivors. http://t.co/L9fJpNSZuO',\n",
              "       b\"@Kamunt Holy crap it's been forever since I saw this movie but the nostalgia wave just hit me like a tsunami! Thank youuu!\",\n",
              "       b'The Cafe Run by Acid Attack Survivors in #India http://t.co/qmiF0bLwOa http://t.co/l6PIf3LpEn',\n",
              "       b\"'You can only be rescued from where you actually are and not from where you pretend you are.' Giorgio Hiatt\",\n",
              "       b\"Today is the day Hiroshima got Atomic bomb 70 years ago.  - The 'sanitised narrative' of Hiroshima's atomic bombing http://t.co/GKpANz7vg0\",\n",
              "       b'#Sismo ML 2.4  NEAR THE COAST OF WESTERN TURKEY: Magnitude\\xc3\\xa5\\xc3\\x8a\\xc3\\xa5\\xc3\\x8aML 2.4Region\\xc3\\xa5\\xc3\\x8a\\xc3\\xa5\\xc3\\x8aNEAR THE COAST OF WESTERN TURKEY... http://t.co/0wdAzLcM90 #CS',\n",
              "       b'@POTUS Would you please explain what you are going to do about the volcanoes &amp; bush fires spouting all that CO2 into the air?',\n",
              "       b'@Dr_Baseball41 @GrantTamane8 @DrewWTaylor @Dtop77   On the Christie Hillside: Game 4: Pandemonium at the Pits. http://t.co/Lq4lXGS2xU',\n",
              "       b'Stockton police are investigating a fatal drive-by shooting in north Stockton\\n http://t.co/j3x0DOY7R3',\n",
              "       b'#ThingsIhate \\nWatching someone you care about head into total destruction and not being able to do anything.',\n",
              "       b'@DetroitPls interested to see who will win this battle',\n",
              "       b'DK Eyewitness Travel Guide: Denmark: travel guide eBay auctions you should keep an eye on: http://t.co/xpwkodpqtO',\n",
              "       b\"I can't believe Blevins got injured falling off a curb. That's something that would happen to me never it expected for a pro player\",\n",
              "       b'But if you build an army of 100 dogs and their leader is a lion all dogs will fight like a lion.',\n",
              "       b'Listen to this hit song. A summer Bomb full of positive energy and youth\\nDid you like it?\\nhttps://t.co/2LiWkJybE9 \\n#Norge2040',\n",
              "       b'Los Angeles Times: Arson suspect linked to 30 fires caught in Northern ... - http://t.co/xwMs1AWW8m #NewsInTweets http://t.co/TE2YeRugsi',\n",
              "       b'#?x?: :and to counter acts such as the burning of the Alexandrian library.',\n",
              "       b'@danisnotonfire if you follow me I will go into town and advertise your youtube channel by screaming and walking around with a sign. Pls??',\n",
              "       b'#Flood in Bago Myanmar #We arrived Bago',\n",
              "       b'Me trying to look cute wen crush is passing by ... http://t.co/Z87zMi3Ozs',\n",
              "       b'2 hostages in Libya remain unharmed: Government sources on Wednesday denied reports that two Indian nationals who\\xc2\\x89\\xc3\\x9b_ http://t.co/EX4FnJjL6H',\n",
              "       b\"When I was cooking earlier I got electrocuted some crucial ?????? now I'm psychic lol\",\n",
              "       b'connor franta: damn sirens I hope everyone is okay. \\n\\ndan howell: can you PLEASE get MURDERED on ANOTHER STREET',\n",
              "       b\"Drunk Meals 101: What To Cook When You're Totally Obliterated http://t.co/Wj0U59mPpB\",\n",
              "       b'Schools in Western Uganda still Burning down Buildings during Strikes....Strikes in Western Uganda always Lit literally..',\n",
              "       b\"NTSB: Virgin Galactic's SpaceshipTwo crash due to structural failure when braking system unlocked early http://t.co/EYSbLYX6L6 via @KPCC @AP\",\n",
              "       b'I got electrocuted this morning how is your day going? ??',\n",
              "       b\".@jimmyfallon I crushed squirrel bones with a mortar and pestle for my school's bio dept. not really sure why #WorstSummerJob\",\n",
              "       b\"#TheaterShooting DEFENDANT/MASS MURDERER CHOSE NOT 2 TESTIFY IN FINAL PHASE 3 so he won't therefore B subject 2 cross-exam or jury questions\",\n",
              "       b'Police walk up on me I be blowin smoke in dey face  wanna lock me up cus I got dope shit is gay',\n",
              "       b'Floods cause damage and death across Asia | All media content | http://t.co/a2myUTpDiQ | 05.08.2015 http://t.co/XrSkT0s9lz',\n",
              "       b'#Sismo DETECTADO #Jap\\xc3\\x8c_n 06:32:43 Miyagi Estimated seismic intensity 0 JST #??',\n",
              "       b'I hope it rains throughout the whole weekend I hope it floods and the portaloos become sentient.',\n",
              "       b'@SZMNextDoor I got this cute lil cliff you can fall off of??',\n",
              "       b'World Class Tgirl Ass 02 - Scene 4 - Pandemonium http://t.co/HzHoa6VZAS',\n",
              "       b'Omg earthquake',\n",
              "       b'Beautiful disaster // Jon McLaughlin is such a good song',\n",
              "       b\"I should have known better than to think I'd get anything done after a 2 hour capoeira class. Stretcher-bearer!\",\n",
              "       b'29% of #oil and #gas organizations have no real-time insight on #cyber threats. See how #EY can help http://t.co/qamgvQAFzc',\n",
              "       b\"We're #hiring in our Toronto branch! Surety Underwriter/Senior Underwriter and Casualty Product Leader. Apply today. http://t.co/PraMKlrMhz\",\n",
              "       b\"/ it's fine baby I was screaming at the TV x https://t.co/JwDfPYG3NT\",\n",
              "       b'@TinyJecht Are you another Stand-user? If you are I will have to detonate you with my Killer Queen.',\n",
              "       b\"kabwandi_: Breaking news! Unconfirmed! I just heard a loud bang nearby. in what appears to be a blast of wind from my neighbour's ass.\",\n",
              "       b'@capicapricapri @Brento_Bento wha t is this kids damage',\n",
              "       b'Alleged East Bay serial arsonist arrested http://t.co/WR48AQTUm7',\n",
              "       b\"An outbreak of Legionnaires' disease in New York has killed at least 8 people @BI_Video http://t.co/eRJ7YANjXm http://t.co/vbRPeuJANL\",\n",
              "       b'My #mantra this morning!! Heading out to Make a whirlwind trip down south\\xc2\\x89\\xc3\\x9b_ https://t.co/geht4sKI86',\n",
              "       b'Petition | Heartless owner that whipped horse until it collapsed is told he can KEEP his animal! Act Now! http://t.co/nJRjxqBjr4',\n",
              "       b\"#NowPlaying the playlist 'When Jazz and Hip-Hop Collide' in @TIDALHiFi http://t.co/mzQq5PAi8G\",\n",
              "       b'The Ashes Test match is currently more interesting than stupid Congress rioting...',\n",
              "       b'Maaaaan I love Love Without Tragedy by @rihanna I wish she made the whole song',\n",
              "       b'~ More wicked weather rolls through Calgary and surrounding areas http://t.co/SxwJyR3K3l http://t.co/aEWGlVqReH',\n",
              "       b'RNK issues Severe Thunderstorm Warning [wind: 60 MPH hail: 1.00 IN] for Rockingham Stokes [NC] till Aug 5 10:00 PM EDT  \\xc2\\x89\\xc3\\x9b_',\n",
              "       b'Slowly sinking wasting ?? @edsheeran',\n",
              "       b'my school just put the evacuation alarms on accidently with 2 different trial exams happening are you kidding me',\n",
              "       b'So @LawsonOfficial just followed me and I cannot contain my screams of joy! #Thankyou! ??????????',\n",
              "       b'A Marshall Plan for the United States by Dambisa Moyo via @ProSyn #oped http://t.co/l5g2zJ3kgG via @po_st',\n",
              "       b'Hollywood movie about trapped miners released in #Chile http://t.co/r18aUtnLSd #ZippedNews http://t.co/CNqaE9foj6',\n",
              "       b'New Ladies Shoulder Tote Handbag Faux Leather Hobo Purse Cross Body Bag Womens - Full read\\xc2\\x89\\xc3\\x9b_ http://t.co/4FXfllRIen http://t.co/i12NLSr8Fk',\n",
              "       b\"Just had a heart attack because I thought my goat was dead. ???? don't worry Rocket is okay. ??\",\n",
              "       b\"Messi: has tattoos so he can't donate blood\\nRonaldo: runs into burning buildings to save dogs #respect\",\n",
              "       b'@BradleyBrad47 yeah but being fast and doing extremely high damage is what its all about if you want fast then im gonna have to get u the-',\n",
              "       b\"Bank manager asks Tom in an interview: 'What is cyclone'\\nTom: 'It is the loan given to purchase a bicycle'\",\n",
              "       b'150-Foot Sinkhole Opens In Lowndes County Residential Area http://t.co/cBAxCuBA0h',\n",
              "       b'@PTSD_Chat Yes. I feel the root of that is Shame - which can be found in the rubble of most trauma. #PTSDchat',\n",
              "       b'Beastin Tapas this evening with some good folk! #funtimes #demolished http://t.co/JxUEPkmkRh',\n",
              "       b'Man Cam just demolished his plate. His ass was hungry',\n",
              "       b'Morgan Silver Dollar 1921 P CH Gem Bu PL Blazing MS++++++ Satin Rare Proof Like! - Full re\\xc2\\x89\\xc3\\x9b_ http://t.co/99MbyFl3Id http://t.co/4ddMTguZzS',\n",
              "       b'Sitting in a cafe enjoying a bite and cramming for my meeting during my whirlwind 14-hours in NYC! https://t.co/TO0BPiEymS',\n",
              "       b\"I liked a @YouTube video http://t.co/N95IGskd3p Minecraft: Episode 2 'Blaze Farm Beginnings!'\",\n",
              "       b\"NASAHurricane? EASTERN PACIFIC *Full Update* Satellite Sees Formation of Eastern Pacific's Tropical Storm Hilda\\nTh\\xc2\\x89\\xc3\\x9b_ http://t.co/KsXTo8NKNl\",\n",
              "       b'The cryptic words that guided pilots on the Hiroshima bombing mission http://t.co/nSS5L64cvR #canada',\n",
              "       b'I remember when I worked at Mcdonalds I use to be hours late because we used military time and I use to mess up when I had to be there :/',\n",
              "       b'@UtahCanary sigh daily battle.',\n",
              "       b'Two cranes restoring a bridge in the central Dutch town of Alphen aan den Rijn collapse on to buildings with rescuers searching for',\n",
              "       b'The thing with rules is break it once it becomes easier the next time.\\nhttp://t.co/hGb1mc3IRk  https://t.co/6ysXGhc8gz',\n",
              "       b\"ColnHarun: Breaking news! Unconfirmed! I just heard a loud bang nearby. in what appears to be a blast of wind from my neighbour's ass.\",\n",
              "       b'How to Survive in the Markets http://t.co/LnzI7o166Y #oil #investing #money #trading #forex #gold #silver #business http://t.co/TmpFWjPI6I',\n",
              "       b'PennLive - Two families displaced by Mechanicsburg blaze - No one was injured in the fire. http://t.co/OHYD7Hhcpe',\n",
              "       b'Crawling in my skin\\nThese wounds they will not hea',\n",
              "       b'My asshole is on fire  https://t.co/Y3FO0gHg8t',\n",
              "       b'Sinjar Massacre Yazidis Blast Lack of Action Over\\xc3\\xa5\\xc3\\x8aHostages http://t.co/Carvv6gsRb http://t.co/lAn76ZqKxG',\n",
              "       b'Britons rescued amid Himalaya floods (http://t.co/WGRXLy9pDO) http://t.co/BJ4hAAVAYE http://t.co/59p3AoIQUS',\n",
              "       b\"Suicide bomber 'hits Saudi mosque' http://t.co/kE6DjxAnmm\",\n",
              "       b'How to Freeze Fruits and Veggies\\nhttp://t.co/MET0mtpr3S',\n",
              "       b'Skinny Jeans are Hazardous for Your Health! #socialnews http://t.co/pAQanenCeS',\n",
              "       b'#WeLoveLA #NHLDucks Avalanche Defense: How They Match vs St. Louis Blues http://t.co/9v1RVCOMH2 #SportsRoadhouse',\n",
              "       b'Ppl like unu feast today and famine tomorrow',\n",
              "       b'Watch This Airport Get Swallowed Up By A Sandstorm In Under A Minute http://t.co/Rm50vCVjsh',\n",
              "       b'Apply now to work for Dignity Health as #RN #Emergency Services Full Time 7a-7:30p Siena Campus in #Henderson #jobs http://t.co/FDiU44jLDJ',\n",
              "       b\"@JohnsonTionne except idk them?? it's really burning ??????\",\n",
              "       b'One thing you can be sure of. There will never be bush fires in Scotland as the ground is always soaking wet????',\n",
              "       b'Car engulfed in flames backs up traffic at Parley\\xc2\\x89\\xc3\\x9b\\xc2\\xaas Summit http://t.co/RmucfjCaZr',\n",
              "       b'Domain other sophistication be annihilated closely up-to-the-minute feat: ZrNf',\n",
              "       b'@Im2aD I was going to tell him but you were body bagging him',\n",
              "       b'Had an awesome time gettin wrecked at bowling last night! http://t.co/Da9lZtOn1c',\n",
              "       b'SCREAMS. WHERE IS EVERYONE.\\n\\noh wait school\\n\\nok\\n\\nim ok',\n",
              "       b'#volleyball Attack II Volleyball Training Machine - Sets Simulation - http://t.co/dCDeCFv934 http://t.co/dWBC1dUvdk',\n",
              "       b\"@FiendNikki 'Deluge' is such an awesome word. No idea why I like it so much\",\n",
              "       b'Environment Canada confirms 2nd tornado touched down last weekend \\xc3\\xa5\\xc3\\x88 http://t.co/x8zqbwNfO1',\n",
              "       b'#hot  C-130 specially modified to land in a stadium and rescue hostages in Iran in 1980 http://t.co/zLco4UE5OQ #prebreak #best',\n",
              "       b'Another Mac vuln!\\n\\nhttps://t.co/OxXRnaB8Un',\n",
              "       b'@thebriankrause leos ass just got metaphorically blown up again #PiperWearsThePants #charmed',\n",
              "       b'The Catastrophic Effects of Hiroshima and Nagasaki Atomic Bombings Still Being Felt Today http://t.co/tGcR5voFJ3',\n",
              "       b'One Direction Is my pick for http://t.co/q2eBlOKeVE Fan Army #Directioners http://t.co/eNCmhz6y34 x1411',\n",
              "       b'Reddit Will Now Quarantine Offensive Content http://t.co/8S0mTwRumQ #Technology #technews #puledo_tech_update',\n",
              "       b\"@BLutz10 People aren't rioting because justice has been served and that murderer is behind bars. Simple! No justice=no peace Justice=peace.\",\n",
              "       b'The Latest: More homes razed by Northern California wildfire - http://t.co/5FcJVMl520 http://t.co/fvYRWhux8p',\n",
              "       b'CANADA BC DROUGHT: Okanagan region issued Level 4 rating - Okanagan River (Columbia trib) fishing suspended to Sep 30 http://t.co/r4yZHxk7lw',\n",
              "       b'Gotta try to let go of so many bloody things. Smh',\n",
              "       b\"Wreckage 'Conclusively Confirmed' as From MH370: Malaysia PM: Investigators and the families of those who were... http://t.co/2Jr3Yo55dr\",\n",
              "       b\"Nothing to fear. It's all about taking risks.\",\n",
              "       b\"@CTAZtrophe31 Everything must be OK because she's listening to 'Sandstorm' now...\",\n",
              "       b'//screams in the distance// http://t.co/Cfe9HUQN0h',\n",
              "       b\"@RVacchianoNYDN The only surprise is that they aren't ALL injured.\",\n",
              "       b'gmtTy mhtw4fnet\\n\\nOfficials: Alabama home quarantined over possible Ebola case - Washington Times',\n",
              "       b'Me trying to pass lax with my family ends up by me having to run after the ball after it gets bombed over my head',\n",
              "       b'@Benji_Devos thanks thanks :3',\n",
              "       b'The Latest: More homes razed by Northern California wildfire - http://t.co/P3g3bQBczu http://t.co/RpBxdfnx5k',\n",
              "       b\"'We are now prepared to obliterate more rapidly and completely every productive enterprise the Japanese have above ground in any city.'\",\n",
              "       b'@ErinMariefishy everyone is setting flames upon me',\n",
              "       b\"Will be dropping fire selfie tomorrow saying 'you're welcome' ahead of time.\",\n",
              "       b\"&gt; Bin Laden family plane crashed after 'avoiding microlight and landing too far down runway... http://t.co/Tu9cgLmgVR #rochdale #heywood\",\n",
              "       b\"I still don't know how 8 hours of physical activity in the blazing sun isn't a sport.\",\n",
              "       b'watching it go up in flames',\n",
              "       b'Dan Hughes was taken off on a stretcher after Danielle Robinson collided @OU_WBBall hope they are both ok he called SOME  games over years',\n",
              "       b\"mom: 'we didn't get home as fast as we wished' \\nme: 'why is that?'\\nmom: 'there was an accident and some truck spilt mayonnaise all over ??????\",\n",
              "       b'After death of Palestinian toddler in arson\\nattack Israel cracks down on Jewish',\n",
              "       b'11 puncture wounds',\n",
              "       b'#reuters Twelve feared killed in Pakistani air ambulance helicopter crash http://t.co/ShzPyIQok5',\n",
              "       b'Need to stop bottling things up because when everything eventually explodes the casualties just keep getting higher and higher',\n",
              "       b'Nueva favorita: EmergeNCY feat. The Chemical Brothers / My Bits http://t.co/MET4YtZMFB @DeezerColombia',\n",
              "       b\"Why weren't they taken back to Africa once rescued? #c4news\",\n",
              "       b\"I've been trying to write a theological short story about a monster living in a sinkhole. Then I heard about Brooklyn. #accidentalprophecy\",\n",
              "       b'Cartoon Bears. Without them we would qave no knowlddge of forest fires or toilet paper.',\n",
              "       b'Michael talking about when he was electrocuted omg #ROWYSOLouisville http://t.co/HxVfmoUhDM',\n",
              "       b\"@lunasagalle @synapsenkotze \\n'The Exploded - Bean the Bastard'\",\n",
              "       b\"'Food crematoria' provoke outrage amid crisis famine memories... http://t.co/REsxAvgpyJ\",\n",
              "       b'@cyclone_reizei If I may ask Cyclone-sama have you read Jailed Fate by Rindou?',\n",
              "       b'Police: man in his early 30s dies after shooting on Vermont St.: http://t.co/HteZ4z48Od http://t.co/Eq4rXC9bb3',\n",
              "       b'???? throwback Thurs ?? ????  Will You Still Love Me Tomorrow http://t.co/wmoyibWEc1 ??   @LucyMayOfficial  ?? ?? #Whirlwind http://t.co/0rsverLzTm',\n",
              "       b\"@Hail_Zel man you kno I'm there !\",\n",
              "       b'Sex Workers Say Credit Card Bans On Online Ads Do More Harm Than Good http://t.co/B9Zx2xZ6aW',\n",
              "       b\"'[+54 -9] How do people not know who Kendall Jenner is? She has 6 times the Instagram followers of GD' SCREAMING LMAO\",\n",
              "       b'The Latest: #Wildfire destroys more homes but crews advance - WQOW TV News 18 http://t.co/Hj26SFDdfI',\n",
              "       b\"Check out my new song 'Collide' live at the Bowery Electric! http://t.co/MESgcNGAz0\",\n",
              "       b\"mama I'm still thugging the world is a war zone\",\n",
              "       b'3 Things All Affiliate Marketers Need To Survive Online - Every affiliate marketer is always... http://t.co/kPMYqUJSUE',\n",
              "       b'Attention all RCHS football players there will be coffins and body bags by the locker rooms grab one tommorow because were gonna die',\n",
              "       b'So did we have a hurricane tornado tsunami? Someone please tell me what the hell happened #nopower',\n",
              "       b'@r_lauren83199 @xojademarie124 i hope you get Batista Bombed lauren',\n",
              "       b'Richmond police officer wounded suspect killed http://t.co/m9d2ElImZI',\n",
              "       b'Man my stomach feel like a tsunami ??.',\n",
              "       b\"@TrillAC_ I think we've only had like one black mass murderer in the history of mass murders white people do that shit.\",\n",
              "       b'Californian Bush Fires 2015 http://t.co/rjdX29wosp',\n",
              "       b'&gt;As soon as maintenance ends everyone floods the servers\\n&gt;Servers destroyed by extreme load\\n&gt;Maintenance starts anew',\n",
              "       b'@FaZe_Rain all hail the Cloud',\n",
              "       b'U.S National Park Services Tonto National Forest: Stop the Annihilation of the Salt River Wild Horse... http://t.co/6LoJOoROuk via @Change',\n",
              "       b'Kai Forbath just demolished a weather station set up on a drill field with a missed field goal. Thing just exploded into metal bits.',\n",
              "       b'#BreakingNews Militants attack Udhampur police post; 2 SPOs injured http://t.co/EqCCrTlnbd',\n",
              "       b'You can only make yourself happy. Fuck those tryna ruin it keep smiling ??',\n",
              "       b\"I added a video to a @YouTube playlist http://t.co/bcjYleRRYX Ori and the Bind forest ep 6 'Fire and death'\",\n",
              "       b'A Marshall Plan for the United States by Dambisa Moyo via @ProSyn #oped http://t.co/GnPStnvi5G via @po_st',\n",
              "       b'...the kids at the orphanage were obviously not too traumatised. http://t.co/DjA4relcnS',\n",
              "       b'http://t.co/FCqmKFfflW Twelve feared killed in Pakistani air ambulance helicopter crash http://t.co/vAyaYmbNgu',\n",
              "       b\"Don't tell the bride gives me the fear\",\n",
              "       b'dog rendered a kitten from burning buildings\\nhttps://t.co/9cpWIEcEGv http://t.co/rZLYtneZ2u',\n",
              "       b\"The Finnish hip hop pioneer Paleface will be 'rescued from a drifting raft' and brought into the container later #enkelbiljett #menolippu\",\n",
              "       b'@D33munni @JeanNamibian noooooooo ... *proceeds to fall off a cliff*',\n",
              "       b\"USATODAY: On today's #frontpage: #Bioterror lab faced secret sanctions. #RickPerry doesn't make the cut for FoxNew\\xc2\\x89\\xc3\\x9b_ http://t.co/5uKOHk7SoB\",\n",
              "       b'@questergirl ditto but its all we had. and the way i feel if i drank vodka over ice they would have to body bag me',\n",
              "       b'@Welles_7 he was injured. He is a pro bowl back.',\n",
              "       b\"Have you ever remembered an old song something you haven't heared for years?  words that carry floods of memories all along. #priceless\",\n",
              "       b\"If I can't ruin his mood then I may have lost my direction. https://t.co/sLc27EMUgM\",\n",
              "       b'Sioux City Fire Officials Believe Bridge Collapse Lead To Cement Truck Roll Over - Siouxland Matters: Siouxlan... http://t.co/sZTGmbkoHG',\n",
              "       b\"Let's fraction the vital need for Our fatalities.  How would you break it down in #education #econom http://t.co/ZSqM8ihE1K\",\n",
              "       b'Read ~ THE UNHEALED WOUNDS OF AN UNENDING CONFLICT #Kashmir #Pakistan #India http://t.co/sAF9MoSkSN #EndOccupation #EndConflict #FreeKashmir',\n",
              "       b'@spicybreads @coxytown i tried downloading it and it crashed after the tutorial',\n",
              "       b'Building the perfect tracklist to life leave the streets ablaze',\n",
              "       b'@Hurricane_Dolce no prob',\n",
              "       b'Zayn Malik &amp; Perrie Edwards End Engagement: She\\xc2\\x89\\xc3\\x9b\\xc2\\xaas \\xc2\\x89\\xc3\\x9b\\xc3\\xb7Devastated\\xc2\\x89\\xc3\\x9b\\xc2\\xaa http://t.co/GedOxSPpL9 http://t.co/ACZRUOrYtD',\n",
              "       b'this is ridiculous....',\n",
              "       b'I wanted to set Chicago ablaze with my preaching... But not my hotel! http://t.co/o9qknbfOFX',\n",
              "       b'I scored 111020 points in PUNCH QUEST stopped when a squeaky bat collided into my skull. http://t.co/aEtgbxm1pL',\n",
              "       b'@BillMcCabe  sky looks clear.... No smoke from the fires. Enjoy your time in Tahoe. One of my favorite places!',\n",
              "       b'Officer wounded suspect killed in exchange of gunfire: Richmond police say an officer has been wounded and a ... http://t.co/HwOrB1N6vN',\n",
              "       b'*nominates self but @_ohhsehuns wins by a landslide* https://t.co/rCvDrwoWvO',\n",
              "       b'Last chance to work at the old FFA foodstand at the fairgrounds. We are finishing demolition at 9am.  Any help would be appreciated',\n",
              "       b'@soapscoop i need you to confirm that ross is dead cause i dont trust anyone else yh',\n",
              "       b'Join #charity 10k #run event! @DoningtonDash\\n11am start Sun 20 Sept 2015\\nCastle Donington Community First Responders\\nhttps://t.co/G1Nw99YJ8U',\n",
              "       b'Cutting for some celebrety and then posting the wounds online is a no-go.',\n",
              "       b'@DarrylB1979 yea heard about that..not coming out until 2017 and 2019 ?????? Vampiro is bleeding',\n",
              "       b'Three Israeli soldiers wounded in West Bank terrorist attack via /r/worldnews http://t.co/9TyucdWh3g',\n",
              "       b'kindermorgan gas explosion',\n",
              "       b'Hundreds of migrants feared drowned off Libya: Migrants stand next to their tent at a camp set near Calais\\xc2\\x89\\xc3\\x9b_ http://t.co/PY4mtW5xpM',\n",
              "       b'Hiroshima bombing justified: Majority Americans even today - Hindustan Times http://t.co/cC9z5asVZh',\n",
              "       b\"Yea so I'm gonna demolish all those boundaries that I seem to have 'unconsciously' set for myself with negative thoughts!\",\n",
              "       b'#hot  Funtenna: hijacking computers to send data as sound waves [Black Hat 2015] http://t.co/wvTPuRYx63 #prebreak #best',\n",
              "       b'@Flow397 Coming atcha from Boston. Had golfball sized hail yesterday sunny amazing skies today! #ParkChat',\n",
              "       b'Our Deeds are the Reason of this #earthquake May ALLAH Forgive us all',\n",
              "       b'@missambear your Tweet was quoted by @WIRED  http://t.co/E90J3vJOLc',\n",
              "       b'#hot  Funtenna: hijacking computers to send data as sound waves [Black Hat 2015] http://t.co/aAtt5aMnmD #prebreak #best',\n",
              "       b\"@RohnertParkDPS You're on stage now! Right under the lights! Isn't it funny?! Where do you get the goofballs with which you staff your PD?\",\n",
              "       b\"A thought on not dismantling our weapons 'yet' http://t.co/vn0acCF6D4\",\n",
              "       b'The Latest: Washington #Wildfire misses town; evacuations end - KHQ Right Now http://t.co/aNlhW2IzkZ',\n",
              "       b\"@IAN_Hellfire you said it's rude based on an experience. Kind of a next level sub tweet in a way lol. Either way you got worked up\",\n",
              "       b'Sure - take them away from fire fighting for King Stevie &amp; Crusty to have a photo-op ! http://t.co/epeX4axG4b',\n",
              "       b\"--thus making @FemaleGilgamesh's assault useless.\\nThe spears collided with the dark force however did not penetrate.\\n\\nDue to the dark --\",\n",
              "       b\"It's a heat wave. #Squad #RevItUp #PizzaRev http://t.co/bp8bm8xSXw\",\n",
              "       b'Photographer Brian Ruebs endures 4500-feet climb to capture bride and groom http://t.co/JXhAZEBNQK',\n",
              "       b'Fear Factory - Cars (Official MusicVideo) http://t.co/UUzaUMdObc',\n",
              "       b'Okay maybe not as extreme as thunder and lightning but pretty much all other types! #FIFA16  https://t.co/ETuuYISLHw',\n",
              "       b'@Eazzy_P we will never know what would have happened but the govt seemed to think that their beliefs warranted the deaths of innocent japs',\n",
              "       b\"Hero's fight wars and save ppl from burning buildings etc I'm sorry but u gotta do more than pay 4 a sex change be4 I call u a hero\",\n",
              "       b'Photo: weallheartonedirection: I wouldn\\xc2\\x89\\xc3\\x9b\\xc2\\xaat let David electrocute himself so I\\xc2\\x89\\xc3\\x9b\\xc2\\xaam the asshole http://t.co/uWiJMEGl4E',\n",
              "       b\"RT to ruin @connormidd 's day.  http://t.co/krsy54XMMC\",\n",
              "       b\"China's Stock Market Crash: Are There Gems In The Rubble? http://t.co/3PBFyJx0yA\",\n",
              "       b'Love my girlfriend',\n",
              "       b\"In Photos: The Young Refugees Forced to Flee Burundi's Violence | VICE News https://t.co/jOjnq2oOPi see more http://t.co/DsKuI6Mmgl\",\n",
              "       b\"Sitting still in the #CityofMemphis traffic is like sitting in a war zone! They don't move for the Police.. They don't care\",\n",
              "       b'Paul Craig Roberts \\xc2\\x89\\xc3\\x9b\\xc3\\x92 Vladimir Putin Issues Major Warning But Is It Too Late To Escape A http://t.co/NVfKzv5FEx #brics #roberts #russia',\n",
              "       b'Big Love @IbeyiOfficial https://t.co/OlnK1TI1NM',\n",
              "       b\"I don't think I've forgiven Angelina Jolie yet sef????\",\n",
              "       b'Black Eye 9: A space battle occurred at Star O784 involving 2 fleets totaling 3967 ships with 39 destroyed',\n",
              "       b'Megadeth-Symphony of Destruction http://t.co/xzfxRgLAlp',\n",
              "       b'Musician Kalle Mattson Recreates 34 Classic Album Covers in Clever Music Video for \\xc2\\x89\\xc3\\x9b\\xc3\\xb7Avalanche\\xc2\\x89\\xc3\\x9b\\xc2\\xaa http://t.co/VBSwhz4s2V',\n",
              "       b'@Hienshi @Gbay99 it wouldnt turn into a sandstorm if riot gave a good answer.  Instead they gave dumb excuses. At least new client is there',\n",
              "       b'Rly tragedy in MP: Some live to recount horror: \\xc2\\x89\\xc3\\x9b\\xc3\\x8fWhen I saw coaches of my train plunging into water I called ... http://t.co/72ix7vM87w',\n",
              "       b'Twitter is doing a count down to the rioting and financial collapse of Brazil #Rio2016 http://t.co/9mtrq5Jf4d',\n",
              "       b'Migrants drown at sea after boat capsizes off #Libya http://t.co/t4pv0nrOoV http://t.co/PSeYLYzck4',\n",
              "       b'Arson suspect linked to 30 fires caught in Northern California http://t.co/wnuqQAtTTP (via @latimes)',\n",
              "       b'Tomorrow is the day we start armageddon #preseasonworkouts ????',\n",
              "       b'How many cars do those cyclists wreck going past scratching with pedals. They should be banned #c4news',\n",
              "       b'Two cars collided following shotgun fire in Denton http://t.co/0r03C6njLI',\n",
              "       b'The Drowning Girl by Caitlin R. Kiernan Centipede Press Signed numbered Limited - Full re\\xc2\\x89\\xc3\\x9b_ http://t.co/tCJfCkXdZL http://t.co/EmTXtGO4CE',\n",
              "       b'Longest Streak of Triple-Digit Heat Since 2013 Forecast in Dallas: An unrelenting and dangerous heat wave will... http://t.co/s4Srgrmqcz',\n",
              "       b\"@CacheAdvance besides your nasty thunderstorm or snowstorm nah. Can't say that I have.\",\n",
              "       b'Being bestfriends with your high school crush???? @yourboy_shawn',\n",
              "       b\"\\xc2\\x89\\xc3\\x9b\\xc3\\x8f@_keits: @LIVA_GOTTA get a gold chain you'll understand\\xc2\\x89\\xc3\\x9b\\xc2\\x9d\\n\\nOne boy gave me one and my neck went green It traumatised me\",\n",
              "       b'Flames visible from fire in Tucson mountains: A lightning-caused fire burning in steep rocky terrain in mountains\\xc2\\x89\\xc3\\x9b_ http://t.co/zRTRPL77QV',\n",
              "       b'MaFireEMS: RT WMUR9: Two buildings involved in fire on 2nd Street in #Manchester. WMUR9  http://t.co/QUFwXRJIql via KCarosaWMUR',\n",
              "       b\"Turkish troops killed in Kurdish militant 'suicide attack' http://t.co/wD7s6S0vci\",\n",
              "       b'My biggest fear is disappointing the people who believe in me',\n",
              "       b'@sabcnewsroom sabotage!I rule out structural failure',\n",
              "       b'Campsite recommendations \\nToilets /shower \\nPub \\nFires \\nNo kids \\nPizza shop \\nForest \\nPretty stream \\nNo midges\\nNo snakes\\nThanks ??',\n",
              "       b'@HearItFromPatty Also pls help us w/ our campaign to warn the public about the hazardous keratin treatments. The Brazilian Blowout COPYCATS',\n",
              "       b\"Hey all take a look at my review of 'Pandemonium' &amp; 'Requiem' by Lauren Oliver. Enjoy! http://t.co/cPLYReWFZ3\",\n",
              "       b'@panic awesome thanks.',\n",
              "       b'My brother is crying cause the thunder lmao',\n",
              "       b\"@Marvel @DCComics @ImageComics @DarkHorseComics @IDWPublishing And by doing this you're enabling the possible collapse of the industry.\",\n",
              "       b'Police expand search for missing pregnant woman in Beloeil: Police in Richelieu-Saint-Laurent are expanding th... http://t.co/hMuyzmv8qH',\n",
              "       b\"@MeetKakarotto 'Don't bother while you were offline I managed to evacuate everyone out of here including Hinata so so go ahead and cause--\",\n",
              "       b'The debris found on Reunion Island was from flight #MH370. The mystery behind that plane disappearance could be better than any novel.',\n",
              "       b'Free Ebay Sniping RT? http://t.co/B231Ul1O1K Lumbar Extender Back Stretcher Excellent Condition!! ?Please Favorite &amp; Share',\n",
              "       b'New Expansion Ideas - Bard Class Holy Trinity + 1 http://t.co/EGioxBabOe',\n",
              "       b'Rainstorm Update: Further North or Further South? http://t.co/50vdQ7A1M5 http://t.co/QH6oXfT9Ir',\n",
              "       b'#reno Truck trailer catches fire in Reno http://t.co/k5FIJaNkJb',\n",
              "       b'Suicide of a Superpower : Will America Survive To 2025? by Patrick J. Buchana... http://t.co/eMTwirknyq http://t.co/M9K08OaZve',\n",
              "       b'@JakeGint the mass murder got her hot and bothered but at heart she was always a traditionalist.',\n",
              "       b'Owner of Chicago-Area Gay Bar Admits to Arson Scheme: Frank Elliott pleaded guilty to hiring an arsonist to to... http://t.co/jCFEhrHLq8',\n",
              "       b\"California man facing manslaughter charge in Sunday's wrong-way fatal crash in ... - http://t.co/1vz3RmjHy4: Ca... http://t.co/xevUEEfQBZ\",\n",
              "       b'Some good info to help first responders cope- Individual Resilience: Factsheet for Responders- http://t.co/FcFpijiqt5',\n",
              "       b'On the eve of Jon Stewart leaving The Daily Show WMATA has honored him by letting another train get derailed and crippling the service.',\n",
              "       b'POV footage captures violent landing from inside plane during storm http://t.co/kxewlHH7Uw',\n",
              "       b'Couple storms near Guthrie OK. Leaving Norman for an evening lightning op. #okwx http://t.co/HcwrK81p71',\n",
              "       b'Micom 2015 Summer Contrast Candy Color Bowknot Cross Body Tote Shoulder Bags for Womengirls with Micom Zip Po http://t.co/sQMTKKJiMJ',\n",
              "       b\"My niece just asked me 'would you be scared if there was an apocalypse here?' ????\",\n",
              "       b'#world FedEx no longer to transport bioterror germs in wake of anthrax lab mishaps  http://t.co/5zDbTktwW7',\n",
              "       b'LOL Warthen in the midst of bullpen meltdown reaching for Double Bubble. #Mets',\n",
              "       b\"'The only thing that stands between you and your dream is the will to try and the belief that it is actually possible.' - Joel Brown\",\n",
              "       b\"When your body's like 'go to fuck to sleep Sami' and your mind's like 'make an emergency plan for every natural disaster GO'\",\n",
              "       b'beforeitsnews : Global Derivatives: $1.5 Quadrillion Time Bomb http://t.co/GhmmUj7GbE (v\\xc2\\x89\\xc3\\x9b_ http://t.co/u9LvvLzhYe) http://t.co/LyJ57pq3yX',\n",
              "       b\"@Petchary but I can't say that either of us should be displeased. U.S move up five spots Jamaica 21! Congrats to the #ReggaeBoyz\",\n",
              "       b'#Earthquake #Sismo M 1.4 - 4km E of Interlaken California: Time2015-08-06 00:52:25 UTC2015-08-05 17:52:25 -07... http://t.co/wA5C77F8vQ',\n",
              "       b'Conning Builds Strong Case for Portfolio #Diversification for Property-Casualty Insurers http://t.co/33FbR25t1O',\n",
              "       b'SHOUOUT TO @kasad1lla CAUSE HER VOCALS ARE BLAZING HOT LIKE THE WEATHER SHES IN',\n",
              "       b'News Wrap: UN warns female and child casualties are on the rise in Afghanistan http://t.co/vSvY1qe69t #pbs #iraq',\n",
              "       b'Wait until i tell my college friend who reafs bloody mary too about the drama cd',\n",
              "       b'#RaheelSharif is manifesting how one RIGHT man at the helm can save a Sinking Ship engulfed in a Dark-Stormy-Tidal-Sea. Well Done.',\n",
              "       b'I liked a @YouTube video from @slimebeast http://t.co/ulr6MyklnH Town of Salem | How to Win as The Arsonist',\n",
              "       b\"witnessed my very first demolition derby today psa that my excitement has not worn down and it's been over 3 hours\",\n",
              "       b'Trauma injuries involving kids and sport usually cycling related: Director Trauma NS  http://t.co/8DdijZyNkf #NS http://t.co/52Uus4TFN3',\n",
              "       b\"WCE I can't even lie even tho I can't stand her she still will always be my crush ?? @_explicitpretty\",\n",
              "       b\"When you on the phone and @Worstoverdose screams 'jaileens caked up on the phone' so everyone looks at you ????????????\",\n",
              "       b'@AnimalLogic LOTG smoothed out once blue bird and moth were caught and let go. Chalked up mouse massacre to a subtle Disney diss.',\n",
              "       b'well done me! everyone applaud me and how terrific i am and how i never ruin anything',\n",
              "       b\"If I survive tonight. I wouldn't change one thing. ??\",\n",
              "       b\"...American casualties including 400000\\xc2\\x89\\xc3\\x9b\\xc3\\x92800000 fatalities and five to ten million Japanese fatalities.' https://t.co/TxzXCNUDr8\",\n",
              "       b'@chillimik @HushLegs haha ??????..Are you really comparing yourselves to the emergency services! Thats brilliant! talk about up your own arse!',\n",
              "       b'@Ruddyyyyyy @JamieGriff97 Jamie is too traumatised to answer http://t.co/VzgslEPkkH',\n",
              "       b\"I blew up #oomf instagrams cause she's cute and she's an active follower\",\n",
              "       b'Downtown Emergency Service Center is hiring! #Chemical #Dependency Counselor or Intern in #Seattle apply now! #jobs http://t.co/SKQPWSNOin',\n",
              "       b'Watch our video of Wendell Berry speaking about the BP oil spill in the Gulf of Mexico.\\n\\nIt\\xc2\\x89\\xc3\\x9b\\xc2\\xaas the birthday... http://t.co/tN1aX1xMBB',\n",
              "       b'Plains All American Pipeline company may have spilled 40 percent more crude oil than previously estimated.... http://t.co/WEZjqC4Cf2',\n",
              "       b'RT @FreeDiscountBks: **Desolation Run** #FREE till 8/7! http://t.co/AxVqldTeHC #Military #Thriller #Suspense #Kindle #amreading http://t\\xc2\\x89\\xc3\\x9b_',\n",
              "       b'[Report 5] 18:22:45 Ibaraki Prefecture offing M5.5 Depth 60km Maximum seismic intensity 4 #Earthquake',\n",
              "       b'The only country claiming the moral high ground is the only one to have dropped atomic bombs. #Hiroshima #BanTheBomb\\nhttp://t.co/6G49ywwsQJ',\n",
              "       b'Don avoid wearing dead black flaming red and stark white so much and esp. at debate; go with your blue gold brown even to shoes; and',\n",
              "       b\"@EMILY4EVEREVER haha it's alright..but more than twice is just stupid ;) he's traumatised ????\",\n",
              "       b'We should all have a fire safety plan. RT @Matt_Kroschel: MOCK WILDFIRE near #Vail as agencies prepare for the worst. http://t.co/SWwyLRk0fv',\n",
              "       b\"@cnni @PrisonPlanet Climate Change CNN weather 'specialist' warning:wild fires rain flooding noting about the sun? http://t.co/0sZwlWL9qU\",\n",
              "       b'Check out Ameribag Healthy Back Bag Shoulder Cross Body Backpack Khaki Tan Beige Nylon http://t.co/r4k7TyLofJ @eBay',\n",
              "       b\"There is a #baby in Oliver's #swim class that cries the ENTIRE class. It's like his #parents are #waterboarding him or dipping him in #lava\",\n",
              "       b'#USGS M 1.9 - 5km S of Volcano Hawaii: Time2015-08-06 01:04:01 UTC2015-08-05 15:04:01 -10:00 at epicenter... http://t.co/dIsrwhQGym #SM',\n",
              "       b'Just had my first counter on a league game against another Orianna I happened to demolish her xD. I totally appreciate people that play her',\n",
              "       b'Football hooligan jailed for rioting before game in Scotland was already banned from matches in England #UkNews http://t.co/q5mp2Q6Hy8',\n",
              "       b'Listen to Landslide by Oh Wonder #SoundCloud https://t.co/SJkgJxff2r',\n",
              "       b'@CortneyMo_ put this in Detroit niggas gone be acting out?? tryna fuck n drown mfs????????loose they buffs in the water?? https://t.co/OAQtjawGxg',\n",
              "       b'Police kill hatchet-wielding gunman who opened fire inside Nashville movie theater: A\\xc3\\xa5\\xc3\\x8amiddle-aged man\\xc3\\xa5\\xc3\\x8aarmed wi... http://t.co/tyD47NfL5x',\n",
              "       b\"Afghan conflict sees 'sharp rise' in female casualties http://t.co/4hcYwRWN6L http://t.co/2TwXZ6vxbx\",\n",
              "       b\"Alleged driver in #Kuwait attack 'joined Daesh just a day before the June 26 suicide bombing' he confesses in court http://t.co/Tmz6X1N2gQ\",\n",
              "       b\"Hope Dorett's 'mudslide' cake wins?? #GBBO\",\n",
              "       b'13 reasons why we love women in the military   - lulgzimbestpicts http://t.co/N1tjCt8HMC http://t.co/pYTQM7rVP0',\n",
              "       b'SocialWOTS: GLOBI_inclusion: RT NRC_MiddleEast: Sandstorm engulfs caravans and tents in the #Zaatari refugee camp \\xc2\\x89\\xc3\\x9b_ http://t.co/XBNLSBzzgI',\n",
              "       b\"-honey you ain't no angel. You like to scream these words as a weapon. Well go ahead take your best shot woman. I wanna leave you it's\",\n",
              "       b'Strange to encaustic cerography portion him till give voice deluge: bYITyf http://t.co/I7ap1MES8M',\n",
              "       b'Amazon Deal - wait or buy? http://t.co/0T8VqKEArI',\n",
              "       b'that horrible sinking feeling when you\\xc2\\x89\\xc3\\x9b\\xc2\\xaave been at home on your phone for a while and you realise its been on 3G this whole time',\n",
              "       b'When a real nigga hold you down you supposed to drown',\n",
              "       b'China is only delaying the deluge: If the fundamentals of an economy do not support the valuations of a stock ... http://t.co/fwIkyUrC18',\n",
              "       b'Tt kettlebell upheaval blueprint over chris lopez hindsight: JhmNYe',\n",
              "       b'Death of Loretta Fuddy responsible for authenticating Obama birth certificate the sole fatality of nine on plane http://t.co/MzRhfOJT2j',\n",
              "       b'descended or sunk however it may be to the shadowed land beyond the crest of a striking cobra landing harshly upon his back; torch and',\n",
              "       b\"Wreckage 'Conclusively Confirmed' as From MH370: Malaysia PM: Investigators and the families of those who were... http://t.co/DtFSWNJZIL\",\n",
              "       b\"mentions of 'theatre +shooting' on Twitter spike 30min prior to $ckec collapse http://t.co/uuBOvy9GQI\",\n",
              "       b'Listening to Blowers and Tuffers on the Aussie batting collapse at Trent Bridge reminds me why I love @bbctms! Wonderful stuff! #ENGvAUS',\n",
              "       b'Natalie Stavola our co-star explains her role in Love and Hostages. Check it out! #LH_movie #indiefilm #comingsoon\\nhttps://t.co/2Dw23pMF4B',\n",
              "       b'(SJ GIST): 148 Houses Farm Produce Destroy... http://t.co/dkrGS2AWEX #StreetjamzDotNet | https://t.co/mR9KcGpIwM',\n",
              "       b'@USArmy has entered into the #JAGM project to replace #TOW and Hellfire missiles. Check it out here: http://t.co/2mnQC73hFk',\n",
              "       b'Georgia sinkhole closes road swallows whole pond http://t.co/cPEQv52LNA',\n",
              "       b'Trafford Centre film fans angry after Odeon cinema evacuated following false fire alarm: \\n Twitter users tell ... http://t.co/dZLENSe1Gw',\n",
              "       b'Governor allows parole for California school bus hijacker who kidnapped 26 children in 1976. http://t.co/hdAhLgrprl http://t.co/Z1s3T77P3L',\n",
              "       b'@MoorlandsChmbr Loads of stuff going on recently. See the blog at http://t.co/XVcO7sLxhW #sinkhole #piling http://t.co/jbVmGeg522',\n",
              "       b\"@kirkmin after listening to you demolish @BartHubbuch on @weei I can't wait to bait my patriot hater co-workers into a Brady discussion\",\n",
              "       b\"I'M LAUGHING IN THE FACE OF CASUALTIES AND SORROW THE FIRST TIME I'M THINKING PAST TOMORROW BUT I AM NOT THROWIN AWAY MY SHOT\",\n",
              "       b'Summer #summervibes #california #puppy #pitmix #rescued #brixton #banksy #happy #mybabies https://t.co/7VoVkTXsPo',\n",
              "       b'Weather forecast for Thailand  A Whirlwind is coming ...2 september https://t.co/rUKjYjG9oQ',\n",
              "       b'Fel Lord Zakuun is about to DIE ! #Hellfire #WOD http://t.co/x1oNV3d5uX',\n",
              "       b\"'We\\xc2\\x89\\xc3\\x9b\\xc2\\xaare blown away by this extension. Nothing we\\xc2\\x89\\xc3\\x9b\\xc2\\xaave seen has as many options as this one.' https://t.co/0YzgW9ZbHR  https://t.co/rHtaqjvQn2\",\n",
              "       b'#?? #???? #??? #??? MH370: Aircraft debris found on La Reunion is from missing Malaysia Airlines ...  http://t.co/hHWv0EUDFv',\n",
              "       b'@NoahCRothman Bore him with minutiae serve bad champagne. He may just explode.',\n",
              "       b'that new lil b x chance is nothing but flames',\n",
              "       b'Earthquake : M 3.4 - 96km N of Brenas Puerto Rico: Time2015-08-05 10:34:24 UTC2015-08-05 06:34:24 -04:00 at\\xc2\\x89\\xc3\\x9b_ http://t.co/sDZrrfZhMy',\n",
              "       b'Chilli heat wave Doritos never fail!',\n",
              "       b'So you have a new weapon that can cause un-imaginable destruction.',\n",
              "       b\"Aftershock was the most terrifying best roller coaster I've ever been on. *DISCLAIMER* I've been on very few.\",\n",
              "       b'Why must I have a meltdown every few days? ??',\n",
              "       b'@bomairinge @EluTranscendent straight body bagging.',\n",
              "       b'The answer my friend is yelling in the wind-my latest article for http://t.co/LbMeKYphM5.Pls read and share - thanks! http://t.co/9NwAJLi9cr',\n",
              "       b'DK Eyewitness Travel Guide : Chicago by Dorling Kindersley Publishing Staff\\xc2\\x89\\xc3\\x9b_: travel books eBay auctions you s... http://t.co/tj3LtPZfW1',\n",
              "       b\"#hot  Reddit's new content policy goes into effect many horrible subreddits banned or quarantined http://t.co/HqdCZzdmbN #prebreak #best\",\n",
              "       b'Everything has sunk in except the fact that I am actually moving to the state of Colorado tomorrow. Been dreaming of it since I was a kid.??',\n",
              "       b\"Sadly How Windows 10 Reveals Microsoft's Ethics Armageddon http://t.co/sTfTjCrjEa\",\n",
              "       b\"Can't find my ariana grande shirt  this is a fucking tragedy\",\n",
              "       b'Think Akwa Ibom!: Don\\xc2\\x89\\xc3\\x9b\\xc2\\xaat come to Uruan and demolish buildings again ex-Assembly member warns Udom Emmanuel  http://t.co/1cnw6NSka5',\n",
              "       b'Governor weighs parole for California school bus hijacker http://t.co/7NPBfRzEJL http://t.co/Y0kByy8nce',\n",
              "       b\"#News Families to sue over Legionnaires: More than 40 families affected by the fatal outbreak of Legionnaires'... http://t.co/zfYqSAwvrk\",\n",
              "       b'Governor Allows Parole for School Bus Hijacker http://t.co/JwfiiLJ8Wr liveleakfun ? http://t.co/IONWArVRFy',\n",
              "       b'Mosque bombing strikes Saudi special forces; at least 15 people dead: A suicide bomber struck a mosque i... http://t.co/gigW51IZpK #news',\n",
              "       b'Remembrance  http://t.co/ii4EwE1QIr #Hiroshima http://t.co/H3vUsqzyQo',\n",
              "       b'69 Dead Due to Floods in Myanmar: Naypyidaw Aug 5 (Prensa Latina) The death toll rose today to 69 in Myanmar... http://t.co/JoDs9a32PI',\n",
              "       b'Twelve feared killed in Pakistani air ambulance helicopter crash - Reuters http://t.co/mDnUGVuBwN #yugvani',\n",
              "       b'@Arovolturi3000 survived because of magic  she is searching the wood for survivors outside of London',\n",
              "       b'New crime: knowing your rights. Punishable by death',\n",
              "       b\"@MarioMaraczi I'm watching it right now.  He freaked out after the 1st.  First fight where he didn't demolish the guy\",\n",
              "       b\"The Hobbit: The Desolation of Smaug - Ed Sheeran 'I See Fire' [HD] http://t.co/OXRwRJZmnu\",\n",
              "       b'INFO U. CLD: SCT012 BKN025. EXP INST APCH. RWY 05. CURFEW IN OPER UNTIL 2030 Z. TAXIWAYS FOXTROT 5 &amp; FOXTROT 6 NAVBL. TMP: 10. WND: 030/6.',\n",
              "       b'Man crush everyday ????  @CristianInspire http://t.co/iXjQG1sx6u',\n",
              "       b'Tricycle toddler atomic bomb\\nhttp://t.co/ljeRYHItwh In a fraction of a second Our decisions change the landscape of humanity.',\n",
              "       b\"VIDEO: 'We're picking up bodies from water': Rescuers are searching for hundreds of migrants in the Mediterran... http://t.co/PUezv6bd37\",\n",
              "       b\"@Ayshun_Tornado then don't\",\n",
              "       b'@TrustyMcLusty no passengers were on the derailed train. But the who morning commute is fcked. Go home.',\n",
              "       b'Crying out for more! Set me ablaze',\n",
              "       b\"Businesses are deluged with invoices. Make yours stand oup with colour or shame and it's likely to rise to the top of the pay' pile.\",\n",
              "       b'I went to pick up my lunch today and the bartender was holding my change hostage because he wanted my number. ??',\n",
              "       b'One Direction Is my pick for http://t.co/q2eBlOKeVE Fan Army #Directioners http://t.co/eNCmhz6y34 x1402',\n",
              "       b'NWS has Continued a Severe Thunderstorm Warning for Oklahoma-OK until 10:30 PM',\n",
              "       b\"'i never understood guys who wanted to run into burning buildings.'\\n'you chase murderers.'\\n'not if they're on fire.'\",\n",
              "       b'Major accident causes life-threatening injuries closes highway: An 18-wheeler and an SUV collided and then\\xc2\\x89\\xc3\\x9b_ http://t.co/ajTXUafOEM',\n",
              "       b\"The Prophet (peace be upon him) said 'Save yourself from Hellfire even if it is by giving half a date in charity.'\",\n",
              "       b'Corey Robinson having some solid reps at RT although as I type this he got beat on lightning dip by T. Walker',\n",
              "       b\"All you have to do is look up sports riots on google and you'll see more than couches being burned.. You fr gotta go https://t.co/P1AmgINsYs\",\n",
              "       b'Heavy smoke pouring out of buildings on fire in Port Coquitlam http://t.co/GeqkdaO4cV http://t.co/Dg0bGzeCgM',\n",
              "       b\"I can't drown my demons they know how to swim\",\n",
              "       b'Riot Kit Bah - part of the new concept Gear coming for Autumn/Winter\\n#menswear #fashion #urbanfashion\\xc2\\x89\\xc3\\x9b_ https://t.co/cCwzDTFbUS',\n",
              "       b\"@mallelis have you gotten to the post-battle we're-on-a-desolate-planet below-the-Mason-Dixon-Line style electro violin playing yet?\",\n",
              "       b'Tension In Bayelsa As Patience Jonathan Plans To Hijack APC PDP - http://t.co/ComLG0VdbV',\n",
              "       b'@UN No more #GujaratRiot &amp; #MumbaiRiot92-93 which devastated 1000&amp;1000 Indianperpetrated by #Modi &amp; #ChawalChorbjp @UN_Women  @UNNewsTeam',\n",
              "       b'Downtown Emergency Service Center is hiring a #Chemical #Dependency Counselor or Intern apply now! #Seattle #jobs http://t.co/SKQPWSNOin',\n",
              "       b'New Ladies Shoulder Tote Handbag Women Cross Body Bag Faux Leather Fashion Purse - Full re\\xc2\\x89\\xc3\\x9b_ http://t.co/BLAAWHYScT http://t.co/dDR0zjXVQN',\n",
              "       b'HURRICANE GUILLERMO LIVE NOAA TRACKING / LOOPING WED.AUG.5TH ~ http://t.co/AuruGJEGIQ ~  http://t.co/L3w8miPvnT http://t.co/O85M1bJFRW',\n",
              "       b\"@SoDamnTrue  we know who u are you're a bleeding heart wannabe pickup artist\",\n",
              "       b'AMBULANCE SPRINTER AUTOMATIC FRONTLINE VEHICLE CHOICE OF 14 LEZ COMPLIANT | eBay http://t.co/4evTTqPEia',\n",
              "       b'Wildfire Burns On California U.s. China Economic Net \\xc2\\x89\\xc3\\x9b_ : http://t.co/U2dO2mC2ri  http://t.co/3oM3xw6CZ8',\n",
              "       b'@jasalhad @brianboru67 @Jimskiv92 @hijinks1967 Rioting.',\n",
              "       b'Mango juice with crushed ice&gt;&gt;&gt;&gt;??',\n",
              "       b\"i s2g if anyone tries to harm my cupcake i'll fucking hunt you down to the end of the earth #HarryBeCareful\",\n",
              "       b'I can probably skip on these basic life maintenance things for a few days. (cut to burning buildings people screaming in the streets)',\n",
              "       b'IS claims suicide bombing against Saudi police: An Islamic State group suicide bomber on Thursday detonated an... http://t.co/Dn5Buo7GSK',\n",
              "       b'Thunderstorms with little rain expected in Central California. High fire danger. #weather #cawx http://t.co/A5GNzbuSqq',\n",
              "       b'@hazelannmac ooh now I feel guilty about wishing hatman out. I bet the mudslide was delicious!',\n",
              "       b'Metro acting chief Jack Requa says train that derailed was a six-car train with 1000 and 2000 series rail cars. #wmata',\n",
              "       b\"When the answer my friend isn't blowing in the wind-IT'S YELLING! -How to Survive a Dust Storm http://t.co/9NwAJLi9cr http://t.co/tKMOtaeaCo\",\n",
              "       b'`bbcnews The Ass. of British Insurers says rioting will cost insurers  &amp;#163;163;millions. But police numbers are reduced by blind fat contr',\n",
              "       b'Police Officer Wounded Suspect Dead After Exchanging Shots: Richmond police officer wounded suspect killed a... http://t.co/5uFTRXPpV0',\n",
              "       b'coleslaw #wrecked http://t.co/sijNBmCZIJ',\n",
              "       b\"Waking up sick with a rainstorm outside would usually make me sad. Not today though. Put some The Kooks on the stereo and let's do this.\",\n",
              "       b'HOBO Hobo Vintage Shira Convertible B\\xc2\\x89\\xc3\\x9b_ $238.00 #bestseller http://t.co/0LLwuqn8vg',\n",
              "       b\"'Congress' should be renamed Italian Goonda Party. They are a motley crowd of hooligans and selfavowed crooks determined to derail democracy\",\n",
              "       b\"Best windows torrent client? was recommended Deluge but it looks like it was written 10 years ago with java swing and 'uses' worse\",\n",
              "       b\"@kyrikoni @ExpressandStar Who said veg and fruit was good for you. Hope there's been no injuries or fatalities.\",\n",
              "       b'WWI WWII JAPANESE ARMY NAVY MILITARY JAPAN LEATHER WATCH WAR MIDO WW1 2 - Full read by eBay http://t.co/obfD7e4QcP http://t.co/yAZjE5OwVk',\n",
              "       b'5 Seconds of Summer Is my pick for http://t.co/qcHV3JqOVK Fan Army #5SOSFAM http://t.co/gc0uDfnFgg  \\xc3\\x8c\\xc3\\x911',\n",
              "       b'@1acd4900c1424d1 @FoxNews no one is rioting burning down buildings or looting.',\n",
              "       b\"'wHeRE's mY aRsOnISt aT???'\",\n",
              "       b'Six people were killed Thursday when a Taliban suicide bomber detonated an explosives-rigged truck outside a police compound in eastern',\n",
              "       b'I reject the laws of the misguided false prophets imprison nations fueling self annihilation',\n",
              "       b'Wake Up Kern County Eyewitness News Mornings airing RIGHT NOW on KBAK CBS29. http://t.co/rorKtMpqNs #liveonKBAK http://t.co/eDznX6GOud',\n",
              "       b'Gunshot wound #9 is in the bicep. The only one of the ten wounds that is not in the chest/torso area.  #KerrickTrial #JonathanFerrell',\n",
              "       b'In light of recent events all I would like to say is *screams for five years*',\n",
              "       b'Fire in Pisgah National Forest grows to 375 acres http://t.co/d7zxZ42QW1',\n",
              "       b'#Australia #News ; #Japan marks 70th anniversary of #Hiroshima atomic bombing  http://t.co/7aD0L7cgee READ MORE; http://t.co/hHzQl9tzNP',\n",
              "       b'they say bad things happen for a reason\\nbut no wise words gonna stop te bleeding',\n",
              "       b'NEW YORK: A whirlwind day of activities in New York. Breakfast at the Millennium Hotel United Nations Plaza. Lunch... http://t.co/laYZBA9y8h',\n",
              "       b'Proud of you @JoeGoodmanJr for watching the #CopaLibertadores and the Argentinean pandemonium... https://t.co/8tyGO0KiZz',\n",
              "       b'go easy on her paul the poor woman has been traumatised by a cake #GBBO',\n",
              "       b'@PrinceofFencing frickin summer and its humidity building up and causing trouble',\n",
              "       b'@JagexHelpDibi update JAG enabled but a hijacker has access might be what I was looking for. Fingers crossed.',\n",
              "       b'Horrible Accident Man Died In Wings of Airplane (29-07-2015) http://t.co/TfcdRONRA6',\n",
              "       b'Those that I have sworn to defend have proven themselves to be friends of the House Hailstorm.',\n",
              "       b'just got engulfed in a car-induced tidal wave on my run... I thought this only happened in the movies ????',\n",
              "       b\"California been shaking...catching on fire....and overcharging ppl on rent for the past 150+ years it ain't going nowhere.\",\n",
              "       b\"Fatal attraction is common n what we have common is 'pain'......\",\n",
              "       b\"@IAN_Hellfire I got it for the mistake but boss got it worse cause their job was to oversee my work. Boss didn't change after that...\",\n",
              "       b\"Would've been great if Mbiwa just flattened that little rat.\",\n",
              "       b'@gregorysanders @USDOT &amp; the stat of high auto deaths applies to children in a vehicle. I guess they can out run lightrail better than adult',\n",
              "       b\"@samanthaturne19 IIt may logically have been the right call... maybe... But it's an act of mass murder and I can't sanction it.\",\n",
              "       b\"@kaputt21 Hamburg Police Chief Gregory Wickett has told 7 Eyewitness News he 'can't confirm or deny' an investigation is underway.\",\n",
              "       b'So many Youtube commenters saying the Dothraki would get crushed if they came to Westeros...nah bro you underestimate the Dothraki'],\n",
              "      dtype=object)>"
            ]
          },
          "execution_count": 335,
          "metadata": {},
          "output_type": "execute_result"
        }
      ],
      "source": [
        "tf.constant(train_sentences_10_percent)"
      ]
    },
    {
      "cell_type": "code",
      "execution_count": 336,
      "metadata": {
        "colab": {
          "base_uri": "https://localhost:8080/"
        },
        "id": "-TM8xIoMwWEF",
        "outputId": "ce5b8e85-985f-4e04-f401-a5206307c4cd"
      },
      "outputs": [
        {
          "name": "stdout",
          "output_type": "stream",
          "text": [
            "Epoch 1/5\n",
            "22/22 [==============================] - 2s 43ms/step - loss: 0.6666 - accuracy: 0.7066 - val_loss: 0.6470 - val_accuracy: 0.7165\n",
            "Epoch 2/5\n",
            "22/22 [==============================] - 0s 22ms/step - loss: 0.5955 - accuracy: 0.8015 - val_loss: 0.5887 - val_accuracy: 0.7664\n",
            "Epoch 3/5\n",
            "22/22 [==============================] - 0s 21ms/step - loss: 0.5186 - accuracy: 0.8146 - val_loss: 0.5346 - val_accuracy: 0.7782\n",
            "Epoch 4/5\n",
            "22/22 [==============================] - 0s 22ms/step - loss: 0.4579 - accuracy: 0.8190 - val_loss: 0.5048 - val_accuracy: 0.7769\n",
            "Epoch 5/5\n",
            "22/22 [==============================] - 1s 30ms/step - loss: 0.4176 - accuracy: 0.8365 - val_loss: 0.4893 - val_accuracy: 0.7795\n"
          ]
        }
      ],
      "source": [
        "model_7_history = model_7.fit(\n",
        "    tf.constant(train_sentences_10_percent),\n",
        "    tf.constant(train_labels_10_percent),epochs=5,validation_data=(val_sentences,val_labels)),\n"
      ]
    },
    {
      "cell_type": "code",
      "execution_count": 337,
      "metadata": {
        "colab": {
          "base_uri": "https://localhost:8080/"
        },
        "id": "6UszI_gt116a",
        "outputId": "bdf65a00-2099-4949-aa9a-ee9c18c1dfd1"
      },
      "outputs": [
        {
          "name": "stdout",
          "output_type": "stream",
          "text": [
            "24/24 [==============================] - 1s 10ms/step\n"
          ]
        }
      ],
      "source": [
        "model_7_pred_probs=model_7.predict(val_sentences)\n",
        "model_7_preds=tf.squeeze(tf.round(model_7_pred_probs))\n",
        "model_7_results=calculate_results(val_labels,model_7_preds)"
      ]
    },
    {
      "cell_type": "code",
      "execution_count": 338,
      "metadata": {
        "id": "VfF8Ru5ewa4g"
      },
      "outputs": [],
      "source": [
        "all_model_results =pd.DataFrame({\n",
        "    \"baseline\":baseline_results,\n",
        "    \"01_simple_dense\":model_1_results,\n",
        "    \"02_LTSM\":model_2_results,\n",
        "    \"03_GRU\":model_3_results,\n",
        "    \"04_bidirectional\":model_4_results,\n",
        "    \"05_Conv1D\":model_5_results,\n",
        "    \"06_tf_hub_use_encoder\":model_6_results,\n",
        "    \"07_tf_hub_use_encoder_10_percent\":model_7_results\n",
        "})"
      ]
    },
    {
      "cell_type": "code",
      "execution_count": 339,
      "metadata": {
        "id": "gwkUz1WByZNt"
      },
      "outputs": [],
      "source": [
        "all_model_results=all_model_results.transpose()"
      ]
    },
    {
      "cell_type": "code",
      "execution_count": 340,
      "metadata": {
        "id": "f2noIGYeydou"
      },
      "outputs": [],
      "source": [
        "all_model_results[\"accuracy\"] = all_model_results[\"accuracy\"]/100"
      ]
    },
    {
      "cell_type": "code",
      "execution_count": 341,
      "metadata": {
        "colab": {
          "base_uri": "https://localhost:8080/",
          "height": 300
        },
        "id": "NXSBOHMX2G1E",
        "outputId": "c3da712d-3938-48f4-ee33-b0ef080b977f"
      },
      "outputs": [
        {
          "data": {
            "application/vnd.google.colaboratory.intrinsic+json": {
              "summary": "{\n  \"name\": \"all_model_results\",\n  \"rows\": 8,\n  \"fields\": [\n    {\n      \"column\": \"accuracy\",\n      \"properties\": {\n        \"dtype\": \"number\",\n        \"std\": 0.018465371048847146,\n        \"min\": 0.7545931758530183,\n        \"max\": 0.8123359580052494,\n        \"num_unique_values\": 7,\n        \"samples\": [\n          0.7926509186351706,\n          0.7769028871391076,\n          0.8123359580052494\n        ],\n        \"semantic_type\": \"\",\n        \"description\": \"\"\n      }\n    },\n    {\n      \"column\": \"precision\",\n      \"properties\": {\n        \"dtype\": \"number\",\n        \"std\": 0.021944146170278542,\n        \"min\": 0.754186285276044,\n        \"max\": 0.8148798668657973,\n        \"num_unique_values\": 7,\n        \"samples\": [\n          0.8111390004213173,\n          0.7798819103655997,\n          0.8148798668657973\n        ],\n        \"semantic_type\": \"\",\n        \"description\": \"\"\n      }\n    },\n    {\n      \"column\": \"recall\",\n      \"properties\": {\n        \"dtype\": \"number\",\n        \"std\": 0.018465371048847146,\n        \"min\": 0.7545931758530183,\n        \"max\": 0.8123359580052494,\n        \"num_unique_values\": 7,\n        \"samples\": [\n          0.7926509186351706,\n          0.7769028871391076,\n          0.8123359580052494\n        ],\n        \"semantic_type\": \"\",\n        \"description\": \"\"\n      }\n    },\n    {\n      \"column\": \"f1\",\n      \"properties\": {\n        \"dtype\": \"number\",\n        \"std\": 0.017737688525575158,\n        \"min\": 0.7542315016665913,\n        \"max\": 0.810686575717776,\n        \"num_unique_values\": 7,\n        \"samples\": [\n          0.7862189758049549,\n          0.7743498017353971,\n          0.810686575717776\n        ],\n        \"semantic_type\": \"\",\n        \"description\": \"\"\n      }\n    }\n  ]\n}",
              "type": "dataframe",
              "variable_name": "all_model_results"
            },
            "text/html": [
              "\n",
              "  <div id=\"df-595a6b95-68ba-4606-bc20-2910baac14d6\" class=\"colab-df-container\">\n",
              "    <div>\n",
              "<style scoped>\n",
              "    .dataframe tbody tr th:only-of-type {\n",
              "        vertical-align: middle;\n",
              "    }\n",
              "\n",
              "    .dataframe tbody tr th {\n",
              "        vertical-align: top;\n",
              "    }\n",
              "\n",
              "    .dataframe thead th {\n",
              "        text-align: right;\n",
              "    }\n",
              "</style>\n",
              "<table border=\"1\" class=\"dataframe\">\n",
              "  <thead>\n",
              "    <tr style=\"text-align: right;\">\n",
              "      <th></th>\n",
              "      <th>accuracy</th>\n",
              "      <th>precision</th>\n",
              "      <th>recall</th>\n",
              "      <th>f1</th>\n",
              "    </tr>\n",
              "  </thead>\n",
              "  <tbody>\n",
              "    <tr>\n",
              "      <th>baseline</th>\n",
              "      <td>0.792651</td>\n",
              "      <td>0.811139</td>\n",
              "      <td>0.792651</td>\n",
              "      <td>0.786219</td>\n",
              "    </tr>\n",
              "    <tr>\n",
              "      <th>01_simple_dense</th>\n",
              "      <td>0.776903</td>\n",
              "      <td>0.779882</td>\n",
              "      <td>0.776903</td>\n",
              "      <td>0.774350</td>\n",
              "    </tr>\n",
              "    <tr>\n",
              "      <th>02_LTSM</th>\n",
              "      <td>0.763780</td>\n",
              "      <td>0.765465</td>\n",
              "      <td>0.763780</td>\n",
              "      <td>0.761502</td>\n",
              "    </tr>\n",
              "    <tr>\n",
              "      <th>03_GRU</th>\n",
              "      <td>0.776903</td>\n",
              "      <td>0.779882</td>\n",
              "      <td>0.776903</td>\n",
              "      <td>0.774350</td>\n",
              "    </tr>\n",
              "    <tr>\n",
              "      <th>04_bidirectional</th>\n",
              "      <td>0.754593</td>\n",
              "      <td>0.754186</td>\n",
              "      <td>0.754593</td>\n",
              "      <td>0.754232</td>\n",
              "    </tr>\n",
              "    <tr>\n",
              "      <th>05_Conv1D</th>\n",
              "      <td>0.762467</td>\n",
              "      <td>0.762242</td>\n",
              "      <td>0.762467</td>\n",
              "      <td>0.761523</td>\n",
              "    </tr>\n",
              "    <tr>\n",
              "      <th>06_tf_hub_use_encoder</th>\n",
              "      <td>0.812336</td>\n",
              "      <td>0.814880</td>\n",
              "      <td>0.812336</td>\n",
              "      <td>0.810687</td>\n",
              "    </tr>\n",
              "    <tr>\n",
              "      <th>07_tf_hub_use_encoder_10_percent</th>\n",
              "      <td>0.779528</td>\n",
              "      <td>0.781115</td>\n",
              "      <td>0.779528</td>\n",
              "      <td>0.777651</td>\n",
              "    </tr>\n",
              "  </tbody>\n",
              "</table>\n",
              "</div>\n",
              "    <div class=\"colab-df-buttons\">\n",
              "\n",
              "  <div class=\"colab-df-container\">\n",
              "    <button class=\"colab-df-convert\" onclick=\"convertToInteractive('df-595a6b95-68ba-4606-bc20-2910baac14d6')\"\n",
              "            title=\"Convert this dataframe to an interactive table.\"\n",
              "            style=\"display:none;\">\n",
              "\n",
              "  <svg xmlns=\"http://www.w3.org/2000/svg\" height=\"24px\" viewBox=\"0 -960 960 960\">\n",
              "    <path d=\"M120-120v-720h720v720H120Zm60-500h600v-160H180v160Zm220 220h160v-160H400v160Zm0 220h160v-160H400v160ZM180-400h160v-160H180v160Zm440 0h160v-160H620v160ZM180-180h160v-160H180v160Zm440 0h160v-160H620v160Z\"/>\n",
              "  </svg>\n",
              "    </button>\n",
              "\n",
              "  <style>\n",
              "    .colab-df-container {\n",
              "      display:flex;\n",
              "      gap: 12px;\n",
              "    }\n",
              "\n",
              "    .colab-df-convert {\n",
              "      background-color: #E8F0FE;\n",
              "      border: none;\n",
              "      border-radius: 50%;\n",
              "      cursor: pointer;\n",
              "      display: none;\n",
              "      fill: #1967D2;\n",
              "      height: 32px;\n",
              "      padding: 0 0 0 0;\n",
              "      width: 32px;\n",
              "    }\n",
              "\n",
              "    .colab-df-convert:hover {\n",
              "      background-color: #E2EBFA;\n",
              "      box-shadow: 0px 1px 2px rgba(60, 64, 67, 0.3), 0px 1px 3px 1px rgba(60, 64, 67, 0.15);\n",
              "      fill: #174EA6;\n",
              "    }\n",
              "\n",
              "    .colab-df-buttons div {\n",
              "      margin-bottom: 4px;\n",
              "    }\n",
              "\n",
              "    [theme=dark] .colab-df-convert {\n",
              "      background-color: #3B4455;\n",
              "      fill: #D2E3FC;\n",
              "    }\n",
              "\n",
              "    [theme=dark] .colab-df-convert:hover {\n",
              "      background-color: #434B5C;\n",
              "      box-shadow: 0px 1px 3px 1px rgba(0, 0, 0, 0.15);\n",
              "      filter: drop-shadow(0px 1px 2px rgba(0, 0, 0, 0.3));\n",
              "      fill: #FFFFFF;\n",
              "    }\n",
              "  </style>\n",
              "\n",
              "    <script>\n",
              "      const buttonEl =\n",
              "        document.querySelector('#df-595a6b95-68ba-4606-bc20-2910baac14d6 button.colab-df-convert');\n",
              "      buttonEl.style.display =\n",
              "        google.colab.kernel.accessAllowed ? 'block' : 'none';\n",
              "\n",
              "      async function convertToInteractive(key) {\n",
              "        const element = document.querySelector('#df-595a6b95-68ba-4606-bc20-2910baac14d6');\n",
              "        const dataTable =\n",
              "          await google.colab.kernel.invokeFunction('convertToInteractive',\n",
              "                                                    [key], {});\n",
              "        if (!dataTable) return;\n",
              "\n",
              "        const docLinkHtml = 'Like what you see? Visit the ' +\n",
              "          '<a target=\"_blank\" href=https://colab.research.google.com/notebooks/data_table.ipynb>data table notebook</a>'\n",
              "          + ' to learn more about interactive tables.';\n",
              "        element.innerHTML = '';\n",
              "        dataTable['output_type'] = 'display_data';\n",
              "        await google.colab.output.renderOutput(dataTable, element);\n",
              "        const docLink = document.createElement('div');\n",
              "        docLink.innerHTML = docLinkHtml;\n",
              "        element.appendChild(docLink);\n",
              "      }\n",
              "    </script>\n",
              "  </div>\n",
              "\n",
              "\n",
              "<div id=\"df-a9978eca-188e-4a49-a014-bd1925766b65\">\n",
              "  <button class=\"colab-df-quickchart\" onclick=\"quickchart('df-a9978eca-188e-4a49-a014-bd1925766b65')\"\n",
              "            title=\"Suggest charts\"\n",
              "            style=\"display:none;\">\n",
              "\n",
              "<svg xmlns=\"http://www.w3.org/2000/svg\" height=\"24px\"viewBox=\"0 0 24 24\"\n",
              "     width=\"24px\">\n",
              "    <g>\n",
              "        <path d=\"M19 3H5c-1.1 0-2 .9-2 2v14c0 1.1.9 2 2 2h14c1.1 0 2-.9 2-2V5c0-1.1-.9-2-2-2zM9 17H7v-7h2v7zm4 0h-2V7h2v10zm4 0h-2v-4h2v4z\"/>\n",
              "    </g>\n",
              "</svg>\n",
              "  </button>\n",
              "\n",
              "<style>\n",
              "  .colab-df-quickchart {\n",
              "      --bg-color: #E8F0FE;\n",
              "      --fill-color: #1967D2;\n",
              "      --hover-bg-color: #E2EBFA;\n",
              "      --hover-fill-color: #174EA6;\n",
              "      --disabled-fill-color: #AAA;\n",
              "      --disabled-bg-color: #DDD;\n",
              "  }\n",
              "\n",
              "  [theme=dark] .colab-df-quickchart {\n",
              "      --bg-color: #3B4455;\n",
              "      --fill-color: #D2E3FC;\n",
              "      --hover-bg-color: #434B5C;\n",
              "      --hover-fill-color: #FFFFFF;\n",
              "      --disabled-bg-color: #3B4455;\n",
              "      --disabled-fill-color: #666;\n",
              "  }\n",
              "\n",
              "  .colab-df-quickchart {\n",
              "    background-color: var(--bg-color);\n",
              "    border: none;\n",
              "    border-radius: 50%;\n",
              "    cursor: pointer;\n",
              "    display: none;\n",
              "    fill: var(--fill-color);\n",
              "    height: 32px;\n",
              "    padding: 0;\n",
              "    width: 32px;\n",
              "  }\n",
              "\n",
              "  .colab-df-quickchart:hover {\n",
              "    background-color: var(--hover-bg-color);\n",
              "    box-shadow: 0 1px 2px rgba(60, 64, 67, 0.3), 0 1px 3px 1px rgba(60, 64, 67, 0.15);\n",
              "    fill: var(--button-hover-fill-color);\n",
              "  }\n",
              "\n",
              "  .colab-df-quickchart-complete:disabled,\n",
              "  .colab-df-quickchart-complete:disabled:hover {\n",
              "    background-color: var(--disabled-bg-color);\n",
              "    fill: var(--disabled-fill-color);\n",
              "    box-shadow: none;\n",
              "  }\n",
              "\n",
              "  .colab-df-spinner {\n",
              "    border: 2px solid var(--fill-color);\n",
              "    border-color: transparent;\n",
              "    border-bottom-color: var(--fill-color);\n",
              "    animation:\n",
              "      spin 1s steps(1) infinite;\n",
              "  }\n",
              "\n",
              "  @keyframes spin {\n",
              "    0% {\n",
              "      border-color: transparent;\n",
              "      border-bottom-color: var(--fill-color);\n",
              "      border-left-color: var(--fill-color);\n",
              "    }\n",
              "    20% {\n",
              "      border-color: transparent;\n",
              "      border-left-color: var(--fill-color);\n",
              "      border-top-color: var(--fill-color);\n",
              "    }\n",
              "    30% {\n",
              "      border-color: transparent;\n",
              "      border-left-color: var(--fill-color);\n",
              "      border-top-color: var(--fill-color);\n",
              "      border-right-color: var(--fill-color);\n",
              "    }\n",
              "    40% {\n",
              "      border-color: transparent;\n",
              "      border-right-color: var(--fill-color);\n",
              "      border-top-color: var(--fill-color);\n",
              "    }\n",
              "    60% {\n",
              "      border-color: transparent;\n",
              "      border-right-color: var(--fill-color);\n",
              "    }\n",
              "    80% {\n",
              "      border-color: transparent;\n",
              "      border-right-color: var(--fill-color);\n",
              "      border-bottom-color: var(--fill-color);\n",
              "    }\n",
              "    90% {\n",
              "      border-color: transparent;\n",
              "      border-bottom-color: var(--fill-color);\n",
              "    }\n",
              "  }\n",
              "</style>\n",
              "\n",
              "  <script>\n",
              "    async function quickchart(key) {\n",
              "      const quickchartButtonEl =\n",
              "        document.querySelector('#' + key + ' button');\n",
              "      quickchartButtonEl.disabled = true;  // To prevent multiple clicks.\n",
              "      quickchartButtonEl.classList.add('colab-df-spinner');\n",
              "      try {\n",
              "        const charts = await google.colab.kernel.invokeFunction(\n",
              "            'suggestCharts', [key], {});\n",
              "      } catch (error) {\n",
              "        console.error('Error during call to suggestCharts:', error);\n",
              "      }\n",
              "      quickchartButtonEl.classList.remove('colab-df-spinner');\n",
              "      quickchartButtonEl.classList.add('colab-df-quickchart-complete');\n",
              "    }\n",
              "    (() => {\n",
              "      let quickchartButtonEl =\n",
              "        document.querySelector('#df-a9978eca-188e-4a49-a014-bd1925766b65 button');\n",
              "      quickchartButtonEl.style.display =\n",
              "        google.colab.kernel.accessAllowed ? 'block' : 'none';\n",
              "    })();\n",
              "  </script>\n",
              "</div>\n",
              "\n",
              "  <div id=\"id_d465e75c-8af1-4cae-9c00-02bc2fef8308\">\n",
              "    <style>\n",
              "      .colab-df-generate {\n",
              "        background-color: #E8F0FE;\n",
              "        border: none;\n",
              "        border-radius: 50%;\n",
              "        cursor: pointer;\n",
              "        display: none;\n",
              "        fill: #1967D2;\n",
              "        height: 32px;\n",
              "        padding: 0 0 0 0;\n",
              "        width: 32px;\n",
              "      }\n",
              "\n",
              "      .colab-df-generate:hover {\n",
              "        background-color: #E2EBFA;\n",
              "        box-shadow: 0px 1px 2px rgba(60, 64, 67, 0.3), 0px 1px 3px 1px rgba(60, 64, 67, 0.15);\n",
              "        fill: #174EA6;\n",
              "      }\n",
              "\n",
              "      [theme=dark] .colab-df-generate {\n",
              "        background-color: #3B4455;\n",
              "        fill: #D2E3FC;\n",
              "      }\n",
              "\n",
              "      [theme=dark] .colab-df-generate:hover {\n",
              "        background-color: #434B5C;\n",
              "        box-shadow: 0px 1px 3px 1px rgba(0, 0, 0, 0.15);\n",
              "        filter: drop-shadow(0px 1px 2px rgba(0, 0, 0, 0.3));\n",
              "        fill: #FFFFFF;\n",
              "      }\n",
              "    </style>\n",
              "    <button class=\"colab-df-generate\" onclick=\"generateWithVariable('all_model_results')\"\n",
              "            title=\"Generate code using this dataframe.\"\n",
              "            style=\"display:none;\">\n",
              "\n",
              "  <svg xmlns=\"http://www.w3.org/2000/svg\" height=\"24px\"viewBox=\"0 0 24 24\"\n",
              "       width=\"24px\">\n",
              "    <path d=\"M7,19H8.4L18.45,9,17,7.55,7,17.6ZM5,21V16.75L18.45,3.32a2,2,0,0,1,2.83,0l1.4,1.43a1.91,1.91,0,0,1,.58,1.4,1.91,1.91,0,0,1-.58,1.4L9.25,21ZM18.45,9,17,7.55Zm-12,3A5.31,5.31,0,0,0,4.9,8.1,5.31,5.31,0,0,0,1,6.5,5.31,5.31,0,0,0,4.9,4.9,5.31,5.31,0,0,0,6.5,1,5.31,5.31,0,0,0,8.1,4.9,5.31,5.31,0,0,0,12,6.5,5.46,5.46,0,0,0,6.5,12Z\"/>\n",
              "  </svg>\n",
              "    </button>\n",
              "    <script>\n",
              "      (() => {\n",
              "      const buttonEl =\n",
              "        document.querySelector('#id_d465e75c-8af1-4cae-9c00-02bc2fef8308 button.colab-df-generate');\n",
              "      buttonEl.style.display =\n",
              "        google.colab.kernel.accessAllowed ? 'block' : 'none';\n",
              "\n",
              "      buttonEl.onclick = () => {\n",
              "        google.colab.notebook.generateWithVariable('all_model_results');\n",
              "      }\n",
              "      })();\n",
              "    </script>\n",
              "  </div>\n",
              "\n",
              "    </div>\n",
              "  </div>\n"
            ],
            "text/plain": [
              "                                  accuracy  precision    recall        f1\n",
              "baseline                          0.792651   0.811139  0.792651  0.786219\n",
              "01_simple_dense                   0.776903   0.779882  0.776903  0.774350\n",
              "02_LTSM                           0.763780   0.765465  0.763780  0.761502\n",
              "03_GRU                            0.776903   0.779882  0.776903  0.774350\n",
              "04_bidirectional                  0.754593   0.754186  0.754593  0.754232\n",
              "05_Conv1D                         0.762467   0.762242  0.762467  0.761523\n",
              "06_tf_hub_use_encoder             0.812336   0.814880  0.812336  0.810687\n",
              "07_tf_hub_use_encoder_10_percent  0.779528   0.781115  0.779528  0.777651"
            ]
          },
          "execution_count": 341,
          "metadata": {},
          "output_type": "execute_result"
        }
      ],
      "source": [
        "all_model_results"
      ]
    },
    {
      "cell_type": "code",
      "execution_count": 342,
      "metadata": {
        "colab": {
          "base_uri": "https://localhost:8080/",
          "height": 576
        },
        "id": "VZesuQYo2Qhu",
        "outputId": "0cecd780-b41c-4dbb-f08f-48c3503d9570"
      },
      "outputs": [
        {
          "data": {
            "text/plain": [
              "<matplotlib.legend.Legend at 0x7bffb646b850>"
            ]
          },
          "execution_count": 342,
          "metadata": {},
          "output_type": "execute_result"
        },
        {
          "data": {
            "image/png": "[encoded data removed]",
            "text/plain": [
              "<Figure size 1000x700 with 1 Axes>"
            ]
          },
          "metadata": {},
          "output_type": "display_data"
        }
      ],
      "source": [
        "all_model_results.plot(kind=\"bar\",figsize=(10,7)).legend(bbox_to_anchor=(1.,1.))"
      ]
    },
    {
      "cell_type": "code",
      "execution_count": 343,
      "metadata": {
        "colab": {
          "base_uri": "https://localhost:8080/",
          "height": 655
        },
        "id": "LLtUaKB02fwr",
        "outputId": "3ac524d4-d590-426d-86a3-431506c56e63"
      },
      "outputs": [
        {
          "data": {
            "text/plain": [
              "<Axes: >"
            ]
          },
          "execution_count": 343,
          "metadata": {},
          "output_type": "execute_result"
        },
        {
          "data": {
            "image/png": "[encoded data removed]",
            "text/plain": [
              "<Figure size 1000x700 with 1 Axes>"
            ]
          },
          "metadata": {},
          "output_type": "display_data"
        }
      ],
      "source": [
        "all_model_results.sort_values('f1',ascending=False)[\"f1\"].plot(kind=\"bar\",figsize=(10,7))"
      ]
    },
    {
      "cell_type": "code",
      "execution_count": 344,
      "metadata": {
        "colab": {
          "base_uri": "https://localhost:8080/"
        },
        "id": "7yp-PpJw3Ebl",
        "outputId": "bb95ea15-dbc2-4f85-e3fc-76ca9016b8ca"
      },
      "outputs": [
        {
          "name": "stdout",
          "output_type": "stream",
          "text": [
            "tf_keras.src.callbacks\n"
          ]
        }
      ],
      "source": [
        "\n",
        "print(keras.callbacks.TensorBoard.__module__)  # Check TensorBoard callback module"
      ]
    },
    {
      "cell_type": "code",
      "execution_count": 345,
      "metadata": {
        "colab": {
          "base_uri": "https://localhost:8080/"
        },
        "id": "V-eZVNDW5cZ3",
        "outputId": "d5c5cda1-ed0d-414a-c9f4-56e71c127753"
      },
      "outputs": [
        {
          "name": "stderr",
          "output_type": "stream",
          "text": [
            "/usr/local/lib/python3.10/dist-packages/tf_keras/src/engine/training.py:3098: UserWarning: You are saving your model as an HDF5 file via `model.save()`. This file format is considered legacy. We recommend using instead the native TF-Keras format, e.g. `model.save('my_model.keras')`.\n",
            "  saving_api.save_model(\n"
          ]
        }
      ],
      "source": [
        "model_6.save(\"model_6.h5\")"
      ]
    },
    {
      "cell_type": "code",
      "execution_count": 347,
      "metadata": {
        "id": "dwcNgwOp_StY"
      },
      "outputs": [],
      "source": [
        "version_fn = getattr(tf.keras, \"version\", None)\n",
        "if version_fn and version_fn().startswith(\"3.\"):\n",
        "  import tf_keras as keras\n",
        "else:\n",
        "  keras = tf.keras"
      ]
    },
    {
      "cell_type": "code",
      "execution_count": 349,
      "metadata": {
        "id": "rKUGviyf-ogO"
      },
      "outputs": [],
      "source": [
        "loaded_model_6=keras.models.load_model(\"model_6.h5\",custom_objects={\"KerasLayer\":hub.KerasLayer})"
      ]
    },
    {
      "cell_type": "code",
      "execution_count": 351,
      "metadata": {
        "colab": {
          "base_uri": "https://localhost:8080/"
        },
        "id": "LQrLfJ9T_k5k",
        "outputId": "6ebe36cb-3ff0-4fbd-cc30-6f4e185bab8a"
      },
      "outputs": [
        {
          "data": {
            "text/plain": [
              "{'accuracy': 81.23359580052494,\n",
              " 'precision': 0.8148798668657973,\n",
              " 'recall': 0.8123359580052494,\n",
              " 'f1': 0.810686575717776}"
            ]
          },
          "execution_count": 351,
          "metadata": {},
          "output_type": "execute_result"
        }
      ],
      "source": [
        "model_6_results"
      ]
    },
    {
      "cell_type": "code",
      "execution_count": 350,
      "metadata": {
        "colab": {
          "base_uri": "https://localhost:8080/"
        },
        "id": "xcZBmf_L_J7t",
        "outputId": "e048cb1b-5c9f-477a-e61e-59a877ce9912"
      },
      "outputs": [
        {
          "name": "stdout",
          "output_type": "stream",
          "text": [
            "24/24 [==============================] - 1s 9ms/step - loss: 0.4299 - accuracy: 0.8123\n"
          ]
        },
        {
          "data": {
            "text/plain": [
              "[0.4299352169036865, 0.8123359680175781]"
            ]
          },
          "execution_count": 350,
          "metadata": {},
          "output_type": "execute_result"
        }
      ],
      "source": [
        "loaded_model_6.evaluate(val_sentences,val_labels)"
      ]
    },
    {
      "cell_type": "code",
      "execution_count": 352,
      "metadata": {
        "id": "1Ec86Ygm_jZH"
      },
      "outputs": [],
      "source": [
        "model_6.save(\"model_6_savedModel_format\")"
      ]
    },
    {
      "cell_type": "code",
      "execution_count": 355,
      "metadata": {
        "id": "wLcMgPM-_9ce"
      },
      "outputs": [],
      "source": [
        "loaded_model_6_smf = keras.models.load_model(\"model_6_savedModel_format\")"
      ]
    },
    {
      "cell_type": "code",
      "execution_count": 356,
      "metadata": {
        "colab": {
          "base_uri": "https://localhost:8080/"
        },
        "id": "oQCjdQ_dAQVA",
        "outputId": "80306fc6-47d7-4836-8793-62c3861a639c"
      },
      "outputs": [
        {
          "name": "stdout",
          "output_type": "stream",
          "text": [
            "24/24 [==============================] - 1s 9ms/step - loss: 0.4299 - accuracy: 0.8123\n"
          ]
        },
        {
          "data": {
            "text/plain": [
              "[0.4299352169036865, 0.8123359680175781]"
            ]
          },
          "execution_count": 356,
          "metadata": {},
          "output_type": "execute_result"
        }
      ],
      "source": [
        "loaded_model_6_smf.evaluate(val_sentences,val_labels)"
      ]
    },
    {
      "cell_type": "code",
      "execution_count": 357,
      "metadata": {
        "id": "n9PKiKi1AhHz"
      },
      "outputs": [],
      "source": [
        "from google.colab import files"
      ]
    },
    {
      "cell_type": "code",
      "execution_count": 358,
      "metadata": {
        "colab": {
          "base_uri": "https://localhost:8080/",
          "height": 34
        },
        "id": "oae5WPTRBabz",
        "outputId": "9b283850-5985-4b1d-ffd2-5c2d896e786d"
      },
      "outputs": [
        {
          "data": {
            "application/javascript": "\n    async function download(id, filename, size) {\n      if (!google.colab.kernel.accessAllowed) {\n        return;\n      }\n      const div = document.createElement('div');\n      const label = document.createElement('label');\n      label.textContent = `Downloading \"${filename}\": `;\n      div.appendChild(label);\n      const progress = document.createElement('progress');\n      progress.max = size;\n      div.appendChild(progress);\n      document.body.appendChild(div);\n\n      const buffers = [];\n      let downloaded = 0;\n\n      const channel = await google.colab.kernel.comms.open(id);\n      // Send a message to notify the kernel that we're ready.\n      channel.send({})\n\n      for await (const message of channel.messages) {\n        // Send a message to notify the kernel that we're ready.\n        channel.send({})\n        if (message.buffers) {\n          for (const buffer of message.buffers) {\n            buffers.push(buffer);\n            downloaded += buffer.byteLength;\n            progress.value = downloaded;\n          }\n        }\n      }\n      const blob = new Blob(buffers, {type: 'application/binary'});\n      const a = document.createElement('a');\n      a.href = window.URL.createObjectURL(blob);\n      a.download = filename;\n      div.appendChild(a);\n      a.click();\n      div.remove();\n    }\n  ",
            "text/plain": [
              "<IPython.core.display.Javascript object>"
            ]
          },
          "metadata": {},
          "output_type": "display_data"
        },
        {
          "data": {
            "application/javascript": "download(\"download_65f7be57-5d2a-4b6f-9bb9-6d9cfbf40eee\", \"\", 4096)",
            "text/plain": [
              "<IPython.core.display.Javascript object>"
            ]
          },
          "metadata": {},
          "output_type": "display_data"
        }
      ],
      "source": [
        "files.download('./')"
      ]
    },
    {
      "cell_type": "code",
      "execution_count": 360,
      "metadata": {
        "colab": {
          "base_uri": "https://localhost:8080/",
          "height": 332
        },
        "id": "_MLYR-g2BcVi",
        "outputId": "1f4215e9-a8b9-4ff4-81d9-39e07f571e35"
      },
      "outputs": [
        {
          "ename": "FileNotFoundError",
          "evalue": "Cannot find file: ./notebook.ipynb",
          "output_type": "error",
          "traceback": [
            "\u001b[0;31m---------------------------------------------------------------------------\u001b[0m",
            "\u001b[0;31mFileNotFoundError\u001b[0m                         Traceback (most recent call last)",
            "\u001b[0;32m<ipython-input-360-89435c289f2d>\u001b[0m in \u001b[0;36m<cell line: 1>\u001b[0;34m()\u001b[0m\n\u001b[0;32m----> 1\u001b[0;31m \u001b[0mfiles\u001b[0m\u001b[0;34m.\u001b[0m\u001b[0mdownload\u001b[0m\u001b[0;34m(\u001b[0m\u001b[0;34m'./notebook.ipynb'\u001b[0m\u001b[0;34m)\u001b[0m\u001b[0;34m\u001b[0m\u001b[0;34m\u001b[0m\u001b[0m\n\u001b[0m",
            "\u001b[0;32m/usr/local/lib/python3.10/dist-packages/google/colab/files.py\u001b[0m in \u001b[0;36mdownload\u001b[0;34m(filename)\u001b[0m\n\u001b[1;32m    223\u001b[0m   \u001b[0;32mif\u001b[0m \u001b[0;32mnot\u001b[0m \u001b[0m_os\u001b[0m\u001b[0;34m.\u001b[0m\u001b[0mpath\u001b[0m\u001b[0;34m.\u001b[0m\u001b[0mexists\u001b[0m\u001b[0;34m(\u001b[0m\u001b[0mfilename\u001b[0m\u001b[0;34m)\u001b[0m\u001b[0;34m:\u001b[0m\u001b[0;34m\u001b[0m\u001b[0;34m\u001b[0m\u001b[0m\n\u001b[1;32m    224\u001b[0m     \u001b[0mmsg\u001b[0m \u001b[0;34m=\u001b[0m \u001b[0;34m'Cannot find file: {}'\u001b[0m\u001b[0;34m.\u001b[0m\u001b[0mformat\u001b[0m\u001b[0;34m(\u001b[0m\u001b[0mfilename\u001b[0m\u001b[0;34m)\u001b[0m\u001b[0;34m\u001b[0m\u001b[0;34m\u001b[0m\u001b[0m\n\u001b[0;32m--> 225\u001b[0;31m     \u001b[0;32mraise\u001b[0m \u001b[0mFileNotFoundError\u001b[0m\u001b[0;34m(\u001b[0m\u001b[0mmsg\u001b[0m\u001b[0;34m)\u001b[0m  \u001b[0;31m# pylint: disable=undefined-variable\u001b[0m\u001b[0;34m\u001b[0m\u001b[0;34m\u001b[0m\u001b[0m\n\u001b[0m\u001b[1;32m    226\u001b[0m \u001b[0;34m\u001b[0m\u001b[0m\n\u001b[1;32m    227\u001b[0m   \u001b[0mcomm_manager\u001b[0m \u001b[0;34m=\u001b[0m \u001b[0m_IPython\u001b[0m\u001b[0;34m.\u001b[0m\u001b[0mget_ipython\u001b[0m\u001b[0;34m(\u001b[0m\u001b[0;34m)\u001b[0m\u001b[0;34m.\u001b[0m\u001b[0mkernel\u001b[0m\u001b[0;34m.\u001b[0m\u001b[0mcomm_manager\u001b[0m\u001b[0;34m\u001b[0m\u001b[0;34m\u001b[0m\u001b[0m\n",
            "\u001b[0;31mFileNotFoundError\u001b[0m: Cannot find file: ./notebook.ipynb"
          ]
        }
      ],
      "source": [
        "files.download('./notebook.ipynb')"
      ]
    },
    {
      "cell_type": "code",
      "execution_count": null,
      "metadata": {
        "id": "V38FyHO6Bp10"
      },
      "outputs": [],
      "source": []
    }
  ],
  "metadata": {
    "accelerator": "GPU",
    "colab": {
      "gpuType": "T4",
      "provenance": []
    },
    "kernelspec": {
      "display_name": "Python 3 (ipykernel)",
      "language": "python",
      "name": "python3"
    }
  },
  "nbformat": 4,
  "nbformat_minor": 0
}
